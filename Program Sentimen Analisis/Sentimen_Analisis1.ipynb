{
  "nbformat": 4,
  "nbformat_minor": 0,
  "metadata": {
    "colab": {
      "name": "Sentimen_Analisis1.ipynb",
      "provenance": [],
      "collapsed_sections": []
    },
    "kernelspec": {
      "display_name": "Python 3",
      "name": "python3"
    },
    "language_info": {
      "name": "python"
    }
  },
  "cells": [
    {
      "cell_type": "code",
      "metadata": {
        "id": "FZwfoIErtuNg"
      },
      "source": [
        "# pip install google-play-scraper"
      ],
      "execution_count": 1,
      "outputs": []
    },
    {
      "cell_type": "code",
      "metadata": {
        "id": "xXj7x4Nzfq-w"
      },
      "source": [
        "# from google_play_scraper import Sort, reviews, app\n",
        "# import json\n",
        "# from tqdm import tqdm"
      ],
      "execution_count": 2,
      "outputs": []
    },
    {
      "cell_type": "code",
      "metadata": {
        "id": "fcyV88Z7H5VV"
      },
      "source": [
        "# app_packages = ['com.deepcovid19']\n",
        "\n",
        "# app_reviews = []\n",
        "\n",
        "# for ap in tqdm(app_packages):\n",
        "#   for score in list(range(1, 6)):\n",
        "#     for sort_order in [Sort.MOST_RELEVANT, Sort.NEWEST]:\n",
        "#       rvs, _ = reviews(\n",
        "#         ap,\n",
        "#         lang='id',\n",
        "#         country='id',\n",
        "#         sort=sort_order,\n",
        "#         count= 200 if score == 3 else 100,\n",
        "#         filter_score_with=score\n",
        "#       )\n",
        "#       for r in rvs:\n",
        "#         r['sortOrder'] = 'most_relevant' if sort_order == Sort.MOST_RELEVANT else 'newest'\n",
        "#         r['appId'] = ap\n",
        "#       app_reviews.extend(rvs)"
      ],
      "execution_count": 3,
      "outputs": []
    },
    {
      "cell_type": "code",
      "metadata": {
        "id": "W8IxvKU3I6Mk"
      },
      "source": [
        "import pandas as pd\n",
        "# app_reviews_df = pd.DataFrame(app_reviews)\n",
        "# app_reviews_df.to_csv('dataaplikasicovid19.csv', index=None, header=True)\n",
        "# app_reviews_df"
      ],
      "execution_count": 4,
      "outputs": []
    },
    {
      "cell_type": "code",
      "metadata": {
        "id": "Rnh7I9VO2DUE"
      },
      "source": [
        "dabru = pd.read_csv('dataaplikasicovid19.csv')"
      ],
      "execution_count": 5,
      "outputs": []
    },
    {
      "cell_type": "code",
      "metadata": {
        "id": "u7K2sa3mJ4M8",
        "colab": {
          "base_uri": "https://localhost:8080/"
        },
        "outputId": "18110817-3ac6-47e9-90f5-8a92919b811e"
      },
      "source": [
        "databaru = dabru.iloc[:,3]\n",
        "databaru"
      ],
      "execution_count": 6,
      "outputs": [
        {
          "output_type": "execute_result",
          "data": {
            "text/plain": [
              "0      Aplikasi hanya menampilkan peta persebaran cov...\n",
              "1      Aplikasi sampah. Kementerian banyak buang uang...\n",
              "2      Info persebaran di peta gak valid samasekali. ...\n",
              "3      Ini apalah, aplikasi kayak gak berguna sama se...\n",
              "4      Tolong diperbaiki kinerja aplikasinya, banyak ...\n",
              "                             ...                        \n",
              "665                              Bermanfaat. Informatif.\n",
              "666                                               Siaaap\n",
              "667                                                Bagus\n",
              "668    Ada nya aplikasi ini semoga covit19 bisa hilan...\n",
              "669    Sangat membantu untuk mengetahui perkembangan ...\n",
              "Name: content, Length: 670, dtype: object"
            ]
          },
          "metadata": {},
          "execution_count": 6
        }
      ]
    },
    {
      "cell_type": "code",
      "metadata": {
        "id": "mc15H2eAXixf"
      },
      "source": [
        "# databaru.to_csv(\"databaru.csv\",index=None)"
      ],
      "execution_count": 7,
      "outputs": []
    },
    {
      "cell_type": "code",
      "metadata": {
        "colab": {
          "base_uri": "https://localhost:8080/",
          "height": 417
        },
        "id": "vWPGq-iV_OYE",
        "outputId": "9a681b9c-87a3-4009-c5e6-ea1824466d7a"
      },
      "source": [
        "slangS=pd.read_csv(\"/content/slangS (2).csv\",sep=\";\")\n",
        "slangS"
      ],
      "execution_count": 8,
      "outputs": [
        {
          "output_type": "execute_result",
          "data": {
            "text/html": [
              "<div>\n",
              "<style scoped>\n",
              "    .dataframe tbody tr th:only-of-type {\n",
              "        vertical-align: middle;\n",
              "    }\n",
              "\n",
              "    .dataframe tbody tr th {\n",
              "        vertical-align: top;\n",
              "    }\n",
              "\n",
              "    .dataframe thead th {\n",
              "        text-align: right;\n",
              "    }\n",
              "</style>\n",
              "<table border=\"1\" class=\"dataframe\">\n",
              "  <thead>\n",
              "    <tr style=\"text-align: right;\">\n",
              "      <th></th>\n",
              "      <th>slang</th>\n",
              "      <th>formal</th>\n",
              "    </tr>\n",
              "  </thead>\n",
              "  <tbody>\n",
              "    <tr>\n",
              "      <th>0</th>\n",
              "      <td>woww</td>\n",
              "      <td>wow</td>\n",
              "    </tr>\n",
              "    <tr>\n",
              "      <th>1</th>\n",
              "      <td>aminn</td>\n",
              "      <td>amin</td>\n",
              "    </tr>\n",
              "    <tr>\n",
              "      <th>2</th>\n",
              "      <td>met</td>\n",
              "      <td>selamat</td>\n",
              "    </tr>\n",
              "    <tr>\n",
              "      <th>3</th>\n",
              "      <td>netaas</td>\n",
              "      <td>menetas</td>\n",
              "    </tr>\n",
              "    <tr>\n",
              "      <th>4</th>\n",
              "      <td>keberpa</td>\n",
              "      <td>keberapa</td>\n",
              "    </tr>\n",
              "    <tr>\n",
              "      <th>...</th>\n",
              "      <td>...</td>\n",
              "      <td>...</td>\n",
              "    </tr>\n",
              "    <tr>\n",
              "      <th>15001</th>\n",
              "      <td>gataunya</td>\n",
              "      <td>tidak taunya</td>\n",
              "    </tr>\n",
              "    <tr>\n",
              "      <th>15002</th>\n",
              "      <td>gtau</td>\n",
              "      <td>tidak tau</td>\n",
              "    </tr>\n",
              "    <tr>\n",
              "      <th>15003</th>\n",
              "      <td>gatau</td>\n",
              "      <td>tidak tau</td>\n",
              "    </tr>\n",
              "    <tr>\n",
              "      <th>15004</th>\n",
              "      <td>fans2</td>\n",
              "      <td>fan-fan</td>\n",
              "    </tr>\n",
              "    <tr>\n",
              "      <th>15005</th>\n",
              "      <td>gaharus</td>\n",
              "      <td>tidak harus</td>\n",
              "    </tr>\n",
              "  </tbody>\n",
              "</table>\n",
              "<p>15006 rows × 2 columns</p>\n",
              "</div>"
            ],
            "text/plain": [
              "          slang        formal\n",
              "0          woww           wow\n",
              "1         aminn          amin\n",
              "2           met       selamat\n",
              "3        netaas       menetas\n",
              "4       keberpa      keberapa\n",
              "...         ...           ...\n",
              "15001  gataunya  tidak taunya\n",
              "15002      gtau     tidak tau\n",
              "15003     gatau     tidak tau\n",
              "15004     fans2       fan-fan\n",
              "15005   gaharus   tidak harus\n",
              "\n",
              "[15006 rows x 2 columns]"
            ]
          },
          "metadata": {},
          "execution_count": 8
        }
      ]
    },
    {
      "cell_type": "code",
      "metadata": {
        "id": "W7Jiz39VwLtt"
      },
      "source": [
        "a = slangS.to_dict('records')"
      ],
      "execution_count": 9,
      "outputs": []
    },
    {
      "cell_type": "code",
      "metadata": {
        "id": "q1oDMuwbwZ9j",
        "colab": {
          "base_uri": "https://localhost:8080/"
        },
        "outputId": "9b4380d7-4826-4aaa-d696-0c7e66729808"
      },
      "source": [
        "b = {}\n",
        "for i in a:\n",
        "  key1 = list(i.keys())[0]\n",
        "  key2 = list(i.keys())[1]\n",
        "  formal = i[key2]\n",
        "  slang = i[key1]\n",
        "  b[slang] = formal\n",
        "print(b)"
      ],
      "execution_count": 10,
      "outputs": [
        {
          "output_type": "stream",
          "name": "stdout",
          "text": [
            "{'woww': 'wow', 'aminn': 'amin', 'met': 'selamat', 'netaas': 'menetas', 'keberpa': 'keberapa', 'eeeehhhh': 'eh', 'kata2nyaaa': 'kata-katanya', 'hallo': 'halo', 'kaka': 'kakak', 'ka': 'kak', 'daah': 'dah', 'aaaaahhhh': 'ah', 'yaa': 'ya', 'smga': 'semoga', 'slalu': 'selalu', 'amiin': 'amin', 'kk': 'kakak', 'trus': 'terus', 'sii': 'sih', 'nyenengin': 'menyenangkan', 'bgt': 'banget', 'gemess': 'gemas', 'akuuu': 'aku', 'jgn': 'jangan', 'udah': 'sudah', 'gitu': 'begitu', 'aja': 'saja', 'gemesiin': 'menggemaskan', 'menyenangkn': 'menyenangkan', 'rb': 'ribu', 'akau': 'aku', 'saranin': 'menyarankan', 'nemuin': 'menemukan', 'yah': 'ya', 'mnis2nya': 'manis-manisnya', 'gtu': 'begitu', 'tu': 'itu', 'idolaa': 'idola', 'bangett': 'banget', 'kaakk': 'kak', 'baaiikkk': 'baik', 'telaatt': 'telat', 'kaak': 'kak', 'yg': 'yang', 'lg': 'lagi', 'skarang': 'sekarang', 'sempet': 'sempat', 'karna': 'karena', 'ngga': 'tidak', 'mantep': 'mantap', 'loohhh': 'loh', 'yeee': 'ya', 'baguuuuus': 'bagus', 'sampe': 'sampai', 'ngikutin': 'mengikuti', 'gayany': 'gayanya', 'bnk': 'bang', 'awaas': 'awas', 'siip': 'sip', 'abizzzz': 'habis', 'kerrrrennnn': 'keren', 'sayaa': 'saya', 'pengen': 'pengin', 'kpan': 'kapan', 'sma': 'sama', 'sdkit': 'sedikit', 'bngt': 'banget', 'lgu': 'lagu', 'bener2': 'benar-benar', 'kharismanya': 'karismanya', 'aq': 'aku', 'jdi': 'jadi', 'lgi': 'lagi', 'gk': 'tidak', 'kek': 'kayak', 'lgunya': 'lagunya', 'kereeeeennnn': 'keren', 'nyamain': 'menyamakan', 'lakik': 'laki', 'siippp': 'sip', 'bkn': 'bukan', 'nyangka': 'menyangka', 'bangettt': 'banget', 'kereeen': 'keren', 'wihhhhhh': 'wih', 'tp': 'tapi', 'inget': 'ingat', 'bingitsss': 'banget', 'dmn': 'dimana', 'bird': 'biru', 'kaloo': 'kalo', 'gimna': 'bagaimana', 'tuuh': 'tuh', 'nyebur': 'mencebur', 'yng': 'yang', 'dbuat': 'dibuat', 'kn': 'kan', 'org': 'orang', 'pingin': 'pengin', 'bangcat': 'bangsat', 'yha': 'ya', 'waoohhh': 'wah', 'pngn': 'pengin', 'tmpt': 'tempat', 'dhe': 'deh', 'indahhh': 'indah', 'bgttt': 'banget', 'tuhh': 'tuh', 'berarto': 'berarti', 'ga': 'tidak', 'aamiin': 'amin', 'amiiinn': 'amin', 'dgn': 'dengan', 'aminnnn2': 'amin-amin', 'amiiiin': 'amin', 'aminnn': 'amin', 'amiend': 'amien', 'yaaa': 'ya', 'ameen': 'amin', 'aminnnn': 'amin', 'amiiinnn': 'amin', 'ngomong': 'mengomong', 'mamer': 'memamerkan', 'keles': 'kali', 'jelase': 'jelas', 'liat': 'lihat', 'uwakk': 'uwak', 'ntar': 'entar', 'bs': 'bisa', 'gini': 'begini', 'salfok': 'salah fokus', 'njir': 'anjir', 'piiink': 'pink', 'astgfrullah': 'astagfirullah', 'ko': 'kok', 'cd': 'celana dalam', 'gbs': 'tidak bisa', 'bhs': 'bahasa', 'yaaaaaa': 'ya', 'gak': 'tidak', 'bangshad': 'bangsat', 'stagahhhh': 'astaga', 'kpn': 'kapan', 'iooo': 'lo', 'dy': 'dia', 'd': 'di', 'mslh': 'masalah', 'qt': 'kita', 'plampiasannn': 'pelampiasan', 'masalahh': 'masalah', 'tohh': 'toh', 'inghinn': 'ingin', 'dhi': 'di', 'mengherthii': 'mengerti', 'yanckh': 'yang', 'chelalyyu': 'selalu', 'therchakitty': 'tersakiti', 'mauuuuu': 'mau', 'kaliii': 'kali', 'bangat': 'banget', 'bkin': 'bikin', 'dongg': 'dong', 'yokkk': 'yuk', 'yu': 'yuk', 'sweger': 'segar', 'gantengg': 'ganteng', 'bingiit': 'banget', 'kebukaaa': 'terbuka', 'tpi': 'tapi', 'keliatan': 'kelihatan', 'yakk': 'ya', 'kayakk': 'kayak', 'asliii': 'asli', 'kyk': 'kayak', 'cntiknya': 'cantiknya', 'bat': 'banget', 'ngeliatnya': 'melihatnya', 'sll': 'selalu', 'bet': 'banget', 'njerr': 'anjir', 'bingiiittttzzzz': 'banget', 'k': 'ke', 'klo': 'kalo', 'dooong': 'dong', 'masi': 'masih', 'gni': 'begini', 'hdk': 'hendak', 'jugaa': 'juga', 'mksud': 'maksud', 'aj': 'saja', 'tetep': 'tetap', 'mbakx': 'mbaknya', 'syantik': 'cantik', 'kite': 'kita', 'pa': 'apa', 'mksd': 'maksud', 'bejilbbnya': 'berjilbabnya', 'masio': 'masih', 'yahhh': 'ya', 'makasih': 'terima kasih', 'leh': 'boleh', 'ugaaa': 'juga', 'jerewi': 'jerawat', 'ilang': 'hilang', 'jilbabnyaah': 'jilbabnya', 'yuuuk': 'yuk', 'warnaaa': 'warna', 'punyaaa': 'punya', 'cantiik': 'cantik', 'sukaaak': 'suka', 'kebayanyaa': 'kebayanya', 'mantes': 'memantas', 'merekaaaa': 'mereka', 'jugaaa': 'juga', 'gilaaaa': 'gila', 'tiga2nya': 'tiga-tiganya', 'lucuu': 'lucu', 'emessss': 'gemas', 'ucullllll': 'lucu', 'males': 'malas', 'bangeettt': 'banget', 'gemesshh': 'gemas', 'apaaa': 'apa', 'ampuunn': 'ampun', 'ciuuuummmm': 'cium', 'mbil': 'sambil', 'ngmng': 'mengomong', 'ngemeng': 'mengomong', 'epe': 'apa', 'seehh': 'sih', 'yank': 'sayang', 'ucul': 'lucu', 'yahh': 'ya', 'gw': 'gue', 'ngakak': 'mengakak', 'astagfirrullah': 'astagfirullah', 'suerrr': 'suer', 'mnta': 'minta', 'syg': 'sayang', 'ntik': 'cantik', 'pny': 'punya', 'dapet': 'dapat', 'suru': 'suruh', 'lucuuuu': 'lucu', 'ketawakkkk': 'ketawa', 'kyanya': 'kayanya', 'bnget': 'banget', 'nakutin': 'menakutkan', 'malingg': 'maling', 'cocokk': 'cocok', 'niihh': 'nih', 'imutttttt': 'imut', 'satuuuuu': 'satu', 'sesekk': 'sesak', 'nafass': 'nafas', 'bgtt': 'banget', 'cintaaaaaaa': 'cinta', 'lucuk': 'lucu', 'ma': 'sama', 'duluu': 'dulu', 'megang': 'memegang', 'kawinin': 'mengawini', 'liatin': 'perlihatkan', 'ny': 'nya', 'bdan': 'badan', 'nyaaa': 'nya', 'gemesin': 'menggemaskan', 'fotoin': 'memfoto', 'ngaku': 'mengaku', 'kaaa': 'kak', 'ganteng2': 'ganteng-ganteng', 'pcarny': 'pacarnya', 'kri': 'kiri', 'knpa': 'kenapa', 'pda': 'pada', 'cmn': 'cuman', 'gara2': 'gara-gara', 'garuk2': 'garuk-garuk', 'tembokk': 'tembok', 'namax': 'namanya', 'kiriii': 'kiri', 'bungkusin': 'bungkuskan', 'atu': 'satu', 'dehhhh': 'deh', 'kakk': 'kak', 'ngegantiin': 'menggantikan', 'alloh': 'allah', 'smpe': 'sampai', 'msh': 'masih', 'trsa': 'terasa', 'khadirannya': 'kehadirannya', 'fikiran': 'pikiran', 'hayalanku': 'khayalanku', 'bru': 'baru', 'nton': 'menonton', 'ngapain': 'mengapai', 'surgaa': 'surga', 'kangenn': 'kangen', 'kgn': 'kangen', 'kakkkkk': 'kak', 'rinduuuuuuuuu': 'rindu', 'ninggalin': 'meninggalkan', 'smg': 'semoga', 'terangkhn': 'terangkan', 'bgtttt': 'banget', 'knp': 'kenapa', 'tuk': 'untuk', 'slama': 'selama', 'orng': 'orang', 'bngunlah': 'bangunlah', 'bngun': 'bangun', 'ea': 'ya', 'qu': 'ku', 'hiri': 'hari', 'teman\"ny': 'teman-temannya', 'aza': 'saja', 'dr': 'dari', 'alm': 'almarhum', 'skrg': 'sekarang', 'sie': 'sih', 'benet': 'benar', 'bangetttt': 'banget', 'tuu': 'tuh', 'skrang': 'sekarang', 'gda': 'tidak ada', 'gantiin': 'menggantikan', 'kta': 'kita', 'kklau': 'kalau', 'acra': 'acara', 'kasian': 'kasihan', 'yaaa ': 'ya', 'bnerr': 'benar', 'emk': 'emak', 'temenn': 'teman', 'pngenn': 'pengin', 'terkenall': 'terkenal', 'ajhh': 'saja', 'sungguh2': 'sungguh-sungguh', 'mnjadi': 'menjadi', 'shbt': 'sahabat', 'bner': 'benar', 'ktny': 'katanya', 'dimusiumin': 'dimuseumkan', 'bntu': 'bantu', 'dlu': 'dulu', 'udh': 'sudah', 'kangem': 'kangen', 'amiiin': 'amin', 'smua': 'semua', 'slmt': 'selamat', 'jln': 'jalan', 'mudh\"an': 'mudah-mudahan', 'tenny': 'tenang', 'sdh': 'sudah', 'tnya': 'tanya', 'blm': 'belum', 'td': 'tadi', 'sblm': 'sebelum', 'bole': 'boleh', 'lahhh': 'lah', 'maap': 'maaf', 'cm': 'cuma', 'kmrn': 'kemarin', 'wkt': 'waktu', 'ama': 'sama', 'ak': 'aku', 'lht': 'lihat', 'biasa2': 'biasa-biasa', 'mnrtkuu': 'menurutku', 'trs': 'terus', 'ikutin': 'mengikuti', 'jdwl': 'jadwal', 'wajiiib': 'wajib', 'aaaammmiiiinnnn': 'amin', 'dtnggu': 'ditunggu', 'jan': 'jangan', 'kunjungin': 'kunjungi', 'lagiiii': 'lagi', 'waktunyaaa': 'waktunya', 'diluangin': 'diluangkan', 'jga': 'juga', 'mimin': 'admin', 'istimewaaa': 'istimewa', 'blom': 'belum', 'nangis': 'menangis', 'ngaku\"': 'mengaku-ngaku', 'diaa': 'dia', 'donkk': 'dong', 'kejawab': 'terjawab', 'yaaaa': 'ya', 'seru2an': 'seru-seruan', 'mohom': 'mohon', 'kebalas': 'terbalas', 'nyempetin': 'menyempatkan', 'wktunya': 'waktunya', 'kaaaa': 'kak', 'ngobrol': 'mengobrol', 'namain': 'namai', 'bls': 'balas', 'ijap': 'ijab', 'kobul': 'kabul', 'co': 'cowok', 'pst': 'pasti', 'inggat': 'ingat', 'brdua': 'berdua', 'masing2': 'masing-masing', 'sanggat': 'sangat', 'siipp': 'sip', 'laa': 'lah', 'dlm': 'dalam', 'hdup': 'hidup', 'hdp': 'hidup', 'kedpan': 'kedepan', 'smoga': 'semoga', 'mndaptkan': 'mendapatkan', 'nutup\"in': 'menutup-nutupi', 'iyah': 'iya', 'sja': 'saja', 'kakkk': 'kak', 'za': 'saja', 'mulut2': 'mulut-mulut', 'peengn': 'pengin', 'tuch': 'tuh', 'muantteepp': 'mantap', 'cpt': 'cepat', 'mrit': 'merit', 'y': 'ya', 'ngapasih': 'mengapa sih', 'ni': 'nih', 'segitunya': 'sebegitunya', 'fto': 'foto', 'pke': 'pakai', 'sisain': 'menyisakan', 'slamt': 'selamat', 'nantiii': 'nanti', 'edaaan': 'edan', 'emg': 'memang', 'tunggu2': 'tunggu-tunggu', 'sehat2': 'sehat-sehat', 'ciyeeeeeee': 'cie', 'pantes': 'pantas', 'lairannya': 'kelahirannya', 'jmnya': 'jamnya', 'ajha': 'saja', 'nyaaaa': 'nya', 'nyari': 'mencari', 'amiien': 'amien', 'terbaikkk': 'terbaik', 'ayahh': 'ayah', 'ae': 'saja', 'ndak': 'indak', 'ngerti': 'mengerti', 'mrekaaaa': 'mereka', 'yaampuuuunnnn': 'ya ampun', 'nyanyiin': 'menyanyikan', 'ahhh': 'ah', 'pgen': 'pengin', 'tempt': 'tempat', 'kh': 'kah', 'bgini': 'begini', 'brani': 'berani', 'km': 'kamu', 'jalan2': 'jalan-jalan', 'asyikkkkk': 'asyik', 'iriiiii': 'iri', 'ngajak': 'mengajak', 'naaaaahh': 'nah', 'kka': 'kakak', 'yak': 'ya', 'ttep': 'tetap', 'sperti': 'seperti', 'jrang': 'jarang', 'msuk': 'masuk', 'gossip2.an': 'gosip-gosipan', 'makkk': 'mak', 'guee': 'gue', 'pengennn': 'pengin', 'gilzz': 'gila', 'nyaru': 'menyaru', 'gilaaa': 'gila', 'jd': 'jadi', 'kebarat2an': 'kebarat-baratan', 'ohh': 'oh', 'mantabs': 'mantab', 'jgan': 'jangan', 'mlu': 'melulu', 'payahh': 'payah', 'ntaf': 'mantap', 'beneran': 'benaran', 'mudah\"n': 'mudah-mudahan', 'gada': 'tidak ada', 'milikin': 'memiliki', 'kamo': 'kamu', 'inih': 'ini', 'sukaaaa': 'suka', 'sukaaaaaa': 'suka', 'kirain': 'mengira', 'mehoonggggg': 'mahal', 'apikkkk': 'apik', 'yach': 'ya', 'kereenn': 'keren', 'ginii': 'begini', 'ayoook': 'ayo', 'yoiii': 'yoi', 'gituuu': 'begitu', 'iyaaa': 'iya', 'pgn': 'pengin', 'liptsk': 'lipstik', 'nyeplak': 'menjiplak', 'cw': 'cewek', 'kmarin': 'kemarin', 'mengncang': 'mengencang', 'tauu': 'tau', 'ksh': 'kasih', 'skrng': 'sekarang', 'mksh': 'terima kasih', 'ank': 'anak', 'skitar': 'sekitar', 'ktmu': 'ketemu', 'tmen': 'teman', 'ats': 'atas', 'donk': 'dong', 'heii': 'hai', 'diputusin': 'diputuskan', 'pcrnya': 'pacarnya', 'mnjual': 'menjual', 'ngadain': 'mengadakan', 'kkak': 'kakak', 'rekomendasiin': 'rekomendasikan', 'sihhh': 'sih', 'cooocok': 'cocok', 'mrip': 'mirip', 'mama.nyy': 'mamanya', 'bosenin': 'membosankan', 'kmu': 'kamu', 'bukn': 'bukan', 'sey': 'sih', 'cantikkk': 'cantik', 'banger': 'banget', 'kaa': 'kak', 'eakyu': 'waktu', 'cntik': 'cantik', 'kakanya': 'kakaknya', 'doeloe': 'dulu', 'cantikkkk': 'cantik', 'bngtt': 'banget', 'iyak': 'iya', 'malh': 'malah', 'mlah': 'malah', 'ngak': 'tidak', 'laki2': 'laki-laki', 'gag': 'tidak', 'fhotonya': 'fotonya', 'bleh': 'boleh', 'brp': 'berapa', 'tnggl': 'tanggal', 'tanteny': 'tantenya', 'ky': 'kaya', 'sklinyaa': 'sekalinya', 'ayoo': 'ayo', 'w': 'gue', 'dramaa': 'drama', 'niiih': 'nih', 'bisaa': 'bisa', 'lha': 'lah', 'dunk': 'dong', 'lihaat': 'lihat', 'yuwkkk': 'yuk', 'nnti': 'nanti', 'editannn': 'editan', 'mw': 'mau', 'thu': 'itu', 'mai': 'mau', 'kamuu': 'kamu', 'pastii': 'pasti', 'bisaaa': 'bisa', 'kejuu': 'keju', 'kereen': 'keren', 'nama.a': 'namanya', 'kmauan': 'kemauan', 'ahhhh': 'ah', 'yuuuuk': 'yuk', 'dmana': 'dimana', 'disiniii': 'disini', 'cobaa': 'coba', 'bayangin': 'bayangkan', 'yaudh': 'ya sudah', 'dl': 'dulu', 'ajaaa': 'saja', 'tuhhh': 'tuh', 'amploppp': 'amplop', 'mo': 'mau', \"sayangg''\": 'sayang-sayang', 'nantii': 'nanti', 'aminnnnn': 'amin', 'gakuat': 'tidak kuat', 'yukkkk': 'yuk', 'nged': 'banget', 'nantik': 'nanti', 'ksitu': 'kesitu', 'bangeett': 'banget', 'liad': 'lihat', 'kluarga': 'keluarga', 'biasahhh': 'biasa', 'tutorialx': 'tutorialnya', 'dpke': 'dipakai', 'fhoto': 'foto', 'kerenn': 'keren', 'binggo': 'banget', 'rekomndd': 'rekomendasi', 'bli2n': 'beli-belikan', 'bwt': 'buat', 'wado': 'waduh', 'guaa': 'gua', 'yaakkk': 'ya', 'bangetttttyt': 'banget', 'bangettttt': 'banget', 'bangg': 'bang', 'kangeeeeeeeeennnnnnnn': 'kangen', 'kaliannnnnn': 'kalian', 'rinduuuuuuuuuu': 'rindu', 'kangennnnnmnnnnnnnnnnnnnnnnn': 'kangen', 'kaliannnnnm': 'kalian', 'kangeeeeeeeeeeennnnn': 'kangen', 'kangennnnnnnnnnnnnnnn': 'kangen', 'kangennn': 'kangen', 'kaliannnnnnn': 'kalian', 'th2': 'tahun-tahun', 'smpt': 'sempat', 'blg': 'bilang', 'trserah': 'terserah', 'ad': 'ada', 'cwo': 'cowok', 'prnah': 'pernah', 'wlwpun': 'walaupun', 'trpsah': 'terpisah', 'klw': 'kalau', 'mmg': 'memang', 'prsatukn': 'persatukan', 'g': 'tidak', 'slh': 'salah', 'ngomng': 'mengomong', 'mdh2an': 'mudah-mudahan', 'sm': 'sama', 'skedar': 'sekadar', 'kangeeerrn': 'kangen', 'pulak': 'pula', 'terrrrbaik': 'terbaik', 'jorookknya': 'joroknya', 'ihhhhh': 'ih', 'padahall': 'padahal', 'jorokkkk': 'jorok', 'mualll': 'mual', 'klow': 'kalau', 'muke': 'muka', 'ajh': 'saja', 'taiiii': 'tahi', 'seneeeeeng': 'senang', 'nyesel': 'menyesal', 'besarin': 'membesarkan', 'tanyang': 'tayang', 'ber2': 'berdua', 'jngan': 'jangan', 'ngelarang': 'melarang', 'kerreeen': 'keren', 'pantess': 'pantas', 'bngettt': 'banget', 'baperr': 'bawa perasaan', 'sudh': 'sudah', 'sbr': 'sabar', 'pngen': 'pengin', 'nntn': 'menonton', 'ht': 'hati', 'pemainy': 'pemainnya', 'jg': 'juga', 'aqu': 'aku', 'ngeliat': 'melihat', 'baper': 'bawa perasaan', 'akn': 'akan', 'nyampe': 'sampai', 'kbawa': 'terbawa', 'bradegan': 'beradegan', 'amiiinnnn': 'amin', 'mlm': 'malam', 'nikahin': 'menikahi', 'hadeuh': 'aduh', 'nyambung': 'menyambung', 'liyat': 'lihat', 'krn': 'karena', 'sk': 'suka', 'adengan': 'adegan', 'engga': 'tidak', 'bingit': 'banget', 'dapetin': 'mendapatkan', 'model2': 'model-model', 'sitayngin': 'ditayangkan', 'cocokkk': 'cocok', 'mahhhh': 'mah', 'cocokny': 'cocoknya', 'iniw': 'ini', 'q': 'ku', 'setju': 'setuju', 'bnern': 'benaran', 'pcrn': 'pacaran', 'klian': 'kalian', 'cocokkkk': 'cocok', 'bngett': 'banget', 'abes': 'habis', 'br': 'baru', 'mksdny': 'maksudnya', 'brpa': 'berapa', 'ihh': 'ih', 'kesampean': 'kesampaian', 'beginiiii': 'begini', 'ntr': 'entar', 'beliin': 'belikan', 'kya': 'kaya', 'keq': 'kayak', 'ngerasa': 'merasa', 'sygkuu': 'sayangku', 'ngeselin': 'mengesalkan', \"baju'a\": 'bajunya', \"gara''\": 'gara-gara', 'teruss': 'terus', \"pokok'a\": 'pokoknya', 'bg': 'bang', 'ubur2': 'ubur-ubur', 'kuyy': 'yuk', 'bentarr': 'bentar', 'dureen': 'duren', 'ajibb': 'ajib', 'mahall': 'mahal', 'yukk': 'yuk', 'niiihh': 'nih', 'imuuttt': 'imut', 'imuttzz': 'imut', 'nha': 'nya', 'konten2': 'konten-konten', 'rasain': 'merasai', 'daaaah': 'deh', 'asliiii': 'asli', 'cantiknnnnyaaaaaaa': 'cantiknya', 'yuuk': 'yuk', 'ngelihatnya': 'melihatnya', 'bdn': 'badan', 'na': 'nya', 'ibu2': 'ibu-ibu', 'lau': 'kau', 'cantikk': 'cantik', 'sexxi': 'seksi', 'bulet': 'bulat', 'ituu': 'itu', 'ngocok': 'mengocok', 'nyoba': 'mencoba', 'gn': 'begini', 'yaahhh': 'ya', 'kencqng': 'kencang', 'kra': 'kira', 'diginikan': 'dibeginikan', 'coret\"': 'coret-coret', 'lahh': 'lah', 'gambarin': 'gambarkan', 'ngerii': 'ngeri', 'digambarin': 'digambarkan', 'klen': 'kalian', 'bangke': 'bangkai', 'kog': 'kok', 'liatnya': 'lihatnya', 'bedanyaaa': 'bedanya', 'negri': 'negeri', 'mbk': 'mbak', 'pgin': 'pengin', 'krudungan': 'kerudungan', 'ajaa': 'saja', 'maksutku': 'maksudku', 'kerennnnn': 'keren', 'njirr': 'anjir', \"jd'y\": 'jadinya', 'manisnyaaaa': 'manisnya', 'thun': 'tahun', 'mbg': 'mbak', 'bangeet': 'banget', 'ngaco': 'mengaco', 'ngomen': 'mengomentari', 'kaaakk': 'kak', 'gituh': 'begitu', 'tenggah': 'tengah', 'uuuuuaaaaaaaaaappppppppppiiiiiiiiiiiiiiiiiikkkkkkkkkkkkkkkk': 'apik', 'kocakkkkkkkkkkkkkk': 'kocak', 'ksukaanmuuu': 'kesukaanmu', 'bagiii': 'bagi', 'ayooo': 'ayo', 'nontonx': 'menontonnya', 'dpn': 'depan', 'pi': 'tapi', 'penasarannnn': 'penasaran', 'gilakkkkkk': 'gila', 'mauuu': 'mau', 'nontoonnn': 'menonton', 'cepet2': 'cepat-cepat', 'kepingin': 'pengin', 'nontonnnn': 'menonton', 'deeek': 'dek', 'ntappp': 'mantap', 'deg2an': 'deg-degan', 'cyiiin': 'cinta', 'iyha': 'iya', 'kureeeen': 'keren', 'muantaap': 'mantap', 'pake': 'pakai', 'ngantri': 'mengantri', 'bli': 'beli', 'nraktir': 'mentraktir', 'nonton': 'menonton', 'sbnyak': 'sebanyak', 'penasaraaann': 'penasaran', 'ayoooo': 'ayo', 'nii': 'ini', 'nontonya': 'menontonnya', 'kl': 'kalo', 'nunggu': 'menunggu', 'dpt': 'dapat', 'qta': 'kita', 'peen': 'pengin', 'lw': 'kalau', 'gga': 'tidak', 'yaah': 'ya', 'asikkk': 'asik', 'gilak': 'gila', 'mcm': 'macam', 'ceritax': 'ceritanya', 'yoooiii': 'yoi', 'kuy': 'yuk', 'udahh': 'sudah', 'tauuuuu': 'tau', 'sabarrrrr': 'sabar', 'kqmu': 'kamu', 'banggain': 'banggakan', 'thn': 'tahun', 'pengan': 'pengin', 'sendeng': 'senang', 'simpen': 'simpan', 'gakk': 'tidak', 'bagiin': 'membagikan', 'nanggepin': 'menanggapi', 'kapn': 'kapan', 'barang2': 'barang-barang', 'kirimin': 'mengirimi', 'senengin': 'senangi', 'ngasih': 'mengasih', 'ampunnnn': 'ampun', 'bln': 'bulan', 'senengg': 'senang', 'teruzzz': 'terus', 'mantabb': 'mantab', 'sumpahh': 'sumpah', 'diluarann': 'diluaran', 'trbaik': 'terbaik', 'dlam': 'dalam', 'anjirrrr': 'anjir', 'jendess': 'janda', 'dh': 'dah', 'sichh': 'sih', 'namnya': 'namanya', 'geh': 'gih', 'nggak': 'tidak', '22nya': 'dua-duanya', 'aduuhhh': 'aduh', 'miripp': 'mirip', 'silauuu': 'silau', 'waww': 'wow', 'uga': 'juga', 'njiirr': 'anjir', 'bgs': 'bagus', 'kesinii': 'kesini', 'gemay': 'gemas', 'dstu': 'disitu', 'wiiiihhhh': 'wih', 'samoga': 'semoga', 'kereennn': 'keren', 'wahh': 'wah', 'nyangkaa': 'menyangka', 'hasilnyaaa': 'hasilnya', 'dahhhh': 'dah', 'mudah2': 'mudah-mudah', 'jugaakk': 'juga', 'prnh': 'pernah', 'diapa2in': 'diapa-apai', 'yaak': 'ya', 'lhoo': 'loh', 'donx': 'dong', 'gthu': 'begitu', 'nda': 'indak', 'maauuu': 'mau', 'pacarrr': 'pacar', 'idamann': 'idaman', 'naturalllll': 'natural', 'bnyak': 'banyak', 'berntung': 'beruntung', 'merka': 'mereka', 'jln2': 'jalan-jalan', 'romntis': 'romantis', 'slamat': 'selamat', 'ulan': 'ulang', 'th': 'tahu', 'mngkin': 'mungkin', 'klau': 'kalau', 'diksi': 'dikasih', 'sipp': 'sip', 'taun': 'tahun', 'jugak': 'juga', 'nungguin': 'menunggu', 'ngeluarin': 'mengeluarkan', 'keciill': 'kecil', 'ughaa': 'juga', 'tante\"': 'tante-tante', 'banged': 'banget', 'abeees': 'habis', 'kapan2': 'kapan-kapan', 'adain': 'mengadakan', 'bsa': 'bisa', 'bosen2': 'bosan-bosan', 'sempurnaaaaa': 'sempurna', 'kaan': 'kan', 'kece2': 'kece-kece', 'badaaiii': 'badai', 'beneraan': 'benaran', 'cantiiik': 'cantik', 'kuatttt': 'kuat', 'cantiiiiiiik': 'cantik', 'cantiknyaaa': 'cantiknya', 'bae2': 'baik-baik', 'bgd': 'banget', 'mb': 'mbak', 'catiiiiik': 'cantik', 'subahanallah': 'subhanallah', 'jaman2nya': 'jaman-jamannya', 'padet': 'padat', 'buktiin': 'membuktikan', 'cantiq': 'cantik', 'pasien\"nya': 'pasien-pasiennya', 'lohh': 'loh', 'utk': 'untuk', 'keeeerrrreeeennnnnnnnn': 'keren', 'woow': 'wow', 'choker2': 'choker-choker', 'hadirrr': 'hadir', 'hadirr': 'hadir', 'jelashh': 'jelas', 'sekali2': 'sekali-kali', 'mbaaa': 'mbak', 'temen': 'teman', 'hidupppp': 'hidup', 'nyebelin': 'menyebalkan', 'diliatnya': 'dilihatnya', 'abis2': 'habis-habis', 'gpp': 'tidak apa-apa', 'para2': 'parah-parah', 'bangeeet': 'banget', 'allahhhhhhh': 'allah', 'gemesnya': 'gemasnya', 'ilang2': 'hilang-hilang', 'kmi': 'kami', 'ngilangin': 'menghilangkan', 'tbuh': 'tubuh', 'itungan': 'hitungan', 'ledekin': 'ledeki', 'tmn2': 'teman-teman', 'repot2': 'repot-repot', 'oles2': 'oles-oles', 'ckup': 'cukup', 'dptkan': 'dapatkan', 'artis2': 'artis-artis', 'kalii': 'kali', 'ninggiin': 'meninggikan', 'baget': 'banget', 'dri': 'dari', 'kira2': 'kira-kira', 'lgsg': 'langsung', 'ngk': 'tidak', 'ahh': 'ah', 'pas2an': 'pas-pasan', 'balesin': 'membalas', 'gausah': 'tidak usah', 'sukaaa': 'suka', 'lutuna': 'lucunya', 'ciapa': 'siapa', 'gemesss': 'gemas', 'duhh': 'duh', 'terharuuu': 'terharu', 'alamii': 'alami', 'sampek': 'sampai', 'ckrng': 'sekarang', 'ngegemesin': 'menggemaskan', 'imoet': 'imut', 'imut2': 'imut-imut', 'jagain': 'menjaga', 'yahbh': 'ya', 'msih': 'masih', 'macem2': 'macam-macam', 'neko2': 'neko-neko', 'sktika': 'seketika', 'lutu': 'lucu', 'wowwww': 'wow', 'massss': 'mas', 'kesiniii': 'kesini', 'keren\"': 'keren-keren', 'jalan\"nya': 'jalan-jalannya', 'masyaallahhh': 'masyaallah', 'kerennn': 'keren', 'ksni': 'kesini', 'begok': 'bego', 'bkan': 'bukan', 'jgk': 'juga', 'bawak': 'bawa', 'it': 'itu', 'nti': 'nanti', 'pgi': 'pagi', 'keeeeeren': 'keren', 'baguusss': 'bagus', 'mna': 'mana', 'nahannnn': 'tahan', 'bagaatt': 'banget', 'gayannxa': 'gayanya', 'kereeeen': 'keren', 'uda': 'sudah', 'ngekeh': 'kekeh', 'xlian': 'kalian', 'b3': 'bertiga', 'ihhh': 'ih', 'lcu': 'lucu', 'pait': 'pahit', 'koplakkk': 'koplak', 'kerass': 'keras', 'yachhh': 'ya', 'gokil': 'gila', 'ngelihat': 'melihat', 'ngelawak': 'melawak', 'iiihhhhh': 'ih', 'nyolotinnnn': 'menyolot', 'beratttttttt': 'berat', 'cantiikkkk': 'cantik', 'hijaabbb': 'hijab', 'sekalii': 'sekali', 'smnagatin': 'menyemangati', 'pakek': 'pakai', 'kanapa': 'kenapa', 'cans': 'cantik', 'banhet': 'banget', 'bgttttttt': 'banget', 'blng': 'bilang', 'mngasi': 'mengasih', 'kmbang': 'kembang', 'pg': 'pagi', 'nie': 'ini', 'pla': 'pula', 'kw': 'kau', 'blakon': 'berlakon', 'sy': 'saya', 'nmpk': 'nampak', 'bngtzt': 'banget', 'lucukkkkk': 'lucu', 'sbelah': 'sebelah', 'baek': 'baik', 'ciusss': 'serius', 'palinf': 'paling', 'fav': 'favorit', 'maak': 'mak', 'ngakaaaakkk': 'mengakak', 'gokill': 'gila', 'kocakkkkkk': 'kocak', 'ngekek': 'mengekek', 'capee': 'cape', 'pegangin': 'memegang', 'nyender': 'menyandar', 'bener': 'benar', 'manjain': 'memanjakan', 'peleotin': 'meleot', 'bng': 'bang', 'termurahhhh': 'termurah', 'nyatakan': 'menyatakan', 'graaatiiiis': 'gratis', 'meriahh': 'meriah', 'cantikkkm': 'cantik', 'parahh': 'parah', 'bingits': 'banget', 'yuppss': 'ya', 'nyindir': 'menyindir', 'onoh': 'sono', 'bnyk': 'banyak', 'anakny': 'anaknya', 'staf2nya': 'staf-stafnya', 'begete': 'banget', 'aduhh': 'aduh', 'manteppp': 'mantap', 'hati2': 'hati-hati', 'jangan2': 'jangan-jangan', 'kata2nya': 'kata-katanya', 'ynk': 'sayang', 'nangis\"': 'menangis-nangis', 'hati\"': 'hati-hati', 'jangan\"': 'jangan-jangan', 'emank': 'memang', 'cr': 'cara', 'diemin': 'diamkan', 'hancurin': 'menghancurkan', 'ckp': 'cukup', 'mgkn': 'mungkin', 'ato': 'atau', 'diapain': 'diapakan', 'ms': 'masih', 'haragain': 'menghargai', 'cb': 'coba', 'nyakitin': 'menyakiti', 'jgn2': 'jangan-jangan', 'sbaiknya': 'sebaiknya', 'mngerti': 'mengerti', 'blajar': 'belajar', 'fakta2': 'fakta-fakta', 'spt': 'seperti', 'mnding': 'mending', 'nilai2': 'nilai-nilai', 'buka2': 'buka-buka', 'nyinyirin': 'nyinyir', 'pdhl': 'padahal', 'pd': 'pada', 'nyerang': 'menyerang', 'hrs': 'harus', 'mrk': 'mereka', 'trima': 'terima', 'ngomomg': 'mengomong', 'mang': 'memang', 'kbetulan': 'kebetulan', 'orgtuanya': 'orang tuanya', 'sbelum': 'sebelum', 'ngamatin': 'mengamati', 'ngintip': 'mengintip', 'stelah': 'setelah', 'sndiri': 'sendiri', 'ngintilin': 'mengintil', 'smnjak': 'semenjak', 'trbukti': 'terbukti', 'nyambet': 'menyambat', 'msk': 'masuk', 'krmh': 'ke rumah', 'rmh': 'rumah', \"bo'ong\": 'bohong', 'eloo': 'lo', 'apa2nya': 'apa-apanya', 'goblokkk': 'goblok', 'sesatt': 'sesat', 'ibliss': 'iblis', 'elo': 'lo', 'kbiasaan': 'kebiasaan', 'hdpnya': 'hidupnya', 'lbh': 'lebih', 'byk': 'banyak', 'anknya': 'anaknya', 'tdr': 'tidur', 'sbuah': 'sebuah', 'anak2nya': 'anak-anaknya', 'tdnya': 'tadinya', 'ank2nya': 'anak-anaknya', 'milih': 'memilih', 'branjak': 'beranjak', 'ank2': 'anak-anak', 'masyarakay': 'masyarakat', 'mudah2an': 'mudah-mudahan', 'menegerti': 'mengerti', 'apa2': 'apa-apa', 'sok2': 'sok-sok', 'nasehatin': 'menasihati', 'ngaca': 'mengaca', 'ajah': 'saja', 'kakkkk': 'kak', 'slamet': 'selamat', 'ampe': 'sampai', 'nari': 'menari', 'ehh': 'eh', 'mf': 'maaf', 'ngcpin': 'mengucapkan', 'woowwww': 'wow', 'iaa': 'iya', 'kdg': 'kadang', 'kebagi': 'terbagi', 'nerusin': 'meneruskan', 'indo': 'indonesia', 'univ': 'universitas', 'maen': 'main', 'wihh': 'wih', 'tetapppp': 'tetap', 'gantenggg': 'ganteng', 'jakety': 'jaketnya', 'nggk': 'tidak', 'skli': 'sekali', 'kli': 'kali', 'ttp': 'tetap', 'pala': 'kepala', 'pusingggg': 'pusing', 'pucing': 'pusing', 'ihhhh': 'ih', 'maho': 'manusia homo', 'gantng': 'ganteng', 'alak': 'kepala', 'hilangv': 'hilang', 'bungggg': 'bung', 'gapap': 'tidak apa-apa', 'kyak': 'kayak', 'pling': 'paling', 'gokiiill': 'gila', 'busedh': 'buset', 'gokilnya': 'gilanya', 'duluuu': 'dulu', 'keceee': 'kece', 'nyaa': 'nya', 'klu': 'kalau', 'gilaa': 'gila', 'duuhhh': 'duh', 'amiiiiinnnnn': 'amin', 'dg': 'dengan', 'tullus': 'tulus', 'tw': 'tau', 'pluk': 'peluk', 'durhaka2': 'durhaka-durhaka', 'kpada': 'kepada', 'seburuk\"': 'seburuk-buruk', 'ortu': 'orang tua', 'ktaa': 'kita', 'yup': 'ya', 'tdk': 'tidak', 'tetaplaah': 'tetaplah', 'ajja': 'saja', 'dech': 'deh', 'oprasi': 'operasi', 'gya': 'gaya', 'kndung': 'kandung', 'sbg': 'sebagai', 'u': 'lu', 'ksenangan': 'kesenangan', 'ddpt': 'didapat', 'jwab': 'jawab', 'mmbodohkan': 'membodohkan', 'orlaen': 'orang lain', 'bgtu': 'begitu', 'drpd': 'daripada', 'malem': 'malam', 'aplikasiin': 'mengaplikasikan', 'berangat': 'berangkat', 'praktekin': 'mempraktikkan', 'dahh': 'dah', 'gmn': 'bagaimana', 'omdo': 'omong doang', 'kate': 'kata', 'cabe2': 'cabe-cabe', 'prjuangan': 'perjuangan', 'kmewahan': 'kemewahan', 'stimpal': 'setimpal', 'ddpat': 'didapat', 'sprt': 'seperti', 'bc': 'baca', 'mnilai': 'menilai', 'kata2': 'kata-kata', 'usahh': 'usah', 'segala2nya': 'segala-galanya', 'sekarng': 'sekarang', 'sprti': 'seperti', 'mkanya': 'makanya', 'hay': 'hai', 'mreka': 'mereka', 'bhagia': 'bahagia', 'korek2': 'korek-korek', 'ngebales': 'membalas', 'krna': 'karena', 'sihh': 'sih', 'sasama': 'sesama', 'dehh': 'deh', 'cabe2an': 'cabe-cabean', 'terong2an': 'terong-terongan', 'seklian': 'sekalian', 'kluar': 'keluar', 'tuuu': 'itu', 'ngurusan': 'mengurusi', 'campurin': 'mencampuri', 'emnknya': 'memangnya', 'py': 'punya', 'unyuu': 'unyu', 'mrangkul': 'merangkul', 'adlh': 'adalah', 'wlo': 'walau', 'lh': 'boleh', 'manusiy': 'manusia', 'tx': 'tak', 'samara': 'sakinah mawadah rahman', 'teringt': 'teringat', 'trmsuk': 'termasuk', 'dn': 'dan', 'pilihnmu': 'pilihanmu', 'swmntara': 'sementara', 'trmasuk': 'termasuk', 'orang2': 'orang-orang', 'sgt': 'sangat', 'liht': 'lihat', 'suaminy': 'suaminya', 'jadulnya': 'jaman dulunya', 'mantaff': 'mantap', 'ngata2in': 'mengatai-ngatai', 'bagaimna': 'bagaimana', 'mulusssss': 'mulus', 'bgus': 'bagus', 'gmana': 'bagaimana', 'kpleset': 'kepleset', 'yawlah': 'ya allah', 'kepeleset': 'kepleset', 'kayanye': 'kayanya', 'amiinnnn': 'amin', 'komen2an': 'komen-komenan', 'wewww': 'wow', 'dumsss': 'dong', 'tar': 'entar', 'perbaikin': 'memperbaiki', 'permasalhkan': 'permasalahkan', 'betul2': 'betul-betul', 'jauhin': 'jauhi', 'dateng': 'datang', 'adiik': 'adik', 'manisss': 'manis', 'besar\"': 'besar-besar', 'masing\"': 'masing-masing', 'ddlm': 'di dalam', 'kmbali': 'kembali', 'dkuburnya': 'dikuburnya', 'fi': 'di', 'ttg': 'tentang', 'rata2': 'rata-rata', 'lbih': 'lebih', 'critamu': 'ceritamu', 'ja': 'saja', 'bres': 'beres', 'cmkn': 'camkan', 'diurusin': 'diurusi', 'biarin': 'biarkan', 'kale': 'kali', 'donks': 'dong', 'membanding\"': 'membanding-banding', 'mengperbolehkan': 'memperbolehkan', 'krena': 'karena', 'ngri': 'negeri', 'dingin\"': 'dingin-dingin', 'lma': 'lama', \"dibangga'in\": 'dibangga-banggakan', 'ngebolehin': 'membolehkan', 'denger': 'dengar', 'jelek\"in': 'menjelek-jelekkan', 'stiap': 'setiap', 'gausa': 'tidak usah', 'maksain': 'memaksakan', 'smog': 'semoga', 'mnerima': 'menerima', 'baikxa': 'baiknya', 'aaamin': 'amin', 'amienn': 'amien', 'sekangen2': 'sekangen-kangen', 'kt': 'kita', 'amiiiiiiiiiinnnnnnn': 'amin', 'nolongin': 'menolong', 'amiiiiiiiiiiin': 'amin', 'seluru': 'seluruh', 'amiennn': 'amien', 'tebir': 'ribet', 'doangam': 'doang', 'tebir\"': 'ribet-ribet', 'amad': 'amat', 'mkst': 'maksud', 'wong2': 'wong-wong', 'rempong': 'repot', 'ngurusin': 'mengurusi', 'kerjaan': 'pekerjaan', 'bingittzz': 'banget', 'bangets': 'banget', 'ikh': 'ih', 'dwh': 'deh', 'nengok': 'menengok', 'bante': 'bantai', 'la': 'lah', 'komenannya': 'komentarnya', 'hadapin': 'menghadapi', 'dengarin': 'mendengarkan', 'ush': 'usah', 'cock': 'cocok', 'widihh': 'idih', 'mantepp': 'mantap', 'cita2': 'cita-cita', 'temen-temen': 'teman-teman', 'stu': 'satu', 'syratnya': 'syaratnya', 'pnjang': 'panjang', 'shat': 'sehat', 'inginkn': 'inginkan', 'belanjaa': 'belanja', 'burem': 'buram', 'tlp': 'telepon', 'dngan': 'dengan', 'ngerasain': 'merasai', 'kancang': 'kencang', 'tmbh': 'tambah', 'mansyoallah': 'masyaallah', 'skali': 'sekali', 'canttttikkk': 'cantik', 'subhanalloh': 'subhanallah', 'lkuin': 'lakukan', 'langgenh': 'langgeng', 'foto2nya': 'foto-fotonya', 'tanggung2': 'tanggung-tanggung', 'salluutt': 'salut', 'pkai': 'pakai', 'org2': 'orang-orang', 'mkn': 'makin', 'seneng': 'senang', 'pdng': 'padang', 'warbiyasah': 'luar biasa', 'pk': 'pakai', 'keedaannya': 'keadaannya', 'lagu2': 'lagu-lagu', 'saya2': 'saya-saya', 'sekrng': 'sekarang', 'lagu2nya': 'lagu-lagunya', 'ttap': 'tetap', 'spertinya': 'sepertinya', 'mrah': 'marah', 'gra2': 'gara-gara', 'sngaja': 'sengaja', 'jlek': 'jelek', 'udah2': 'sudah-sudah', 'ungkit2': 'ungkit-ungkit', 'pura2': 'pura-pura', 'gatau': 'tidak tau', 'curhat2': 'curhat-curhat', 'matany': 'matanya', 'dteng': 'datang', \"mata'y\": 'matanya', 'baju2': 'baju-baju', 'buruannn': 'buruan', 'emng': 'memang', 'perubut': 'perebut', 'sumai': 'suami', 'tk': 'tak', 'urusin': 'urus', 'apah': 'apa', 'bagus2': 'bagus-bagus', 'say': 'sayang', 'mmbela': 'membela', 'mslhnya': 'masalahnya', 'hnya': 'hanya', 'sndri': 'sendiri', 'sj': 'saja', 'llki': 'lelaki', 'dluar': 'diluar', 'sna': 'sana', 'boleh2': 'boleh-boleh', 'dya': 'dia', 'maluuuu': 'malu', 'beda2': 'beda-beda', 'nyaranin': 'menyarankan', 'x': 'kali', 'tongolin': 'menongol', 'cabol': 'cabul', 'ape': 'apa', 'nyet': 'monyet', 'muna': 'munafik', 'jing': 'anjing', 'tot': 'entot', 'nihh': 'nih', 'hidiyah': 'hidayah', 'percya': 'percaya', 'bgi': 'bagi', 'tlg': 'tolong', 'sya': 'saya', 'sdri': 'sendiri', 'tdi': 'tadi', 'mgkin': 'mungkin', 'bhwa': 'bahwa', 'skaligus': 'sekaligus', 'cek2': 'cek-cek', 'spti': 'seperti', 'smakin': 'semakin', 'sbgai': 'sebagai', 'mgk': 'mungkin', 'bgmn': 'bagaimana', 'sapa2': 'sapa-sapa', 'sama2': 'sama-sama', 'kyknya': 'kayaknya', 'pnya': 'punya', 'dng': 'dengan', 'termurahhh': 'termurah', 'bbrp': 'beberapa', 'bhw': 'bahwa', 'banyaaaaaak': 'banyak', 'baik2nya': 'baik-baiknya', 'tunjukan': 'tunjukkan', 'anak2mu': 'anak-anakmu', 'anak2': 'anak-anak', 'ngasih2': 'mengasih-ngasih', 'berfikir': 'berpikir', 'amit2': 'amit-amit', 'mba': 'mbak', 'elu': 'lu', 'ngajuin': 'mengajukan', 'tiba2': 'tiba-tiba', 'jkt': 'jakarta', 'terbaeq': 'terbaik', 'namany': 'namanya', 'jels': 'jelas', 'diakibtkn': 'diakibatkan', 'suk': 'suka', 'jelek2': 'jelek-jelek', 'dsrny': 'dasarnya', 'jkrta': 'jakarta', 'mantaap': 'mantap', 'benar2': 'benar-benar', 'main2': 'main-main', 'lanjutkaaaaan': 'lanjutkan', 'hiduppp': 'hidup', 'ncek': 'encek', 'majuuu': 'maju', 'teruuss': 'terus', 'kdg2': 'kadang-kadang', 'looohh': 'loh', 'sebelumbya': 'sebelumnya', 'tunjukin': 'tunjukkan', 'tahun\"': 'tahun-tahun', 'koment': 'komentar', 'nyampein': 'menyampaikan', 'hokiii': 'hoki', 'naksir': 'menaksir', 'bangt\"': 'banget-banget', 'nafkahin': 'menafkahi', 'ngitem': 'menghitam', 'banyaaaak': 'banyak', 'sama\"': 'sama-sama', 'gx': 'tidak', 'lhat': 'lihat', 'cantika': 'cantik', 'cwek': 'cewek', 'kngen': 'kangen', 'fillm': 'film', 'sinet': 'sinetron', 'jendral': 'jenderal', 'nanya': 'bertanya', 'maenya': 'mainnya', 'cantiks': 'cantik', 'wktu': 'waktu', 'pilm': 'film', 'taon': 'tahun', 'nd': 'indak', 'slah': 'salah', 'cini': 'sini', 'jaaangan': 'jangan', 'nambah': 'menambah', 'naek': 'naik', 'terimaksih': 'terima kasih', 'inii': 'ini', 'kaannnn': 'kan', 'tidakkkk': 'tidak', 'kemuh': 'kamu', 'da': 'dah', 'keren2': 'keren-keren', 'sby': 'surabaya', 'tgl': 'tanggal', 'pinginnn': 'pengin', 'buanget': 'banget', 'ketemuuu': 'ketemu', 'kebawa': 'terbawa', 'mimpiii': 'mimpi', 'wanjerrr': 'anjir', 'satupunn': 'satupun', 'motret': 'memotret', 'temen2': 'teman-teman', 'lapakk': 'lapak', 'nyeniii': 'menyeni', 'bget': 'banget', 'seeh': 'sih', 'abis': 'habis', 'deuhh': 'duh', 'b2an': 'berduaan', 'dihargain': 'dihargai', 'engga\"': 'tidak-tidak', 'tahun2': 'tahun-tahun', 'lebayy': 'lebay', 'gilsss': 'gila', 'nganbek': 'mengambek', 'sukaa': 'suka', 'enk': 'enak', 'mendam': 'memendam', 'manta': 'mantan', 'relaaaa': 'rela', 'bgun': 'bangun', 'tdur': 'tidur', 'cntk': 'cantik', 'knl': 'kenal', 'anugrah': 'anugerah', 'slm': 'salam', 'kliatan': 'kelihatan', 'awoohhh': 'allah', 'cantiikk': 'cantik', 'gt': 'begitu', 'sbbyak': 'sebanyak', 'apun': 'apapun', 'nyangkutnya': 'menyangkutnya', 'untk': 'untuk', 'ampunnnnn': 'ampun', 'hy': 'hai', 'wadaaw': 'waduh', 'paraah': 'parah', 'sampw': 'sampai', 'dijelekin': 'dijelekkan', 'napa': 'kenapa', 'azeeeek': 'asik', 'ntikk': 'cantik', 'uhh': 'uh', 'mayan': 'lumayan', 'mnisss': 'manis', 'tambahim': 'tambahkan', 'tambahin': 'tambahkan', 'bener\"': 'benar-benar', 'make': 'memakai', 'canttikkk': 'cantik', 'baanggeettt': 'banget', 'ap': 'apa', 'siiihh': 'sih', 'krpoooo': 'kepo', 'pengn': 'pengin', 'nyusul': 'menyusul', 'nyok': 'yuk', 'dekkk': 'dek', 'ngiri': 'mengiri', 'mmang': 'memang', 'nentuin': 'menentukan', 'mnjmput': 'menjemput', 'ygs': 'sayang', 'mblooo': 'jomblo', \"ber'expresi\": 'berekspresi', 'jdulnya': 'judulnya', 'ciumman': 'ciuman', 'aurot': 'aurat', 'laginy': 'laginya', 'nyaaaaaaaaaaaaa': 'nya', 'alkhamdulilah': 'alhamdulillah', 'ktnya': 'katanya', 'selaluu': 'selalu', 'anjirrr': 'anjir', 'ngeh': 'engah', 'amen': 'amin', 'qm': 'kamu', 'nahhh': 'nah', 'ngmngnya': 'mengomongnya', 'sampai2': 'sampai-sampai', 'hal2': 'hal-hal', 'komunitas2': 'komunitas-komunitas', 'fotony': 'fotonya', 'halllo': 'halo', 'ngiritya': 'mengiritnya', 'hematt': 'hemat', 'ciyeeee': 'cie', 'yeeee': 'ya', 'nget': 'banget', 'kususnya': 'khususnya', 'krm': 'kirim', 'sam': 'sama', 'ajaaahhhhh': 'saja', 'syediiihhh': 'sedih', 'malangg': 'malang', 'belooomm': 'belum', 'yaakk': 'ya', 'kebukti': 'terbukti', 'anak2e': 'anak-anaknya', 'tuwanya': 'tuanya', 'comen2nya': 'komen-komennya', 'pedesssss': 'pedas', 'jelas2': 'jelas-jelas', 'skg': 'sekarang', 'nyebut2': 'menyebut-nyebut', 'plg': 'pulang', 'smbil': 'sambil', 'hellooooooo': 'halo', 'ngrebut': 'merebut', 'mnjdi': 'menjadi', 'taek': 'tahi', 'lupain': 'melupakan', 'bangkret': 'bangkrut', 'taekk': 'tahi', 'lahhhhhh': 'lah', 'kedokk': 'kedok', 'mati\"an': 'mati-matian', 'nyimak': 'menyimak', 'komenx': 'komennya', 'serem2': 'seram-seram', 'ngumpet\"': 'mengumpet-ngumpet', 'blim': 'belum', 'sekrang': 'sekarang', 'ngerebut': 'merebut', 'mnjijikaaaaaan': 'menjijikkan', 'astgfrlh': 'astagfirullah', 'sahabatt': 'sahabat', 'gnyngka': 'tidak menyangka', 'sendirir': 'sendiri', 'brengsekk': 'brengsek', 'ngomentnya': 'mengomentarinya', 'nusuk': 'menusuk', 'skr': 'sekarang', 'dpotong': 'dipotong', 'helo': 'halo', 'kmrin': 'kemarin', 'ngmgin': 'mengomongkan', 'bilangg': 'bilang', 'gkhianati': 'mengkhianati', 'kpd': 'kepada', 'hr': 'hari', 'sp': 'sapa', 'pljaran': 'pelajaran', 'spy': 'supaya', 'mngikuti': 'mengikuti', 'klkuan': 'kelakuan', 'dibikin2': 'dibikin-bikin', 'gimana': 'bagaimana', 'nnt': 'nanti', 'cew': 'cewek', 'cow': 'cowok', 'kasiannn': 'kasihan', 'syekaliii': 'sekali', 'hgga': 'hingga', 'cieeeee': 'cie', 'sholihah': 'salihah', 'adeuh': 'aduh', 'halahh': 'alah', 'luu': 'lu', 'yuuks': 'yuk', 'yoo': 'ya', 'ginian': 'beginian', 'judulnyaa': 'judulnya', 'ayoookkkkkk': 'ayo', 'artix': 'artinya', 'cewe': 'cewek', 'cowo': 'cowok', 'lt': 'lantai', 'nama\"': 'nama-nama', 'cwe': 'cewek', 'serem': 'seram', 'kepoin': 'kepo', 'keluarin': 'keluarkan', 'gajelas': 'tidak jelas', 'mbak2': 'mbak-mbak', 'pedes': 'pedas', 'komentnya': 'komentarnya', 'omongin': 'omongkan', 'ngalirrrrr': 'mengalir', 'idup': 'hidup', 'nmbah': 'menambah', 'terossss': 'terus', 'ngehujat': 'menghujat', 'dosaa': 'dosa', 'ngebela': 'membela', 'seindonesiyah': 'seindonesia', 'seh': 'sih', 'senyumin': 'senyumi', 'mh': 'mah', 'ngalir': 'mengalir', 'ngrusak': 'merusak', 'px': 'punya', 'kslhn': 'kesalahan', 'skrngnya': 'sekarangnya', 'emang': 'memang', 'kalik': 'kali', 'bilangin': 'bilang', 'nyambungin': 'menyambung', 'sllu': 'selalu', 'scra': 'secara', 'nggali': 'menggali', 'cmpur': 'campur', 'dgr': 'dengar', 'kurng': 'kurang', 'nangiiiiis': 'menangis', 'nangiiis': 'menangis', 'ngomentarin': 'mengomentari', 'idupnya': 'hidupnya', 'ortunya': 'orang tuanya', 'woey': 'woy', 'bloghhh': 'goblok', 'ngomongin': 'mengomongkan', 'doank': 'doang', 'abal\"': 'abal-abal', 'dikata2in': 'dikata-katai', 'ngehina': 'menghina', 'gmna': 'bagaimana', 'kebanggan': 'kebanggaan', 'dah': 'deh', 'jngn': 'jangan', 'mnjawab': 'menjawab', 'woooiiiiiiii': 'woy', 'dosaaaaaaaaaa': 'dosa', 'ingt': 'ingat', 'karmaaa': 'karma', 'woooiiiii': 'woy', 'ngkkkkkk': 'mengakak', 'makny': 'maknya', 'wdooohhh': 'waduh', 'kasihn': 'kasihan', 'lhirr': 'lahir', 'hujatann': 'hujatan', 'palgi': 'apalagi', 'wihhh': 'wih', 'kakakkk': 'kakak', 'bagusss': 'bagus', 'jt': 'juta', 'ngets': 'banget', 'stp': 'setiap', 'penbelian': 'pembelian', 'cuaantik': 'cantik', 'sukakkk': 'suka', 'm': 'sama', 'cucokkk': 'cocok', 'lyt': 'lihat', 'expresi': 'ekspresi', 'natap': 'menatap', 'ccok': 'cocok', 'helloo': 'halo', 'dripada': 'daripada', 'difotoin': 'difoto', 'psangan': 'pasangan', 'cakepp': 'cakep', 'ngiriii': 'mengiri', 'coxok': 'cocok', 'buatin': 'membuat', 'nihhh': 'nih', 'statusx': 'statusnya', 'cem': 'macam', 'yee': 'ya', 'sunggu': 'sungguh', 'lagiii': 'lagi', 'ammiiin': 'amin', 'haddeh': 'aduh', 'maaasss': 'mas', 'segerrrr': 'segar', 'kemn': 'kemana', 'suipit': 'sipit', 'sipiit': 'sipit', 'kedengeran': 'kedengaran', 'semangaatt': 'semangat', 'promil': 'program hamil', 'lancr': 'lancar', 'keputihn': 'keputihan', 'gratisss': 'gratis', 'kebayang': 'terbayang', 'mdh\"': 'mudah-mudah', 'bz': 'bisa', 'amiinn': 'amin', 'ammin': 'amin', 'mendapatkn': 'mendapatkan', 'lucuuuk': 'lucu', 'amaattt': 'amat', 'aje': 'saja', 'yaoloh': 'yaallah', 'ngerayain': 'merayakan', 'sotoy': 'sok tau', 'yok': 'yuk', 'd.bikinin': 'dibikin', 'mmz': 'mas', 'bikinin': 'membikin', 'bapeeeer': 'bawa perasaan', 'keliatannya': 'kelihatannya', 'siih': 'sih', 'diginiin': 'dibeginikan', 'hadeehh': 'aduh', 'pu': 'punya', 'suamiiiii': 'suami', 'krenn': 'keren', 'kebykan': 'kebanyakan', 'tingal': 'tinggal', 'pernikahn': 'pernikahan', 'ngtain': 'mengatai', 'macem': 'macam', 'bagusnyeee': 'bagusnya', 'kemaren': 'kemarin', 'hmpir': 'hampir', 'liatnyaaa': 'lihatnya', 'waw': 'wow', 'mbuh': 'embuh', 'bsk': 'besok', 'waaa': 'wah', 'berbiiiiiihhh': 'barbie', 'canteek': 'cantik', 'teru': 'terus', 'nyatok': 'mencatok', 'nyampenya': 'sampainya', 'goncengin': 'boncengkan', 'kasi': 'kasih', 'dianterin': 'diantar', 'gebleg': 'geblek', 'bosen': 'bosan', 'anterin': 'antarkan', 'ngantar': 'mengantar', 'nganterin': 'mengantarkan', 'mz': 'mas', 'nerima': 'menerima', 'ati2': 'hati-hati', 'yeuh': 'ya', 'kmn': 'kemana', 'dianter': 'diantar', 'disupirin': 'disopiri', 'jidad': 'jidat', 'ciee': 'cie', 'novembr': 'november', 'hri': 'hari', 'bedain': 'membedakan', 'genduut': 'gendut', 'ehhh': 'eh', 'bertatto': 'bertato', 'brrt': 'berarti', 'kana': 'kanan', 'dtg': 'datang', 'doong': 'dong', 'sblah': 'sebelah', 'tauuu': 'tau', 'tengaj': 'tengah', 'ps': 'pas', 'gmpg': 'gampang', 'engk': 'tidak', 'apal': 'hapal', 'dak': 'indak', 'rupa2nya': 'rupa-rupanya', 'kembaq': 'kembar', 'tngh': 'tengah', 'mknya': 'makanya', 'prmpuan': 'perempuan', 'ketuker': 'tertukar', 'drimnanya': 'darimananya', 'cntikan': 'cantikan', 'edaaaan': 'edan', 'syp': 'siapa', 'bcnda': 'bercanda', 'uhhh': 'uh', 'bazengg': 'bajingan', 'haiii': 'hai', 'bosaan': 'bosan', 'gitu2': 'begitu-gitu', 'kmana2': 'kemana-mana', 'hrsnya': 'harusnya', 'sdg': 'sedang', 'komentar2': 'komentar-komentar', 'kenyataan2': 'kenyataan-kenyataan', 'silahkan': 'silakan', 'lwt': 'lewat', 'sukur2': 'sukur-sukur', 'baek2': 'baik-baik', 'cma': 'cuma', 'berbeda2': 'berbeda-beda', 'dibkatakan': 'dikatakan', 'doonk': 'dong', 'pengikuy': 'pengikut', 'ngmngin': 'mengomongkan', 'sblmnya': 'sebelumnya', 'maksd': 'maksud', 'adkah': 'adakah', 'menbelah': 'membelah', 'ayuk': 'ayo', 'mngira': 'mengira', 'bertolernsi': 'bertoleransi', 'slahkan': 'salahkan', 'tolernsi': 'toleransi', 'sbnarnya': 'sebenarnya', 'ingi': 'ingin', 'oalaaaa': 'walah', 'menjelekan': 'menjelekkan', 'hadeuuh': 'aduh', 'dikemanain': 'dikemanakan', 'aneh2': 'aneh-aneh', 'bpknya': 'bapaknya', 'baca2': 'baca-baca', 'jwb': 'jawab', 'komen2': 'komen-komen', 'sebelum2nya': 'sebelum-sebelumnya', 'sbagai': 'sebagai', 'sedihh': 'sedih', 'kangennnn': 'kangen', 'gndakan': 'gandakan', 'kangeeeeeeeenya': 'kangen', 'gaa': 'tidak', \"ganti'kn\": 'menggantikan', 'tnang': 'tenang', 'amiiiiiiiiiiiiiiiiin': 'amin', 'kgeeeen': 'kangen', 'kangeenn': 'kangen', 'bangeeeet': 'banget', 'bsok': 'besok', 'hbis': 'habis', 'mti': 'mati', 'bngetttt': 'banget', 'kangeen': 'kangen', 'bgect': 'banget', 'kebaikan\"y': 'kebaikannya', 'dssi': 'disisi', 'kngenn': 'kangen', 'kangeeeeennn': 'kangen', 'lagii': 'lagi', 'dasyat': 'dahsyat', 'aer': 'air', 'bgni': 'begini', 'skalii': 'sekali', 'gg': 'tidak', 'dtinggl': 'ditinggal', 'terbaiiikkkkk': 'terbaik', 'murahhh': 'murah', 'pecahhg': 'pecah', 'kakakgh': 'kakak', 'terbaeeeek': 'terbaik', 'prempuan': 'perempuan', 'manteep': 'mantap', 'nggeh': 'engah', 'indonesiaaa': 'indonesia', 'inia': 'ini', 'maluu': 'malu', 'cobaaaa': 'coba', 'dehhh': 'deh', 'cepetan': 'cepatan', 'ntapsss': 'mantap', 'kamiiii': 'kami', 'smangat': 'semangat', 'qmu': 'kamu', 'sdkit2': 'sedikit-sedikit', 'tntg': 'tentang', 'penyakitny': 'penyakitnya', 'ngajarin': 'mengajari', 'laenny': 'lainnya', 'amiinnn': 'amin', 'scpatny': 'secepatnya', 'sampein': 'sampaikan', 'tuany': 'tuanya', 'doa2': 'doa-doa', 'pjg': 'panjang', 'adeeek': 'adek', 'bca': 'baca', 'netes': 'menetes', 'mataq': 'mataku', 'byangin': 'membayangkan', 'trjadi': 'terjadi', 'dposisi': 'diposisi', 'tanda2nya': 'tanda-tandanya', 'dijwb': 'dijawab', 'tmn2nya': 'teman-temannya', 'sayy': 'sayang', 'salaam': 'salam', 'ngajar': 'mengajar', 'fto2': 'foto-foto', 'laen': 'lain', 'dallam': 'dalam', 'tentanh': 'tentang', 'nangiss': 'menangis', 'nnton': 'menonton', 'kejadianny': 'kejadiannya', 'klg': 'keluarga', 'sayaang': 'sayang', 'msg2': 'masing-masing', 'pgnnya': 'penginnya', 'meluk': 'memeluk', 'siiihhh': 'sih', 'mupeng': 'muka pengin', 'caya': 'percaya', 'aduhhhhhhhhh': 'aduh', 'buseett': 'buset', 'mblo': 'jomblo', 'lucuuu': 'lucu', 'gagahx': 'gagahnya', 'miriiiip': 'mirip', 'kaliiii': 'kali', 'niru': 'meniru', 'bpkmu': 'bapakmu', 'sangt': 'sangat', 'baang': 'bang', 'gasih': 'tidak sih', 'yuu': 'yuk', 'yuuu': 'yuk', 'samaa': 'sama', 'ngademin': 'mengademkan', 'aahh': 'ah', 'makasi': 'terima kasih', 'looo': 'loh', 'yokk': 'yuk', 'gils': 'gila', 'ono': 'sono', 'weeeh': 'wih', 'suksea': 'sukses', 'temenan': 'berteman', 'sehh': 'sih', 'deket': 'dekat', 'dekt': 'dekat', 'genggg': 'geng', 'yawloh': 'ya allah', 'bhnya': 'bahannya', 'loo': 'lo', 'samaaaa': 'sama', 'abanggku': 'abangku', 'sayanggg': 'sayang', 'dsni': 'disini', 'ciieeeeeee': 'cie', 'kokohh': 'engkoh', 'pdhal': 'padahal', 'takuttt': 'takut', 'yuks': 'yuk', 'pnjual': 'penjual', 'yh': 'ya', 'dung': 'dong', 'latian': 'latihan', 'aaaaaaakkk': 'ah', 'mauuuu': 'mau', 'soga': 'moga', 'tteh': 'teteh', 'sintron': 'sinetron', 'astagaa': 'astaga', 'ancurrr': 'hancur', 'dblkang': 'dibelakang', 'yayang': 'sayang', 'gokillllll': 'gila', 'aplks': 'aplikasi', 'ska': 'suka', 'ktawa': 'ketawa', 'baguuus': 'bagus', 'kaaan': 'kan', 'ngepoin': 'mengepoi', 'uuhh': 'uh', 'beut': 'banget', 'njirrr': 'anjir', 'pengeeenn': 'pengin', 'dongggg': 'dong', 'hatii': 'hati', 'besook': 'besok', 'mauu': 'mau', 'gtuu': 'begitu', 'njayyy': 'anjay', 'maacih': 'terima kasih', 'tokayyy': 'tahi', 'to': 'tapi', 'mksdku': 'maksudku', 'gituin': 'begitukan', 'lgsung': 'langsung', 'cba': 'coba', 'nh': 'nih', 'ilang\"': 'hilang-hilang', 'giniin': 'beginikan', 'ksini': 'kesini', 'kubarikan': 'kuberikan', 'ayank': 'sayang', 'anyeng': 'anjing', 'yankkk': 'sayang', 'cukurrr': 'cukur', 'gilaaaaaa': 'gila', 'yhaaa': 'ya', 'qaqaaaa': 'kakak', 'sayangkuuuuu': 'sayangku', 'kakakuuu': 'kakakku', 'banx': 'bang', 'edannn': 'edan', 'bape': 'bawa perasaan', 'artis\"': 'artis-artis', 'ngelahirin': 'melahirkan', 'paksain': 'memaksa', 'biasaa': 'biasa', 'hub': 'hubungan', 'hubunggi': 'hubungi', 'loooh': 'loh', 'telimakacih': 'terima kasih', 'nerawang': 'menerawang', 'cantiiiik': 'cantik', 'didapet': 'didapat', 'tanya2': 'tanya-tanya', 'pede': 'percaya diri', 'kuningggg': 'kuning', 'nyolot': 'menyolot', 'elahh': 'alah', 'pnting': 'penting', 'bela2in': 'membela-bela', 'marah2an': 'marah-marahan', 'wlaupun': 'walaupun', 'syantiiiiikkkkkkkkkkkk': 'cantik', 'bwa\"': 'bawa-bawa', 'agma': 'agama', 'hijabb': 'hijab', 'kerrennn': 'keren', 'ngetik': 'mengetik', 'ntah': 'entah', 'pan': 'kapan', 'mateeeek': 'mati', 'geetoo': 'begitu', 'sewain': 'menyewa', 'kokkk': 'kok', 'muluuu': 'melulu', 'yaaang': 'yang', 'iyaa': 'iya', 'gituu': 'begitu', 'yappp': 'ya', 'uwahhhhh': 'wah', 'bnr2': 'benar-benar', 'psgn': 'pasangan', 'ujg': 'ujung', 'rmbut': 'rambut', 'smp': 'sampai', 'kki': 'kaki', 'hayukk': 'hayo', 'ntab': 'mantab', 'atuhhh': 'atuh', 'yukss': 'yuk', 'lihaatttt': 'lihat', 'niiiihh': 'nih', 'liattt': 'lihat', 'cuyyy': 'cuy', 'gapernah': 'tidak pernah', 'liatiii': 'lihat', 'jombsss': 'jomblo', 'emesshhh': 'gemas', 'gemeessss': 'gemas', 'poollll': 'pol', 'gemesyak': 'gemas ya', 'bngttt': 'banget', 'ngegmesin': 'menggemaskan', 'hndak': 'hendak', 'hndk': 'hendak', 'iiih': 'ih', 'lutunaa': 'lucunya', 'abiz': 'habis', 'gemes': 'gemas', 'ngareppppp': 'mengharap', 'aamiinin': 'amin', 'imuutt': 'imut', 'abizzz': 'habis', 'tay': 'tahi', 'toketnya': 'teteknya', 'tumpe2': 'tumpah-tumpah', 'lenje': 'lenjeh', 'tuuuuh': 'tuh', 'cantinya': 'cantiknya', 'macam2': 'macam-macam', 'mbak\"': 'mbak-mbak', 'ngatain': 'mengatai', 'mbaknyaahh': 'mbaknya', 'pyudara': 'payudara', 'ditutupin': 'ditutupi', 'bgitu': 'begitu', 'ngomongnya': 'mengomongnya', 'sich': 'sih', 'cantiik2': 'cantik-cantik', 'hati.a': 'hatinya', 'mk.a': 'makanya', 'mlt.a': 'mulutnya', 'nyerocooooos': 'mencerocos', 'kyk.a': 'kayaknya', 'sklh': 'sekolah', 'pljrn': 'pelajaran', 'srng': 'sering', 'ngilang': 'menghilang', 'dikatain': 'dikatai', 'maluuu': 'malu', 'ngalahin': 'mengalahkan', 'brisi': 'berisi', 'pkoknya': 'pokoknya', 'canti': 'cantik', 'astagfirullh': 'astagfirullah', 'nutupin': 'menutupi', 'ori': 'orisinal', 'kakakaaaaaaaaaaaaaa': 'kakak', 'cantikkkkkkkk': 'cantik', 'batwc': 'banget', 'kamyuhhh': 'kamu', 'dbwh': 'dibawah', 'bukti2': 'bukti-bukti', 'senenggg': 'senang', 'mao': 'mau', 'murhan': 'murahan', 'prwtn': 'perawatan', 'wjh': 'wajah', 'bgettt': 'banget', 'mereka2': 'mereka-mereka', 'pakke': 'pakai', 'dipake': 'dipakai', 'ktergantungan': 'ketergantungan', 'prwatn': 'perawatan', 'ngebuktiin': 'membuktikan', 'hslnya': 'hasilnya', 'awal2': 'awal-awal', 'setabil': 'stabil', 'maksih': 'terima kasih', 'gratiss': 'gratis', 'bbrpa': 'beberapa', 'gara\"': 'gara-gara', 'benar\"': 'benar-benar', 'ajaibb': 'ajaib', 'pokonya': 'pokoknya', 'setujuuu': 'setuju', 'digituin': 'dibegitukan', 'sekolahin': 'sekolahkan', 'ajarin': 'ajarkan', 'sendirii': 'sendiri', 'mrnghadapi': 'menghadapi', 'apalg': 'apalagi', 'naka': 'nakal', 'sdkt': 'sedikit', 'besar2in': 'besar-besarkan', 'bgmana': 'bagaimana', 's*inetr*n': 'sinetron', 'mrusak': 'merusak', 'mndpt': 'mendapat', 'skt': 'sakit', 'sebnyak': 'sebanyak', 'terburu2': 'terburu-buru', 'baik2': 'baik-baik', 'ngumpat2': 'mengumpat-ngumpat', 'nantangin': 'menantang', 'ngegampar': 'menggampar', 'ngelaporin': 'melaporkan', 'salahin': 'salahkan', 'gabisa': 'tidak bisa', 'konsekwensi': 'konsekuensi', 'muliany': 'mulianya', 'mungki': 'mungkin', 'lngsung': 'langsung', 'tsb': 'tersebut', 't4': 'tempat', 'bacahalah': 'bacalah', 'dikerasin': 'dikerasi', 'gkkan': 'tidak akan', 'ngulangin': 'mengulangi', 'bedaa': 'beda', 'pnyaa': 'punya', 'bol3h': 'boleh', 'ngadu': 'mengadu', 'ketauan': 'ketahuan', 'dimarahin': 'dimarahi', 'nyelesain': 'menyelesaikan', 'troma': 'trauma', 'kerasin': 'kerasi', 'kamu2': 'kamu-kamu', 'cewer': 'jewer', 'bilanh': 'bilang', 'jwban': 'jawaban', 'nuduh': 'menuduh', 'ngatur': 'mengatur', 'rajin2': 'rajin-rajin', 'bacaaaa': 'baca', 'kekk': 'kayak', 'jungkiir': 'jungkir', 'gunaa': 'guna', 'bales2in': 'balas-membalas', 'orangg': 'orang', 'tauuuu': 'tau', 'byak': 'banyak', 'kepad': 'kepada', 'bantuanny': 'bantuannya', 'ttinggi': 'tinggi', 'perna': 'pernah', 'grgr': 'gara-gara', 'jari2': 'jari-jari', 'pukulin': 'pukuli', 'bengkak2': 'bengkak-bengkak', 'komentarin': 'mengomentari', 'bijak2': 'bijak-bijak', 'lama2': 'lama-lama', 'menurur': 'menurut', 'tipe2': 'tipe-tipe', 'diliat': 'dilihat', 'liatlah': 'lihatlah', 'teguran2': 'teguran-teguran', 'gr2': 'gara-gara', 'gamau': 'tidak mau', 'skolah': 'sekolah', 'pdahal': 'padahal', 'klas': 'kelas', 'tkut': 'takut', 'grunya': 'gurunya', 'pndah': 'pindah', 'liat2': 'lihat-lihat', 'masukin': 'memasuki', 'dilindungin': 'dilindungi', 'kasiaannn': 'kasihan', 'miring2': 'miring-miring', 'tinggalin': 'tinggalkan', 'kaitannha': 'kaitannya', 'sud': 'sudah', 'pinter': 'pintar', 'rana': 'ranah', 'thdp': 'terhadap', 'scr': 'secara', 'bhkn': 'bahkan', 'justeru': 'justru', 'ngatai': 'mengatai', 'kln': 'kalian', 'sukak': 'suka', 'termuraaahhhh': 'termurah', 'brkunjun': 'berkunjung', 'suarranya': 'suaranya', 'bner\"': 'benar-benar', 'iu': 'itu', 'bgussss': 'bagus', 'kmaren': 'kemarin', 'ambilin': 'mengambil', 'biasaaaa': 'biasa', 'luuuaar': 'luar', 'redho': 'ridho', 'rezki': 'rezeki', 'kepd': 'kepada', 'luaarrr': 'luar', 'biasaaa': 'biasa', 'jadilh': 'jadilah', 'bnr': 'benar', 'terhaaru': 'terharu', 'orrunya': 'orang tuanya', 'flm': 'film', 'kalok': 'kalo', 'adek2': 'adek-adek', 'loncatt': 'loncat', 'hampasss': 'hempas', 'tehh': 'teh', 'bunga2': 'bunga-bunga', 'apaaan': 'apaan', 'ampuuunn': 'ampun', 'daaah': 'dah', 'bangetttttt': 'banget', 'ituh': 'itu', 'cantiiikk': 'cantik', 'suaranyaaaaaa': 'suaranya', 'idoolaaa': 'idola', 'pulaa': 'pula', 'penyanyi2': 'penyanyi-penyanyi', 'wiih': 'wih', 'apaa': 'apa', 'miriip': 'mirip', 'allaahh': 'allah', 'ajahhh': 'saja', 'trims': 'terima kasih', 'dehat': 'sehat', 'salammmm': 'salam', 'hari2': 'hari-hari', 'sihat': 'sehat', 'buruann': 'buruan', 'rekomendain': 'rekomendasikan', 'trussss': 'terus', 'bangt': 'banget', 'cepet': 'cepat', 'pesen': 'pesan', 'boong': 'bohong', 'prawatan': 'perawatan', 'mkin': 'makin', 'dimao': 'dimau', 'dijadiin': 'dijadikan', 'silahkn': 'silakan', 'kasiatnya': 'khasiatnya', 'minyak\"an': 'minyak-minyakan', 'suksess': 'sukses', 'prodak': 'produk', 'trasa': 'terasa', 'minpi': 'mimpi', 'bner2': 'benar-benar', 'mutihin': 'memutihkan', 'smster': 'semester', 'kmren': 'kemarin', 'ucull': 'lucu', 'ngomong\"': 'ngomong-ngomong', 'udehh': 'sudah', 'syngnya': 'sayangnya', 'dipermainin': 'dipermainkan', 'kocakkk': 'kocak', 'dasarrr': 'dasar', 'waaaaw': 'wow', 'cannnnntikkkkkkk': 'cantik', 'mukax': 'mukanya', 'cantikx': 'cantiknya', 'fatanik': 'fanatik', 'protestin': 'protestan', 'kakau': 'kalau', 'marh': 'marah', 'emngnya': 'memangnya', 'cantiknyaa': 'cantiknya', 'darpada': 'daripada', 'cooooooocok': 'cocok', 'pkk': 'pakai', 'sling': 'saling', \"agama'ny\": 'agamanya', 'bilng': 'bilang', 'prcy': 'percaya', 'lurusin': 'meluruskan', 'biri': 'biru', 'luco': 'lucu', 'ultha': 'ultah', 'batikk': 'batik', 'arab2': 'arab-arab', 'luchu': 'lucu', 'baguss': 'bagus', 'sedihhh': 'sedih', 'syang': 'sayang', 'ngasi': 'mengasih', 'naaaak': 'nak', 'astafirullah': 'astagfirullah', 'peragain': 'peragakan', 'shayyy': 'say', 'anjaayy': 'anjay', 'shay': 'say', 'ngilerrrr': 'mengiler', 'woyyy': 'woy', 'shaaaay': 'say', 'hempaass': 'hempas', 'sayyy': 'say', 'shayy': 'say', 'syantiek': 'cantik', 'njay': 'anjay', 'hehh': 'eh', 'cantik2': 'cantik-cantik', 'kam': 'kamu', 'ingeet': 'ingat', 'sblh': 'sebelah', 'nawarin': 'menawari', 'amiiiiin': 'amin', 'jauhhh': 'jauh', 'waaahhh': 'wah', 'ajakin': 'mengajak', 'mntn': 'mantan', 'ade': 'adek', 'luhhh': 'lu', 'yooookkk': 'yuk', 'jrnk': 'jarang', 'jelas\"': 'jelas-jelas', 'kayax': 'kayak', 'dblkng': 'dibelakang', 'anjirr': 'anjir', 'mirippp': 'mirip', 'sangattt': 'sangat', 'iyap': 'iya', 'mayann': 'lumayan', 'autuhh': 'tau tuh', 'atutt': 'takut', 'ketara': 'tertara', 'giniii': 'begini', 'mbaaass': 'mbak', 'bund': 'bunda', 'bangeeettt': 'banget', 'almh': 'almarhumah', 'temenkuuh': 'temanku', \"suami'y\": 'suaminya', 'bngeeeetttt': 'banget', 'entr': 'entar', 'kyax': 'kayak', 'cuantikkk': 'cantik', 'mksdnya': 'maksudnya', 'kaaaaaaaaaakkkkkkkkkkk': 'kak', \"kucing'y\": 'kucingnya', \"nama'in\": 'namai', \"panggilan'ya\": 'panggilannya', \"panggilan'y\": 'panggilannya', 'z': 'saja', 'kalw': 'kalau', 'tips2': 'tips-tips', 'alu': 'aku', 'ngerrrriiii': 'ngeri', 'ngriii': 'mengiri', 'amatt': 'amat', 'smpai': 'sampai', 'kox': 'kok', 'tmbah': 'tambah', 'cntikk': 'cantik', 'pkee': 'pakai', 'smkin': 'semakin', 'amiiiiinnn': 'amin', 'bgmna': 'bagaimana', 'ssorg': 'seseorang', 'hdpn': 'hadapan', 'foto2': 'foto-foto', 'mnambh': 'menambah', 'ktaatan': 'ketaatan', 'stju': 'setuju', 'cantikkkkkk': 'cantik', 'dilepas2': 'dilepas-lepas', 'tehhh': 'teh', 'istiqomahhh': 'istikamah', 'tehhhh': 'teh', 'prodaknya': 'produknya', 'imutt': 'imut', 'amu': 'kamu', 'nahh': 'nah', 'mauuuuuuu': 'mau', 'jilbb': 'jilbab', 'tmn': 'teman', 'ndut': 'gendut', 'ngecek': 'mengecek', 'psti': 'pasti', 'penasarn': 'penasaran', 'cuyy': 'cuy', 'astauviruloh': 'astagfirullah', 'paaak': 'pak', 'diajarin': 'diajari', 'gawl': 'gaul', 'kecr': 'kece', 'iih': 'ih', 'laaaah': 'lah', 'aned': 'banget', 'gingsungny': 'gingsulnya', 'blh': 'boleh', 'cariin': 'carikan', 'kenceng': 'kencang', 'cuanti': 'cantik', 'mbanya': 'mbaknya', 'knlan': 'kenalan', 'mbaakk': 'mbak', 'mrka': 'mereka', 'nyusahhin': 'menyusahkan', 'byaran': 'bayaran', 'wlawpun': 'walaupun', 'sedangkn': 'sedangkan', 'tnpa': 'tanpa', 'bnggain': 'banggakan', 'nyusahin': 'menyusahkan', 'malu2in': 'malu-malui', 'dibanggain': 'dibanggakan', 'wlau': 'walau', 'komenan': 'komentar', 'bangga\"in': 'membangga-banggakan', 'krya': 'karya', 'bilang\"': 'bilang-bilang', 'tinggall': 'tinggal', 'dmna': 'dimana', 'dripda': 'daripada', 'bangga2in': 'membangga-banggakan', 'dibnggain': 'dibanggakan', 'karya2': 'karya-karya', 'drimana': 'darimana', \"ngepake'\": 'memakai', 'gksalah': 'tidak salah', 'nuntut': 'menuntut', 'ngebiarin': 'membiarkan', 'bhas': 'bahas', \"lagu'y\": 'lagunya', 'jadiin': 'jadikan', 'diem': 'diam', 'nyampah': 'menyampah', 'mba\"': 'mbak-mbak', \"bukan'a\": 'bukannya', 'tappi': 'tapi', 'kalli': 'kali', 'pacara': 'pacaran', 'ngerebut\"': 'merebut-rebut', 'lluu': 'lu', 'mbaa': 'mbak', 'ngerussak': 'merusak', 'bela\"in': 'membela-bela', 'bellain': 'membela', 'kallo': 'kalo', 'coment': 'komentar', 'dewassa': 'dewasa', 'comnet': 'komen', 'pikir\"': 'pikir-pikir', \"kaya'a\": 'kayanya', 'kuyyy': 'yuk', 'kitaa': 'kita', \"sgtu'y\": 'sebegitunya', 'ngebelain': 'membela', 'tpii': 'tapi', 'karya\"': 'karya-karya', 'do': 'di', 'cali': 'caci', 'penghrgaan': 'penghargaan', 'ajjh': 'saja', 'lbihh': 'lebih', 'baikk': 'baik', 'drii': 'dari', 'artist\"': 'artis-artis', 'maki\"': 'maki-maki', 'sendirinnya': 'sendirinya', 'stidaknya': 'setidaknya', 'may': 'mau', 'trbaikk': 'terbaik', 'punn': 'pun', 'mengikutii': 'mengikuti', 'atassan': 'atasan', 'klauu': 'kalau', 'jngnn': 'jangan', 'so': 'sok', 'sendirinyya': 'sendirinya', 'frestasiii': 'prestasi', 'mst': 'mesti', 'add': 'ada', 'see': 'sih', 'sibukx': 'sibuknya', 'in': 'ini', 'katanyaa': 'katanya', 'lawaaaas': 'lawas', 'kocaaaak': 'kocak', 'syng': 'sayang', 'adenya': 'adeknya', 'pkoknyaa': 'pokoknya', 'dsana': 'disana', 'dua2nya': 'dua-duanya', 'sichhhhhhhhhh': 'sih', 'nampak': 'menampak', 'tetehh': 'teteh', 'wooowww': 'wow', 'cobain': 'mencoba', 'muga': 'moga', 'kenalin': 'memperkenalkan', 'janka': 'jangka', 'wawwwww': 'wow', 'waaaww': 'wow', 'waaawwww': 'wow', 'mantapp': 'mantap', 'cobaaa': 'coba', 'kageet': 'kaget', 'bangettttttt': 'banget', 'oplas': 'operasi plastik', 'nambahh': 'bertambah', 'paripurnahh': 'paripurna', 'wanitah': 'wanita', 'indonesiaah': 'indonesia', 'cumn': 'cuman', 'gegra': 'gegara', 'brita': 'berita', 'fotbar': 'foto bareng', 'wajarrr': 'wajar', 'sngt': 'sangat', 'wk': 'waktu', 'bingiittt': 'banget', 'nampar': 'menampar', 'tukan': 'tukang', 'jatoh': 'jatuh', 'muka\"': 'muka-muka', 'cantik2nya': 'cantik-cantiknya', 'sdgkn': 'sedangkan', 'apa\"': 'apa-apa', 'mancungin': 'memancungkan', 'idung': 'hidung', 'kusem': 'kusam', 'drpada': 'daripada', 'kmar': 'kamar', 'diemm': 'diam', 'tnggu': 'tunggu', 'ketawain': 'mentertawakan', 'yaelahhh': 'alah', 'sikap\"': 'sikap-sikap', 'bales': 'balas', 'ampuun': 'ampun', 'ngejatuhin': 'manjatuhkan', 'ngelakuin': 'melakukan', 'gedeg': 'gedek', 'muka2': 'muka-muka', 'eey': 'eh', 'kslahan': 'kesalahan', 'perhatiam': 'perhatian', 'dibiarin': 'dibiarkan', 'sbnrny': 'sebenarnya', 'trjd': 'terjadi', 'mkir': 'memikir', 'hny': 'hanya', 'apalai': 'apalagi', 'bkal': 'bakal', 'saat2': 'saat-saat', 'nyadar': 'menyadar', 'bka': 'buka', 'berani2': 'berani-berani', 'lucuuuuu': 'lucu', \"pipi'y\": 'pipinya', 'gemmeeezzz': 'gemas', 'sukam': 'suka', 'menghilangkn': 'menghilangkan', 'mnjdkan': 'menjadikan', 'mudah2n': 'mudah-mudahan', 'stlh': 'setelah', 'soalx': 'soalnya', 'keche': 'kece', 'badaii': 'badai', 'btuh': 'butuh', 'ktanya': 'katanya', 'bebrp': 'beberapa', 'sblum': 'sebelum', 'santab': 'santap', 'salehah': 'salihah', 'mikirin': 'memikirkan', 'subhannallah': 'subhanallah', 'konsul': 'konsultasi', 'pengalam': 'pengalaman', 'poko': 'pokok', 'trun': 'turun', 'kuninggg': 'kuning', 'pinkkkk': 'pink', 'warnany': 'warnanya', 'seger': 'segar', 'senangat': 'semangat', 'msknya': 'masaknya', 'kerennnn': 'keren', 'ciptain': 'menciptakan', 'bagussss': 'bagus', 'sayangkuh': 'sayangku', 'gans': 'ganteng', 'kren': 'keren', 'babget': 'banget', 'dihh': 'dih', 'jadu': 'jadi', 'ksyngn': 'kesayangan', 'haru': 'harus', 'ngingetin': 'mengingatkan', 'narik': 'menarik', 'orang\"': 'orang-orang', 'gokilll': 'gila', 'astagaaaa': 'astaga', 'hancuuuuuy': 'hancur', 'mattihhh': 'mati', 'beudd': 'banget', 'termiribkan': 'termiripkan', 'dngerin': 'mendengarkan', 'brrti': 'berarti', 'wenakk': 'enak', 'nganteng': 'ganteng', 'abanggg': 'abang', 'seksii': 'seksi', 'gtuh': 'begitu', 'jadii': 'jadi', 'emeezzz': 'gemas', 'amohhh': 'kamu', 'maau': 'mau', 'eyke': 'aku', 'gilakkkkk': 'gila', 'awk': 'awak', 'duhhhhh': 'duh', 'wowww': 'wow', 'liaatt': 'lihat', 'iniiiii': 'ini', 'aloh': 'allah', 'ngettt': 'banget', 'maso': 'masa', 'brubah': 'berubah', 'pelastik': 'plastik', 'keak': 'kayak', 'dengerin': 'mendengarkan', 'beud': 'banget', 'pahamin': 'memahami', 'takuuuuut': 'takut', 'ahahahanjirrr': 'anjir', 'jogetin': 'berjoget', 'shaay': 'say', 'boker': 'berak', 'pacarnyaa': 'pacarnya', 'siapaa': 'siapa', 'matii': 'mati', 'ketawaa': 'ketawa', 'wanjiir': 'anjir', 'bw': 'bawa', 'minta': 'meminta', 'bnran': 'benaran', 'sgla': 'segala', 'uitnya': 'duitnya', 'beliiin': 'belikan', 'yaaah': 'ya', 'sekaeang': 'sekarang', 'tgk': 'tengok', 'tanyain': 'tanyakan', 'jatuhnyaa': 'jatuhnya', 'banyakin': 'membanyaki', 'tipu2nya': 'tipu-tipunya', 'doaang': 'doang', 'gituan': 'begituan', 'kaj': 'kak', 'wahhhhhh': 'wah', 'iiiiiiiii': 'ih', 'kaliiiiiii': 'kali', 'melebihin': 'melebihi', 'gakpapa': 'tidak apa-apa', 'kalogak': 'kalo tidak', 'sm2': 'sama-sama', 'ndukung': 'mendukung', 'kaaaaa': 'kak', 'aamiinnn': 'amin', 'skluarga': 'sekeluarga', 'suaminga': 'suaminya', 'berhijap': 'berhijab', 'smgaa': 'semoga', 'istiqamah': 'istikamah', 'cuaaantikk': 'cantik', 'muraaaaah': 'murah', 'baraang': 'barang', 'aamiiin': 'amin', 'bets': 'banget', 'alhamdulillaaaaah': 'alhamdulillah', 'sembuhin': 'menyembuhkan', 'pengrusak': 'perusak', 'ngoceh': 'mengoceh', 'aduhhh': 'aduh', 'hpus': 'hapus', 'pjang': 'pajang', 'bdampingan': 'berdampingan', 'kaga': 'kagak', 'uih': 'uh', 'serem\"': 'seram-seram', 'happi\"': 'hepi-hepi', 'bgtuu': 'begitu', 'mff': 'maaf', 'ktwa': 'ketawa', 'trlalu': 'terlalu', 'jjur': 'jujur', 'ngmg': 'mengomong', 'semogaa': 'semoga', 'kepelesett': 'terpeleset', 'geeelaakk': 'gila', 'bolang': 'bocah petualang', 'pkek': 'pakai', 'lagihh': 'lagi', 'hedeuuhh': 'aduh', 'stress': 'stres', 'saltummmm': 'salah kostum', 'mboizzz': 'bois', 'suda': 'sudah', 'kayaq': 'kayak', 'ema': 'emak', 'dirumahny': 'dirumahnya', 'yuh': 'tuh', 'rmbt': 'rambut', 'apus': 'hapus', 'siapayahh': 'siapa ya', 'kostom': 'kostum', 'gnii': 'begini', 'atuu': 'satu', 'pipinyaaa': 'pipinya', 'bungkuuuuuuuuusss': 'bungkus', 'iiiihhhhhj': 'ih', 'emeessss': 'gemas', 'pipine': 'pipinya', 'glembeeeer': 'gelambir', 'lucunaaa': 'lucunya', 'cubanget': 'lucu banget', 'pengenn': 'pengin', 'unyuuk': 'unyu', 'dedek': 'adek', 'lucunyah': 'lucunya', 'mantaaap': 'mantap', 'keduaa': 'kedua', 'trsrh': 'terserah', 'ksih': 'kasih', 'seterong': 'setrong', 'teyuss': 'terus', 'dimasukin': 'dimasuki', 'jelekin': 'menjelekkan', 'jahatin': 'menjahati', 'tai': 'tahi', 'gtw': 'tidak tau', 'qo': 'kok', 'nulis': 'menulis', 'nyebutin': 'menyebutkan', 'ngertiin': 'mengerti', 'rasaiin': 'rasai', 'gakusah': 'tidak usah', 'disni': 'disini', 'sabarrr': 'sabar', 'semangaatttt': 'semangat', 'nyalahin': 'menyalahkan', 'bedainnya': 'membedakannya', 'keknya': 'kayaknya', 'krus': 'kurus', 'elaaaahhhh': 'alah', 'cogan': 'cowok ganteng', 'tap8': 'tapi', 'pandanginya': 'memandanginya', 'kenaliiin': 'kenalkan', 'banyak2': 'banyak-banyak', 'yo': 'ya', 'suko': 'suka', 'niih': 'nih', 'sihhhh': 'sih', 'sebaik\"': 'sebaik-baik', 'segtu': 'sebegitu', 'ngebenci': 'membenci', 'bakar2in': 'bakar-bakari', 'padhe': 'pakde', 'yya': 'ya', 'atw': 'atau', 'dosa2mu': 'dosa-dosamu', 'maafin': 'memaafi', 'gile': 'gila', 'ujung2': 'ujung-ujung', 'dalem2': 'dalam-dalam', 'kgak': 'kagak', 'bahas2': 'bahas-bahas', 'ud': 'sudah', 'woles': 'selow', 'hianatin': 'khianati', 'halangin': 'halangi', 'iyuh': 'ih', 'iyuuuhhhh': 'ih', 'gaje': 'tidak jelas', 'gabakal': 'tidak bakal', 'adapin': 'menghadapi', 'ngehakimi': 'menghakimi', 'ngejuangin': 'memperjuangkan', 'dipojokin': 'dipojokkan', 'bacotin': 'bacoti', 'berati': 'berarti', 'kebangetak': 'kebangetan', 'tangkep': 'tangkap', 'bt': 'buat', 'sadis2': 'sadis-sadis', 'maksir': 'menaksir', 'hebatt': 'hebat', 'pndang': 'pandang', 'pmbelajaran': 'pembelajaran', 'ngejelek': 'menjelekkan', 'maslah': 'masalah', 'mmperbaiki': 'memperbaiki', 'nahan': 'menahan', 'kafeh': 'kafe', 'remang2': 'remang-remang', 'mlh': 'malah', 'tinggl': 'tinggal', 'dirmh': 'dirumah', 'iyuuhhh': 'ih', 'ktika': 'ketika', 'dipuja2': 'dipuja-puja', 'ngrasain': 'merasai', 'ityl': 'itil', 'hbs': 'habis', 'marah2': 'marah-marah', 'wenak': 'enak', 'ngarang': 'mengarang', \"kelas'a\": 'kelasnya', 'hadeeehhh': 'aduh', 'kecil\"': 'kecil-kecil', 'gtu\"an': 'begitu-gituan', 'gmanapun': 'bagaimanapun', 'kr': 'kira', 'nenek2': 'nenek-nenek', 'taux': 'taunya', 'urat2nya': 'urat-uratnya', 'ketarik': 'tertarik', 'ngorbanin': 'mengorbankan', 'eksprsi': 'ekspresi', 'gitulah': 'begitulah', 'foto\"': 'foto-foto', 'mamas': 'mas', 'bandingin': 'bandingkan', 'tua2': 'tua-tua', 'terus2an': 'terus-terusan', 'waduhh': 'waduh', 'bawa\"': 'bawa-bawa', 'badingkan': 'membandingkan', 'ngurus': 'mengurus', 'lanjutin': 'lanjutkan', 'ributin': 'meributkan', 'brantem': 'berantem', 'belain': 'membela', 'lipetan': 'lipatan', 'nenek\"': 'nenek-nenek', 'bneraan': 'benaran', 'kageeet': 'kaget', 'sangaaattt': 'sangat', 'rmbuut': 'rambut', 'nt': 'nanti', 'walik': 'balik', 'oma2': 'oma-oma', 'kellen': 'kalian', 'nyerocos': 'mencerocos', 'ibuk2': 'ibu-ibu', 'ngomenin': 'mengomentari', 'iseng2': 'iseng-iseng', 'niyyyyhhhh': 'nih', 'sexi2': 'seksi-seksi', 'blik': 'balik', 'kenape': 'kenapa', 'ladenin': 'meladeni', 'skit': 'sakit', 'hat': 'hati', 'jilbabnye': 'jilbabnya', 'ledkin': 'meledeki', 'digabtikan': 'digantikan', 'jng': 'jangan', 'ngumung': 'mengomong', 'ilang-in': 'hilangkan', 'prinadi': 'pribadi', 'luh': 'lu', 'yep': 'ya', 'helooooo': 'halo', 'loe': 'lo', 'palingann': 'palingan', 'berjinah': 'berzina', 'munaafikk': 'munafik', 'urusn': 'urusan', 'saudra': 'saudara', 'trganggu': 'terganggu', 'bhijab': 'berhijab', 'lepasin': 'melepas', 'smentara': 'sementara', 'waduhhh': 'waduh', 'ursan': 'urusan', 'sudab': 'sudah', 'dwsa': 'dewasa', 'rpt2': 'repot-repot', 'ngaji': 'mengaji', 'nmr': 'nomor', 'romantiz': 'romantis', 'murmer': 'murah meriah', 'pensaran': 'penasaran', 'baru2': 'baru-baru', 'yuukk': 'yuk', 'kitaaa': 'kita', 'lainnyaa': 'lainnya', 'perbulannn': 'perbulan', 'penyebab2': 'penyebab-penyebab', 'nyupir': 'menyopir', 'steess': 'stres', 'kwatir': 'kawatir', 'tengah2': 'tengah-tengah', 'duetin': 'duet', 'mudaa': 'muda', 'sebenernya': 'sebenarnya', 'silsturahmi': 'silaturahmi', 'dijkt': 'dijakarta', 'cums': 'cuma', 'undangan2': 'undangan-undangan', 'past': 'pasti', 'ayukk': 'yuk', 'ngucapin': 'mengucapkan', 'filmny': 'filmnya', 'ntn': 'menonton', 'nobar': 'menonton bareng', 'kemariin': 'kemarin', 'knpp': 'kenapa', 'lggi': 'lagi', 'gaprgi': 'tidak pergi', 'aaahh': 'ah', 'pa2': 'apa-apa', 'dtunggu': 'ditunggu', 'masa2': 'masa-masa', 'kepikir': 'terpikir', 'seruuu': 'seru', 'emeshh': 'gemas', 'kaya': 'kayak', 'astagaaaaaa': 'astaga', 'pacarn': 'pacaran', 'ktg': 'kita', 'pacaranya': 'pacarannya', 'mbaak': 'mbak', 'ngalah': 'mengalah', 'de': 'deh', 'pacarane': 'pacarannya', 'rusakkk': 'rusak', 'yaaampunnn': 'ya ampun', 'tuwek': 'tua', 'mukae': 'mukanya', 'ultahe': 'ultahnya', 'kliatanya': 'kelihatannya', 'pcaranya': 'pacarannya', 'bermaksut': 'bermaksud', 'tampialannya': 'tampilannya', 'nikaah': 'nikah', 'anak\"': 'anak-anak', 'pankapan': 'kapan-kapan', 'ngumbar': 'mengumbar', 'dhpusin': 'dihapuskan', 'istiqomah': 'istikamah', 'mnutup': 'menutup', 'bngatt': 'banget', 'dii': 'di', 'ooh': 'oh', 'hapusin': 'hapuskan', 'lohhh': 'loh', 'ngeuh': 'engah', 'sneng': 'senang', 'mutusin': 'memutuskan', 'ngapus': 'menghapus', 'awl': 'awal', 'hrus': 'harus', 'bngkit': 'bangkit', 'mncoba': 'mencoba', 'wahhh': 'wah', 'mutuain': 'memutuskan', 'smw': 'semua', 'geuliiiiiiis': 'geulis', 'euyyyyy': 'euy', 'uuh': 'uh', 'ngirim': 'mengirim', 'ngidam': 'mengidam', 'waah': 'wah', 'sampis': 'sampah habis', 'maapin': 'maafi', 'ngebala': 'bala', 'mampuussss': 'mampus', 'diihhhh': 'dih', 'hrusnya': 'harusnya', 'sabal': 'sabar', 'udahlah': 'sudahlah', 'kauuuu': 'kau', 'sabaro': 'sabar', 'eehhh': 'eh', 'iiii': 'ih', 'kreative': 'kreatif', 'bangrt': 'banget', 'azekkkk': 'asik', 'kuaaatt': 'kuat', 'bhet': 'banget', 'inggrisny': 'inggrisnya', 'dsna': 'disana', 'iyaap': 'iya', 'mksih': 'terima kasih', 'nga': 'tidak', 'canyk': 'cantik', 'prodac': 'produk', 'nyesell': 'menyesal', 'ciyusss': 'serius', 'cyin': 'cinta', 'bangetttttttt': 'banget', 'sexi': 'seksi', 'bundaaaa': 'bunda', 'bangget': 'banget', 'bettt': 'banget', 'cantiiillx': 'cantik', 'brapa': 'berapa', 'alaami': 'alami', 'sabaarrr': 'sabar', 'cantiiiikk': 'cantik', 'bangeeeeetttt': 'banget', 'cannntikk': 'cantik', 'banggett': 'banget', 'thnan': 'tahunan', 'cuantik': 'cantik', 'segerr': 'segar', 'wouww': 'wow', 'cantiiikkk': 'cantik', 'pen': 'pengin', 'catokin': 'catok', 'ikut2an': 'ikut-ikutan', 'comment2nya': 'komentar-komentarnya', 'teman2': 'teman-teman', 'besar2an': 'besar-besaran', 'knsul': 'konsultasi', 'brhasil': 'berhasil', 'hilangin': 'menghilangkan', 'kontak2': 'kontak-kontak', 'dptnya': 'dapatnya', 'applikasi': 'aplikasi', 'kereeeeen': 'keren', 'bngeet': 'banget', 'gemesinnnnn': 'menggemaskan', 'ongkiir': 'ongkir', 'ajaibbbbb': 'ajaib', 'saayyyyy': 'say', 'lohhhh': 'loh', 'ganteung': 'ganteng', 'bhgia': 'bahagia', 'iiiiiiiiii': 'ih', 'lucuukk': 'lucu', 'keciil': 'kecil', 'yakinn': 'yakin', 'pentass': 'pentas', 'ngarep': 'mengharap', 'lucu2': 'lucu-lucu', 'testinya': 'testimoninya', 'mengirusi': 'mengurusi', 'khdpn': 'kehidupan', 'ngelawan': 'melawan', 'betuuuuulllllllllllllllll': 'betul', 'bisax': 'bisanya', 'klmbutan': 'kelembutan', 'seburuk2': 'seburuk-buruk', 'diingetin': 'diingatkan', 'ngeriiiiii': 'ngeri', 'nich': 'nih', 'akhlah': 'akhlak', 'elo2': 'lo-lo', 'mandiin': 'memandikan', 'nguburin': 'menguburkan', 'ngebedain': 'membedakan', 'urusanny': 'urusannya', 'tuhanny': 'tuhannya', 'brtngkar': 'bertengkar', 'pndapat': 'pendapat', 'looh': 'loh', 'sharusnya': 'seharusnya', 'mngkannya': 'mangkanya', 'nyia2in': 'menyia-nyiakan', 'brarti': 'berarti', 'mndpat': 'mendapat', 'kpuasan': 'kepuasan', 'sgampang': 'segampang', 'mlepaskan': 'melepaskan', 'trll': 'terlalu', 'sndr': 'sendiri', 'sellow': 'selow', 'sbbrnya': 'sebenarnya', 'kasar2': 'kasar-kasar', 'semangattt': 'semangat', 'testi': 'testimoni', 'banyaak': 'banyak', 'bujukk': 'bujuk', 'd.apa': 'diapa', 'apain': 'apai', 'dsar': 'dasar', 'benetaran': 'benaran', 'bneran': 'benaran', 'si': 'sih', 'kraya': 'karya', 'brg': 'bareng', 'ngebantu': 'membantu', 'janjutin': 'lanjutkan', 'kepppoin': 'kepoi', 'recommendasi': 'rekomendasi', 'btulan': 'betulan', 'kha': 'kah', 's': 'si', 'tutupin': 'menutupi', 'wik': 'wig', 'ithu': 'itu', 'botakin': 'botaki', 'botakkkk': 'botak', 'bnrn': 'benaran', 'week': 'wig', 'gawul': 'gaul', 'modes': 'modis', 'brayyy': 'bray', 'kcantikan': 'kecantikan', 'bronis': 'brondong manis', 'gapunya': 'tidak punya', 'bkln': 'bakalan', 'kecantikanga': 'kecantikannya', 'hiii': 'hai', 'piiiilih': 'pilih', 'deeh': 'deh', 'zama': 'zaman', 'gnti': 'ganti', 'nmnya': 'namanya', 'tapo': 'tapi', 'gkk': 'tidak', 'petinggi2': 'petinggi-petinggi', 'wota2': 'wota-wota', 'indefendet': 'independen', 'tempat2': 'tempat-tempat', 'taik': 'tahi', 'yuuuukkk': 'yuk', 'dituutup': 'ditutup', 'ngayal': 'mengkhayal', 'smvk': 'sempak', 'knyataan': 'kenyataan', 'njrittt': 'anjir', 'selmt': 'selamat', 'taz': 'atas', 'klhran': 'kelahiran', 'pertma': 'pertama', 'kelahuran': 'kelahiran', 'pertamany': 'pertamanya', 'mamax': 'mamanya', 'ankx': 'anaknya', 'cantip': 'cantik', 'klahiran': 'kelahiran', 'slmat': 'selamat', 'mmbanggakan': 'membanggakan', 'ortuny': 'orang tuanya', 'selmat': 'selamat', 'bnda': 'bunda', 'nyah': 'nya', 'prtamax': 'pertamanya', 'moqa': 'moga', 'yq': 'yang', 'brbakti': 'berbakti', 'gewlaaaaa': 'gila', 'basodaraa': 'bersaudara', 'hargs': 'harga', 'perhatiin': 'perhatikan', 'abal2': 'abal-abal', 'bantuim': 'bantu', 'adl': 'adalah', 'pelwak': 'pelawak', 'suces': 'sukses', 'sucses': 'sukses', 'garemin': 'garami', 'gapake': 'tidak pakai', 'ngiringan': 'mengiringi', 'karir.a': 'karirnya', 'aamin': 'amin', 'teruz': 'terus', 'kemarn': 'kemarin', 'recomendasinya': 'rekomendasinya', 'promoo': 'promo', 'ongkirr': 'ongkir', 'mskasih': 'terima kasih', 'wowwwww': 'wow', 'seeeemua': 'semua', 'batesin': 'batasi', 'bijin': 'bikin', 'ngeidealin': 'mengidealkan', 'bhn': 'bahan', 'gasalah': 'tidak salah', 'brsma': 'bersama', 'le': 'boleh', 'ugha': 'juga', 'semuaaa': 'semua', 'heeee': 'hai', 'rame2': 'rame-rame', 'yam': 'ya', 'kartunin': 'kartun', 'kyaknya': 'kayaknya', 'abez': 'habis', 'baaaaaang': 'bang', 'ganteeeeng': 'ganteng', 'entahhh': 'entah', 'gimanaaaa': 'bagaimana', 'duuhh': 'duh', 'gantengnyaaaa': 'gantengnya', 'kpn2': 'kapan-kapan', 'pans': 'fan', 'kuliyh': 'kuliah', 'gantengkuuuuuu': 'gantengku', 'atassss': 'atas', 'orgny': 'orangnya', 'owalaah': 'walah', 'aslinyo': 'aslinya', 'alissnyaa': 'alisnya', 'masaaaa': 'masa', 'komuk': 'muka', 'kalahnye': 'kalahnya', 'iyaaaa': 'iya', 'fakultass': 'fakultas', 'smrg': 'semarang', 'unyu2': 'unyu-unyu', 'koq': 'kok', 'yyaaa': 'ya', 'insonniaaa': 'insomnia', 'adekx': 'adeknya', 'azaab': 'azab', 'gksi': 'tidak sih', 'greged': 'greget', 'alamiii': 'alami', 'ktemu': 'ketemu', 'ditayangin': 'ditayangkan', 'ms\"': 'masa-masa', 'meranin': 'memerankan', 'nontonny': 'menontonnya', 'rekomendasiiin': 'merekomendasikan', 'sista2': 'sista-sista', 'agan2': 'agan-agan', 'ngg': 'tidak', 'nanget': 'banget', 'ngeditnya': 'mengeditnya', 'himana': 'bagaimana', 'kekgini': 'kayak begini', 'subhanaallahh': 'subhanallah', 'sangat2': 'sangat-sangat', 'terharuuuu': 'terharu', 'kata\"': 'kata-kata', 'subhanallahhh': 'subhanallah', 'tlsn': 'tulisan', 'nagiss': 'menangis', 'aneut': 'banget', 'trrharu': 'terharu', 'subhnallah': 'subhanallah', 'allahh': 'allah', 'suamiii': 'suami', 'dcintai': 'dicintai', 'klrga': 'keluarga', \"liat'y\": 'lihatnya', 'lggeng': 'langgeng', 'romantisny': 'romatisnya', 'duhhh': 'duh', 'pcar': 'pacar', 'kakanga': 'kakaknya', 'slw': 'selow', 'cpa': 'siapa', 'akuu': 'aku', 'aelah': 'alah', 'orabg': 'orang', 'mukanyaa': 'mukanya', 'kakakny': 'kakaknya', 'woooyy': 'woy', 'ngelucu': 'melucu', 'bukak': 'buka', 'mato': 'mata', 'kareno': 'karena', 'cino': 'cina', 'munafikk': 'munafik', 'meker': 'mikir', 'indoneaia': 'indonesia', 'benarin': 'membenarkan', 'jaadii': 'jadi', 'apo': 'apa', 'nyo': 'nya', 'miara': 'memiara', 'jalanani': 'menjalani', 'dalil2': 'dalil-dalil', 'sunah2': 'sunah-sunah', 'sdah': 'sudah', 'benda2': 'benda-benda', 'bilang2': 'bilang-bilang', 'emangnya': 'memangnya', 'rumpiin': 'rumpi', 'hotak': 'botak', 'ikut2': 'ikut-ikut', 'jawabanny': 'jawabannya', 'ajj': 'saja', 'mikir2': 'memikir-mikir', 'melihara': 'memelihara', 'oooh': 'oh', 'hidupx': 'hidupnya', 'ngefans': 'fan', 'lsg': 'langsung', 'uztad': 'ustad', 'anjingnyaa': 'anjingnya', 'pegang2': 'pegang-pegang', 'ilmh': 'ilmu', 'menasehati': 'menasihati', 'suka2': 'suka-suka', 'kelus': 'kali', 'hubngan': 'hubungan', 'koclak': 'kocak', 'bju': 'baju', 'cinggirnyaaaa': 'cinggirnya', 'yahhhh': 'ya', 'miripppp': 'mirip', 'sedikitlaahh': 'sedikitlah', 'miriplahhhhhh': 'miriplah', 'syediih': 'sedih', 'mirp': 'mirip', 'baju.a': 'bajunya', 'wiiiihhhhhhhhh': 'wih', 'gantheng': 'ganteng', 'synk': 'sayang', 'ngfans': 'fan', 'miriiippp': 'mirip', 'idungnya': 'hidungnya', 'wooow': 'wow', 'panglingg': 'pangling', 'artisnyaa': 'artisnya', 'dtggu': 'ditunggu', 'trnyata': 'ternyata', 'bgtttttttt': 'banget', 'rapih': 'rapi', 'buuun': 'bun', 'iyaappps': 'iya', 'sukse': 'sukses', 'nih2': 'nih-nih', 'baruu': 'baru', 'kecptan': 'kecepatan', 'rmbutnya': 'rambutnya', 'giti': 'begitu', 'penganten': 'pengantin', 'wrn': 'warna', 'ne': 'ini', 'cantikkkkk': 'cantik', 'fans': 'fan', 'loksyut': 'lokasi syuting', 'amfun': 'ampun', \"k'\": 'kak', 'asuuu': 'asu', 'kuu': 'ku', 'dsini': 'disini', 'dibls': 'dibalas', 'ceklist': 'ceklis', 'terusss': 'terus', 'tlvn': 'telepon', 'trkrim': 'terkirim', 'kelaluan': 'kelakuan', 'guanteng': 'ganteng', 'cucok': 'cocok', 'c': 'sih', 'gueee': 'gue', 'semangatt': 'semangat', 'haduh': 'aduh', 'mlz': 'malas', 'emak2': 'emak-emak', 'tante2': 'tante-tante', 'kepoh': 'kepo', 'jalanin': 'menjalani', 'repong': 'repot', 'ngrusin': 'mengurusi', 'iy': 'iya', 'dnk': 'dong', 'senyumna': 'senyumnya', 'ngejelek2in': 'menjelek-jelekkan', 'hotx': 'hotnya', 'cwnya': 'ceweknya', 'mbaaahhh': 'mbah', 'pasangn': 'pasangan', 'sttus': 'status', 'aama': 'sama', 'hadeuuhhhh': 'aduh', 'lebar2': 'lebar-lebar', 'sstu': 'sesuatu', 'serasiii': 'serasi', 'cocokx': 'cocoknya', 'emakx': 'emaknya', 'iniiiiiiiiiiiiiii': 'ini', 'cocookk': 'cocok', 'kll': 'kalo', 'arghhh': 'ah', 'ungkapin': 'ungkapkan', 'merrid': 'merit', 'neh': 'nih', 'cocokkkkk': 'cocok', 'yaolohh': 'ya allah', 'aee': 'saja', 'naggung': 'menanggung', 'battt': 'banget', 'am': 'sama', 'tah': 'teh', 'luthuna': 'lucunya', 'astagaaa': 'astaga', 'suaraynyaa': 'suaranya', 'duanyaa': 'duanya', 'anjayyyy': 'anjay', 'coeggg': 'coeg', 'ancur': 'hancur', 'koplak': 'kocak', 'uaaasssiiiik': 'asik', 'boss': 'bos', 'nyubit': 'mencubit', 'dede': 'adek', 'gemez': 'gemas', 'tium': 'cium', 'gemeeezzzz': 'gemas', 'ppa': 'papa', 'papahhhnya': 'papahnya', 'duuuhh': 'duh', 'ginting': 'ganteng', 'bingiiittzz': 'banget', 'iiihh': 'ih', 'dedeknya': 'adeknya', 'hadeeuh': 'aduh', 'geneeee': 'begini', 'yooow': 'ya', 'gemezz': 'gemas', 'gayax': 'gayanya', 'infpyunnnn': 'ampun', 'paraaah': 'parah', 'papiii': 'papi', 'kamunyaa': 'kamunya', 'ngambek': 'mengambek', 'haduuuh': 'aduh', 'kapaan': 'kapan', 'nginjek': 'menginjak', 'putihnyaa': 'putihnya', 'ituuuu': 'itu', 'omaaaaaaakk': 'oma', 'loncattt': 'loncat', 'didatengin': 'didatangi', 'abg': 'abang', 'kmariiin': 'kemarin', 'ayoklaa': 'ayolah', 'jelasssss': 'jelas', 'kaliiin': 'kalian', 'ujunggg': 'ujung', 'kaakaaaa': 'kakak', 'srruu': 'seru', 'kannn': 'kan', 'jmpaaaa': 'jumpa', 'yukkk': 'yuk', 'haii': 'hai', 'syukaaakkk': 'suka', 'dengeeriin': 'dengarkan', 'yakaliiiii': 'yakali', 'atuhh': 'atuh', 'ngertii': 'mengerti', 'apalgi': 'apalagi', 'akuh': 'aku', 'mesrany': 'mesranya', 'jendes': 'janda', 'ngggk': 'tidak', 'coccokk': 'cocok', 'msa': 'masa', 'jendesss': 'janda', 'klepek2': 'klepek-klepek', 'bngtttt': 'banget', 'ponakn': 'ponakan', 'tantee': 'tante', 'gadiss': 'gadis', 'tpy': 'tapi', 'jnda': 'janda', 'bngy': 'banget', 'bujngn': 'bujangan', 'ngp': 'mengapa', 'padetan': 'padatan', 'bawa2': 'bawa-bawa', 'nyobain': 'mencoba', 'pcaran': 'pacaran', 'or': 'orang', 'tdak': 'tidak', 'prcuma': 'percuma', 'langgengggg': 'langgeng', 'sekaliiiii': 'sekali', 'anehhh': 'aneh', 'hayal': 'khayal', 'bedua': 'berdua', 'bapeerr': 'bawa perasaan', 'keinget': 'teringat', 'merekak': 'mereka', 'kreeenn': 'keren', 'abisss': 'habis', 'kocaaaakkk': 'kocak', 'abiiiss': 'habis', 'pass': 'pas', 'personill': 'personil', 'lengkapp': 'lengkap', 'ampuuun': 'ampun', 'iiihhhh': 'ih', 'flim.a': 'filmnya', 'trusan.a': 'terusannya', 'tdung': 'tudung', 'gangguin': 'mengganggu', 'lgkah2': 'langkah-langkah', 'taw': 'tau', 'cntiiikkk': 'cantik', 'tegaar': 'tegar', 'sktlrang': 'sekarang', 'kangeeeennnnn': 'kangen', 'sjk': 'sejak', 'tambh': 'tambah', 'nangiis': 'menangis', 'nyaaaaaaaaa': 'nya', 'bundaa': 'bunda', 'duuhhhhh': 'duh', 'gaada': 'tidak ada', 'malsudnya': 'maksudnya', 'lluuccuu': 'lucu', 'siappa': 'siapa', 'martabakk': 'martabak', 'skali2': 'sekali-kali', 'kueren2': 'keren-keren', 'abgnya': 'abangnya', 'warkop': 'warung kopi', 'hayuu': 'hayo', 'kenapaa': 'kenapa', 'ilang2an': 'hilang-hilangan', 'ayooook': 'ayo', 'astagaaaaaaaa': 'astaga', 'inihhh': 'ini', 'oom': 'om', 'mansetan': 'bermanset', 'cadasss': 'cadas', 'kereeeeennn': 'keren', 'temen\"': 'teman-teman', 'telefisi': 'televisi', 'nikmatin': 'menikmati', 'mantappp': 'mantap', 'mbahh': 'mbah', 'giitu': 'begitu', 'mtanya': 'matanya', 'cpit': 'sipit', 'dee': 'dek', 'sumvahh': 'sumpah', 'tamvann': 'tampan', 'yap': 'ya', 'guaaaaaaa': 'gua', 'capa': 'sapa', 'ngakakkk': 'mengakak', 'liaat': 'lihat', 'gantweng': 'ganteng', 'anjjjjjjjj': 'anjing', 'gakwad': 'tidak kuat', 'seru2': 'seru-seru', 'iniii': 'ini', 'favoriteeee': 'favorit', 'adaa': 'ada', 'dinyanyiin': 'dinyanyikan', 'seruu': 'seru', 'nyengir': 'menyengir', 'temennya': 'temannya', 'klk': 'kelak', 'brjdh': 'berjodoh', 'akhrt': 'akhirat', 'kangennnnn': 'kangen', 'kanggen': 'kangen', 'kangennnnnnn': 'kangen', 'ysh': 'ya', 'sypa': 'siapa', 'nangisss': 'menangis', 'brjodoh': 'berjodoh', 'kaliann': 'kalian', 'barengg': 'bareng', 'kpnpun': 'kapanpun', 'mendj': 'menjadi', 'allahhhh': 'allah', 'merindinggg': 'merinding', 'amiennnn': 'amien', 'iihh': 'ih', 'lhir': 'lahir', 'udeh': 'sudah', 'menjdi': 'menjadi', 'debay': 'adek bayi', 'bangeer': 'banget', 'lafazd': 'lafaz', 'pmbyran': 'pembayaran', 'plsa': 'pulsa', 'dimana\"': 'dimana-mana', 'sokk': 'sok', 'ngambekan': 'ambekan', 'sma2': 'sama-sama', 'ngom': 'mengomong', 'toloollll': 'tolol', 'bodhooo': 'bodoh', 'peliharaaaa': 'pelihara', 'makanyaa': 'makanya', 'ati\"': 'hati-hati', 'kemakan': 'termakan', 'bodhoo': 'bodoh', 'siihhh': 'sih', 'andaaa': 'anda', 'buktinyaaa': 'buktinya', 'smuaaa': 'semua', 'ngambeknya': 'mengambeknya', 'kebongkar': 'terbongkar', 'tapii': 'tapi', 'kasiian': 'kasihan', 'diladenin': 'diladeni', 'comen': 'komen', 'ngtif': 'negatif', 'comntr': 'komentar', 'kaliannn': 'kalian', 'brdiri': 'berdiri', 'mulutny': 'mulutnya', 'msalah': 'masalah', 'trserh': 'terserah', 'waduuuuh': 'waduh', 'ngedukung': 'mendukung', 'dihpus': 'dihapus', 'mrekaa': 'mereka', 'cakeeeeppp': 'cakep', 'benerr': 'benar', 'brg\"': 'bareng-bareng', 'baanget': 'banget', 'anjaaaayyyyyy': 'anjay', 'ngetsz': 'banget', 'utkmu': 'untukmu', 'anj': 'anjing', 'merekaa': 'mereka', 'kann': 'kan', 'dieee': 'dia', 'yaahh': 'ya', 'hijap': 'hijab', 'ternodain': 'ternodai', 'ngeri2': 'ngeri-ngeri', 'mn': 'mana', 'kt2': 'kata-kata', 'agk': 'agak', 'slhkan': 'salahkan', 'jilbabny': 'jilbabnya', 'perilakuny': 'perilakunya', 'ketaatanny': 'ketaatannya', 'kepda': 'kepada', 'sblmny': 'sebelumnya', 'bljr': 'belajar', 'pedulilaaaah': 'pedulilah', 'ingetin': 'mengingatkan', 'terjrumus': 'terjerumus', 'stuju': 'setuju', 'sbb': 'sebab', 'igtlah': 'ingatlah', 'dtgkan': 'datangkan', 'benahin': 'membenahi', 'ohhhh': 'oh', 'yapp': 'ya', 'jauhh': 'jauh', 'bingitt': 'banget', 'buka2an': 'buka-bukaan', 'ngembali': 'kembali', 'semngat': 'semangat', 'lekong': 'laki', 'kacauuuu': 'kacau', 'ngimpi': 'mimpi', 'owh': 'oh', 'ngerampas': 'merampas', 'ngehancurin': 'menghancurkan', 'ngungkit2': 'mengungkit-ungkit', 'kaleee': 'kali', 'caranga': 'caranya', 'usa': 'usah', 'dipikirin': 'dipikirkan', 'nunduk': 'menunduk', 'tembemmm': 'tembem', 'lucuuuuuuuuuu': 'lucu', 'bundaaa': 'bunda', 'nyubitt': 'mencubit', 'jls2': 'jelas-jelas', 'supeer': 'super', 'inni': 'ini', 'appa': 'apa', 'hayooo': 'hayo', 'adyem': 'adem', 'mitnah': 'memfitnah', 'cantiknyaaaaa': 'cantiknya', 'tmbm': 'tembam', 'cantix': 'cantik', 'kriput': 'keriput', 'jelex': 'jelek', 'drmn': 'darimana', 'laku\"': 'laku-laku', 'orang\"nya': 'orang-orangnya', 'kacian': 'kasihan', 'cape': 'capek', 'mancing2': 'memancing-mancing', 'eeeeh': 'eh', 'kpancing': 'terpancing', 'lakuin': 'melakukan', 'cri': 'cari', 'sbenernya': 'sebenarnya', 'mikirinnn': 'memikirkan', 'diam\"': 'diam-diam', 'mengalahkn': 'mengalahkan', 'nyindirin': 'menyindir', 'nee': 'ini', 'klakuan': 'kelakuan', 'mksdx': 'maksudnya', 'shabat': 'sahabat', 'jk': 'jika', 'brbuat': 'berbuat', 'mmberi': 'memberi', 'nm': 'nama', 'sbhabat': 'sahabat', 'pnjerumus': 'penjerumus', 'tman': 'teman', 'shbat': 'sahabat', 'melakukn': 'melakukan', 'seorg': 'seorang', 'berkluarga': 'berkeluarga', 'siapa2': 'siapa-siapa', 'ketipu': 'tertipu', 'laki\"': 'laki-laki', 'mengait2kan': 'mengait-ngaitkan', 'nyir2': 'nyinyir', 'gosipin': 'menggosipkan', 'sendri': 'sendiri', 'bntar': 'bentar', 'duuuhhh': 'duh', 'nmbk': 'menembak', 'gakkk': 'tidak', 'abiiiiisssss': 'habis', 'tikung2': 'tikung-tikung', 'cwok': 'cowok', 'bangedd': 'banget', 'wuastagah': 'astaga', 'bedaaa': 'beda', 'jaoooh': 'jauh', 'mateeeeeeeeeeee': 'mati', 'parsis': 'persis', 'sumpeh': 'sumpah', 'iyh': 'iya', 'kmana': 'kemana', 'cantiqs': 'cantik', 'kecik': 'kecil', 'brasa': 'berasa', 'trlihat': 'terlihat', 'mmberikan': 'memberikan', 'khidupan': 'kehidupan', 'srpti': 'seperti', 'dinamakn': 'dinamakan', 'sgtu': 'sebegitu', 'paati': 'pasti', 'kutuu': 'kutu', 'setelur2nya': 'setelur-telurnya', 'khadiran': 'kehadiran', 'kel': 'keluarga', 'srta': 'serta', 'kcil': 'kecil', 'kberkahn': 'keberkahan', 'kbahagiaan': 'kebahagiaan', 'tntram': 'tentram', 'brsama': 'bersama', 'hngga': 'hingga', 'brpndapat': 'berpendapat', 'trutama': 'terutama', 'hiraukn': 'hiraukan', 'diamkn': 'diamkan', 'hrsny': 'harusny', 'brsyukur': 'bersyukur', 'mmberikn': 'memberikan', 'rasakn': 'rasakan', 'cari2': 'cari-cari', 'kesalahanny': 'kesalahannya', 'kekuranganny': 'kekurangannya', 'seandainy': 'seandainya', 'perasaanny': 'perasaannya', 'diindonesis': 'diindonesia', 'liyatnya': 'lihatnya', 'kayahhh': 'kaya', 'ala2': 'ala-ala', 'yook': 'yuk', 'yoookkkk': 'yuk', 'siihh': 'sih', 'elus2': 'elus-elus', 'asliiiii': 'asli', 'aduuhhhh': 'aduh', 'belom': 'belum', 'padahl': 'padahal', 'btul': 'betul', 'kejahatn': 'kejahatan', 'slam': 'salam', 'ngelewati': 'melewati', 'kalu': 'kalau', 'ngerendahin': 'merendahkan', 'apaalahh': 'apalah', 'tnp': 'tanpa', 'menyebut2': 'menyebut-nyebut', 'mnt': 'minta', 'kiya': 'kita', 'miriiiiip': 'mirip', 'dirimuuu': 'dirimu', 'yoiiu': 'yoi', 'semuanyaaaa': 'semuanya', 'suka.a': 'sukanya', 'jdii': 'jadi', 'blnja': 'belanja', 'brangnya': 'barangnya', 'ada2': 'ada-ada', 'nimpuk': 'menimpuk', 'abiss': 'habis', 'prlu': 'perlu', 'coyyy': 'coy', 'suaranyaa': 'suaranya', 'jnagn': 'jangan', 'kcwa': 'kecewa', 'jaman2': 'jaman-jaman', 'sok2an': 'sok-sokan', 'dket2in': 'dekat-dekati', 'cobak': 'coba', 'britanya': 'beritanya', 'tau2': 'tau-tau', 'mahh': 'mah', 'jamam': 'jaman', 'paraa': 'para', 'seharusny': 'seharusnya', 'dasaar': 'dasar', 'bergunaa': 'berguna', 'mulutnyaaa': 'mulutnya', 'blkng': 'belakang', 'kcewa': 'kecewa', 'mnusuk': 'menusuk', 'blkang': 'belakang', 'nembak': 'menembak', 'trmanis': 'termanis', 'krng': 'kurang', 'kaciiaann': 'kasihan', 'nyela': 'mencela', 'ngejilat': 'menjilat', 'hallooo': 'halo', 'deketin': 'dekati', 'tayik': 'tahi', 'halooo': 'halo', 'ustzah': 'ustazah', 'halow': 'halo', 'poooolllll': 'pol', 'tahannn': 'tahan', 'aduuh': 'aduh', 'nyimpen': 'menyimpan', 'ngarsipin': 'mengarsipkan', 'cman': 'cuman', 'gituuuuu': 'begitu', 'kyy': 'kaya', 'kngn': 'kangen', 'kq': 'kok', 'nyesek': 'menyesak', 'rinduuuuuuu': 'rindu', 'b2': 'berdua', 'kangeeeennn': 'kangen', 'mg': 'moga', 'aamiiiiinnn': 'amin', 'gemezzzz': 'gemas', 'kangennnnnn': 'kangen', 'prh': 'parah', 'bakattt': 'bakat', 'napsuu': 'napsu', 'gmau': 'tidak mau', 'luccu': 'lucu', 'prasaan': 'perasaan', 'lahirr': 'lahir', 'setujuuuu': 'setuju', 'sering2': 'sering-sering', 'ceemen': 'cemen', 'sembunyi\"\"': 'sembunyi-sembunyi', 'skrnh': 'sekarang', 'cerdiik': 'cerdik', 'jeniuss': 'jenius', 'kurangin': 'kurangi', 'kreen': 'keren', \"s'lalu\": 'selalu', 'mauuuuuu': 'mau', 'mintk': 'minta', 'nyolong': 'mencolong', 'pnjng': 'panjang', 'slaluuuuu': 'selalu', 'kanggggg': 'kang', 'rezeqinya': 'rezekinya', 'pintr': 'pintar', 'dekk': 'dek', 'maw': 'mau', 'kura2': 'kura-kura', 'edaaann': 'edan', 'nempel': 'menempel', 'hatiiii': 'hati', 'sukkaa': 'suka', 'luuuucuuu': 'lucu', 'caantiiik': 'cantik', 'luucuuu': 'lucu', 'putihh': 'putih', 'terus\"an': 'terus-terusan', 'siiih': 'sih', 'ternyataa': 'ternyata', 'pollll': 'pol', 'sekaliiii': 'sekali', 'peduliin': 'mempedulikan', 'komntr': 'komentar', 'smngat': 'semangat', 'dosax': 'dosanya', 'pahalax': 'pahalanya', 'akhirt': 'akhirat', 'tinggalkn': 'tinggalkan', 'rumh': 'rumah', 'mk': 'maka', 'trhtung': 'terhitung', 'naaaa': 'nya', 'ademmm': 'adem', 'cerdass': 'cerdas', 'tambahh': 'tambah', 'polll': 'pol', 'didengerin': 'didengarkan', 'mantapppppp': 'mantap', 'ngerespon': 'merespons', 'dulurrr': 'dulur', 'brusaha': 'berusaha', 'lebh': 'lebih', 'amin2': 'amin-amin', 'positippp': 'positif', 'jauuhhh': 'jauh', 'brhjb': 'berhijab', 'mdh2n': 'mudah-mudahan', 'slmnya': 'salamnya', 'jlbb': 'jilbab', 'dempga': 'semoga', 'selmnya': 'selamanya', 'tth': 'teteh', 'otot2': 'otot-otot', 'lengkeeett': 'lengket', 'caaannnttiikkk': 'cantik', 'trusss': 'terus', 'ademm': 'adem', 'apalagiii': 'apalagi', 'passs': 'pas', 'beginii': 'begini', 'satuu': 'satu', 'cuantek': 'cantik', 'akuuuur': 'akur', 'iniehh': 'ini', 'sayangx': 'sayangnya', 'jodohx': 'jodohnya', 'kaliaan': 'kalian', 'haslnya': 'hasilnya', 'kencng': 'kencang', 'pmbantu': 'pembantu', 'kmbl': 'kembali', 'cuchook': 'cocok', 'kloop': 'klop', 'sempurnaa': 'sempurna', 'klihatan': 'kelihatan', 'cintax': 'cintanya', 'pnuh': 'penuh', 'ngrti': 'mengerti', 'mudah\"an': 'mudah-mudahan', 'segala\"ny': 'segala-galanya', 'mantanny': 'mantannya', 'jodohny': 'jodohnya', 'cantk': 'cantik', 'ituuu': 'itu', 'kaasian': 'kasihan', 'padhl': 'padahal', 'ank\"': 'anak-anak', 'pkrin': 'pikirkan', 'anakx': 'anaknya', 'sia2kan': 'sia-siakan', 'naaahhh': 'nah', 'beluumm': 'belum', 'sayangggq': 'sayangku', 'kreean': 'keren', 'ciiieee': 'cie', 'cieee': 'cie', 'cieeee': 'cie', 'berenanh': 'berenang', 'pacarr': 'pacar', 'bingitss': 'banget', 'besokkk': 'besok', 'annnnjjjjjjrrrr': 'anjir', 'ngeliatin': 'melihati', 'ngumbar2': 'mengumbar-umbar', 'romantiss': 'romantis', 'cocook': 'cocok', 'lucuuuuuuuu': 'lucu', 'kaaaaaann': 'kan', 'nyaaaaaaa': 'nya', 'lgs': 'langsung', 'yaang': 'yang', 'bangedt': 'banget', 'gde': 'gede', 'lutunaaa': 'lucunya', 'bikinnn': 'bikin', 'keee': 'ke', 'bungkuuussss': 'bungkus', 'lucux': 'lucunya', 'bntr': 'bentar', 'buanyaaak': 'banyak', 'aaamiiinnn': 'amin', 'aaamiiin': 'amin', 'ntap': 'mantap', 'abgnyaah': 'abangnya', 'mungkiin': 'mungkin', 'akuhh': 'aku', 'manteb': 'mantap', 'hiduupppp': 'hidup', 'tebel': 'tebal', 'nganggepin': 'menanggapi', 'mentang\"': 'mentang-mentang', 'najiss': 'najis', 'perjabatt': 'pejabat', 'makany': 'makanya', 'benneeeeeerr': 'benar', 'krjaan': 'pekerjaan', 'kdng': 'kadang', 'kdang': 'kadang', 'knan': 'kanan', \"anak'y\": 'anaknya', 'trknal': 'terkenal', 'gtu\"': 'begitu-gitu', 'klok': 'kalo', 'aamiiiinnnnn': 'amin', 'pengennnn': 'pengin', 'guw': 'gue', 'siiiiiiippppppppp': 'sip', 'selaloe': 'selalu', 'donggg': 'dong', 'beruntungnyaaaa': 'beruntungnya', \"soal'y\": 'soalnya', 'prhatian': 'perhatian', 'hebaat': 'hebat', 'ampunn': 'ampun', 'gueeeee': 'gue', 'liatt': 'lihat', 'gehh': 'gih', 'ankknyaaa': 'anaknya', 'centilnyaaaaaa': 'centilnya', 'gemesshzzzzhzzhzhzhsjssjs': 'gemas', 'ngacaaa': 'mengaca', 'diaaa': 'dia', 'jirr': 'anjir', 'kayaa': 'kaya', 'cempreeng': 'cempreng', 'centillll': 'centil', 'pcran': 'pacaran', 'anedh': 'banget', 'ampyunnnn': 'ampun', 'boro2': 'boro-boro', 'nyta': 'nyata', 'kampungn': 'kampungan', 'j': 'saja', 'mnghina': 'menghina', 'ngolokin': 'mengolok', 'blum': 'belum', 'syirik\"': 'syirik-syirik', 'than': 'tahan', 'dsr': 'dasar', 'siriik': 'sirik', 'mampuuu': 'mampu', 'khan': 'kan', 'aduuhh': 'aduh', 'cemburuu': 'cemburu', 'bingitzzzz': 'banget', 'tlog': 'tolong', 'apasihhh': 'apasih', 'sirikk': 'sirik', 'dbnding': 'dibanding', 'nrka': 'neraka', 's3ndiri': 'sendiri', 'bhgiain': 'membahagiakan', 'kdua': 'kedua', 'prcya': 'percaya', 'bhagaia': 'bahagia', 'cuco': 'cocok', 'genittt': 'genit', 'kx': 'kak', 'mlikk': 'milik', 'mentah\"': 'mentah-mentah', 'canci': 'cantik', 'aneed': 'banget', 'gimanaa': 'bagaimana', 'lainnn': 'lain', 'pentingg': 'penting', 'bagaimanaaa': 'bagaimana', 'krudung': 'kerudung', 'enakkkkk': 'enak', 'poool': 'pol', 'jirrrr': 'anjir', 'oprasiya': 'operasinya', 'uwee': 'gue', 'pilihannny': 'pilihannya', 'itumahh': 'itumah', 'muuuu': 'mu', 'uuhhh': 'uh', 'berbakiti': 'berbakti', 'alhamd': 'alhamdulillah', 'slmttt': 'selamat', 'ucapin': 'mengucapkan', 'tetp': 'tetap', 'ditengah2': 'ditengah-tengah', 'semuanyaa': 'semuanya', 'semuannyaaa': 'semuanya', 'aminn2': 'amin-amin', 'abs': 'habis', \"kebnyak'an\": 'kebanyakan', 'melahirin': 'melahirkan', 'aduuuh': 'aduh', 'cakeep': 'cakep', 'lhooo': 'loh', 'kamuuuu': 'kamu', 'bagi2': 'bagi-bagi', 'gimn': 'bagaimana', 'smogaaa': 'semoga', 'biza': 'bisa', 'aamien': 'amien', 'lngsing': 'langsing', 'wowoooww': 'wow', 'smulla': 'semula', 'pdhall': 'padahal', 'blln': 'bulan', 'senang2': 'senang-senang', 'jh': 'saja', 'kereeennnn': 'keren', 'gilakkk': 'gila', 'gtu2': 'begitu-gitu', 'cpet': 'cepat', 'gataunya': 'tidak taunya', 'gtau': 'tidak tau', 'fans2': 'fan-fan', 'gaharus': 'tidak harus'}\n"
          ]
        }
      ]
    },
    {
      "cell_type": "code",
      "metadata": {
        "id": "EtWSdKGj-98h",
        "colab": {
          "base_uri": "https://localhost:8080/"
        },
        "outputId": "cd875eb0-5e82-4d64-969a-20aea8f98856"
      },
      "source": [
        "pip install sastrawi"
      ],
      "execution_count": 11,
      "outputs": [
        {
          "output_type": "stream",
          "name": "stdout",
          "text": [
            "Requirement already satisfied: sastrawi in /usr/local/lib/python3.7/dist-packages (1.0.1)\n"
          ]
        }
      ]
    },
    {
      "cell_type": "code",
      "metadata": {
        "id": "oyuytSvbebnH",
        "colab": {
          "base_uri": "https://localhost:8080/"
        },
        "outputId": "356ff766-28e7-4dc0-f562-8be72fe9694a"
      },
      "source": [
        "from Sastrawi.StopWordRemover.StopWordRemoverFactory import StopWordRemoverFactory\n",
        "from Sastrawi.Stemmer.StemmerFactory import StemmerFactory\n",
        "import re\n",
        "import string\n",
        "import nltk\n",
        "nltk.download('punkt')\n",
        "nltk.download('stopwords')"
      ],
      "execution_count": 12,
      "outputs": [
        {
          "output_type": "stream",
          "name": "stdout",
          "text": [
            "[nltk_data] Downloading package punkt to /root/nltk_data...\n",
            "[nltk_data]   Package punkt is already up-to-date!\n",
            "[nltk_data] Downloading package stopwords to /root/nltk_data...\n",
            "[nltk_data]   Package stopwords is already up-to-date!\n"
          ]
        },
        {
          "output_type": "execute_result",
          "data": {
            "text/plain": [
              "True"
            ]
          },
          "metadata": {},
          "execution_count": 12
        }
      ]
    },
    {
      "cell_type": "code",
      "metadata": {
        "id": "b8wmEuK2er8w"
      },
      "source": [
        "#Preprocessing Data\n",
        "\n",
        "def casefolding(text):\n",
        "  #case folding\n",
        "  text = text.lower() #membuat text menjadi lowercase\n",
        "  return text\n",
        "\n",
        "def filtering(text):\n",
        "  #filtering \n",
        "  text = re.sub(r\"\\d+\", \"\", text) #menghilangkan angka\n",
        "  text = text.translate(str.maketrans(\"\",\"\",string.punctuation)) #menghapus tanda baca\n",
        "  text = text.strip() #menghilangkan karakter kosong\n",
        "  text = re.compile(r'\\b( ' + '|'.join (b.keys())+r')\\b').sub(lambda x: b[x.group()],text) #mengubah slang word menjadi formal\n",
        "  return text \n",
        "\n",
        "def remove_emojis(text):\n",
        "  emoj = re.compile(\"[\"\n",
        "        u\"\\U0001F600-\\U0001F64F\"  # emoticons\n",
        "        u\"\\U0001F300-\\U0001F5FF\"  # symbols & pictographs\n",
        "        u\"\\U0001F680-\\U0001F6FF\"  # transport & map symbols\n",
        "        u\"\\U0001F1E0-\\U0001F1FF\"  # flags (iOS)\n",
        "        u\"\\U00002500-\\U00002BEF\"  # chinese char\n",
        "        u\"\\U00002702-\\U000027B0\"\n",
        "        u\"\\U00002702-\\U000027B0\"\n",
        "        u\"\\U000024C2-\\U0001F251\"\n",
        "        u\"\\U0001f926-\\U0001f937\"\n",
        "        u\"\\U00010000-\\U0010ffff\"\n",
        "        u\"\\u2640-\\u2642\" \n",
        "        u\"\\u2600-\\u2B55\"\n",
        "        u\"\\u200d\"\n",
        "        u\"\\u23cf\"\n",
        "        u\"\\u23e9\"\n",
        "        u\"\\u231a\"\n",
        "        u\"\\ufe0f\"  # dingbats\n",
        "        u\"\\u3030\"\n",
        "                      \"]+\", re.UNICODE)\n",
        "  return re.sub(emoj, '', text)\n",
        "\n",
        "def stopword(text):\n",
        "  factory = StopWordRemoverFactory()\n",
        "  stopword = factory.create_stop_word_remover()\n",
        "  text = stopword.remove(text)\n",
        "  return text\n",
        "\n",
        "def stemming(text):\n",
        "  factory = StemmerFactory()\n",
        "  stemmer = factory.create_stemmer()\n",
        "  text = stemmer.stem(text)\n",
        "  return text\n",
        "\n",
        "def teksbersih(text):\n",
        "  case_folding1 = casefolding(text)\n",
        "  filtering1 = filtering(case_folding1)\n",
        "  emoji1 = remove_emojis(filtering1)\n",
        "  stopword1 = stopword(emoji1)\n",
        "  stemming1 = stemming(stopword1)\n",
        "  return stemming1"
      ],
      "execution_count": 13,
      "outputs": []
    },
    {
      "cell_type": "code",
      "metadata": {
        "id": "KcjmJpVAFHXE"
      },
      "source": [
        "# databaru = databaru.apply(lambda x:teksbersih(x))\n",
        "# databaru.head()"
      ],
      "execution_count": 14,
      "outputs": []
    },
    {
      "cell_type": "code",
      "metadata": {
        "id": "clemRodNn0xx"
      },
      "source": [
        "# databaru.to_csv(\"datateksbersih.csv\")"
      ],
      "execution_count": 15,
      "outputs": []
    },
    {
      "cell_type": "code",
      "metadata": {
        "id": "dNQr_yGV7_p1"
      },
      "source": [
        "databaru = pd.read_csv(\"/content/datateksbersih.csv\")"
      ],
      "execution_count": 16,
      "outputs": []
    },
    {
      "cell_type": "code",
      "metadata": {
        "colab": {
          "base_uri": "https://localhost:8080/",
          "height": 417
        },
        "id": "1k_MEKPA8GG0",
        "outputId": "9a31c72f-9480-44ed-d34b-b49adfd6012c"
      },
      "source": [
        "databaru = databaru.dropna()\n",
        "databaru"
      ],
      "execution_count": 17,
      "outputs": [
        {
          "output_type": "execute_result",
          "data": {
            "text/html": [
              "<div>\n",
              "<style scoped>\n",
              "    .dataframe tbody tr th:only-of-type {\n",
              "        vertical-align: middle;\n",
              "    }\n",
              "\n",
              "    .dataframe tbody tr th {\n",
              "        vertical-align: top;\n",
              "    }\n",
              "\n",
              "    .dataframe thead th {\n",
              "        text-align: right;\n",
              "    }\n",
              "</style>\n",
              "<table border=\"1\" class=\"dataframe\">\n",
              "  <thead>\n",
              "    <tr style=\"text-align: right;\">\n",
              "      <th></th>\n",
              "      <th>content</th>\n",
              "    </tr>\n",
              "  </thead>\n",
              "  <tbody>\n",
              "    <tr>\n",
              "      <th>0</th>\n",
              "      <td>aplikasi tampil peta sebar covid tidak beri in...</td>\n",
              "    </tr>\n",
              "    <tr>\n",
              "      <th>1</th>\n",
              "      <td>aplikasi sampah menteri banyak buang uang apli...</td>\n",
              "    </tr>\n",
              "    <tr>\n",
              "      <th>2</th>\n",
              "      <td>info sebar peta valid samasekali cek beberapa ...</td>\n",
              "    </tr>\n",
              "    <tr>\n",
              "      <th>3</th>\n",
              "      <td>apa aplikasi kayak guna sama sekali jelas wakt...</td>\n",
              "    </tr>\n",
              "    <tr>\n",
              "      <th>4</th>\n",
              "      <td>baik kerja aplikasi banyak glitch error isi da...</td>\n",
              "    </tr>\n",
              "    <tr>\n",
              "      <th>...</th>\n",
              "      <td>...</td>\n",
              "    </tr>\n",
              "    <tr>\n",
              "      <th>640</th>\n",
              "      <td>manfaat informatif</td>\n",
              "    </tr>\n",
              "    <tr>\n",
              "      <th>641</th>\n",
              "      <td>siaaap</td>\n",
              "    </tr>\n",
              "    <tr>\n",
              "      <th>642</th>\n",
              "      <td>bagus</td>\n",
              "    </tr>\n",
              "    <tr>\n",
              "      <th>643</th>\n",
              "      <td>nya aplikasi moga covit hilang negara</td>\n",
              "    </tr>\n",
              "    <tr>\n",
              "      <th>644</th>\n",
              "      <td>sangat bantu tahu kembang covid seluruh indone...</td>\n",
              "    </tr>\n",
              "  </tbody>\n",
              "</table>\n",
              "<p>645 rows × 1 columns</p>\n",
              "</div>"
            ],
            "text/plain": [
              "                                               content\n",
              "0    aplikasi tampil peta sebar covid tidak beri in...\n",
              "1    aplikasi sampah menteri banyak buang uang apli...\n",
              "2    info sebar peta valid samasekali cek beberapa ...\n",
              "3    apa aplikasi kayak guna sama sekali jelas wakt...\n",
              "4    baik kerja aplikasi banyak glitch error isi da...\n",
              "..                                                 ...\n",
              "640                                 manfaat informatif\n",
              "641                                             siaaap\n",
              "642                                              bagus\n",
              "643              nya aplikasi moga covit hilang negara\n",
              "644  sangat bantu tahu kembang covid seluruh indone...\n",
              "\n",
              "[645 rows x 1 columns]"
            ]
          },
          "metadata": {},
          "execution_count": 17
        }
      ]
    },
    {
      "cell_type": "code",
      "metadata": {
        "colab": {
          "base_uri": "https://localhost:8080/"
        },
        "id": "CEyH0TDbx32r",
        "outputId": "aa5718d1-2140-4a9b-e950-6a81fb0bcf27"
      },
      "source": [
        "content = pd.array(databaru['content'],dtype=\"string\")\n",
        "content"
      ],
      "execution_count": 18,
      "outputs": [
        {
          "output_type": "execute_result",
          "data": {
            "text/plain": [
              "<StringArray>\n",
              "[       'aplikasi tampil peta sebar covid tidak beri informasi tarik halaman informasi tampil link tidak ada aplikasi perintah apa kait biasa belanja pasar link judi saran harap beri informasi baik halaman informasi masyarakat mudah paham bahaya covid',\n",
              " 'aplikasi sampah menteri banyak buang uang aplikasi akses coba baik aplikasi peduli lindung lengkap fiturnya jangan buat aplikasi hampir rupa padahal aplikasi bisa banyak fitur repot otak cuman buat aplikasi proyek simpul pribadi buang aplikasi titik',\n",
              "                                                                                                 'info sebar peta valid samasekali cek beberapa camat saya tau persis banyak orang positif di aplikasi tidak aplikasi formalitas doang buang uang uninstall',\n",
              "                                                                                                                                                     'apa aplikasi kayak guna sama sekali jelas waktu vaksin no telepon eh daftar habis update pasuk manual',\n",
              "                                                                                              'baik kerja aplikasi banyak glitch error isi data diri lokasi rumah tidak karena balik terus berulangkali isi tetap seperti sampai jenuh project perintah lho',\n",
              "                                                                                                                                                                                    'entah lah banyak bug sana sini contoh update data diri tidak di simpan',\n",
              "                                                                                                                                                                                           'masuk no telp paswordmuncul form lengkaptrus mau edit bagaimana',\n",
              "                                                                                       'aplikasi yangsubhanalloh buang duit negara masuk bikin id haloooohari begini integrasi sama imel lokasi vaksinasi ada searching kondisi wilayah gagal benar dahhhhh',\n",
              "                                                                                                                                                                    'fungsi apps apa isi profil bolakbalik terus akses lokasi tentu lokasi rumah tidak bisa',\n",
              "                                                                                                                      'ada kait sehat sebar spam virus iklan virus trojan komputer usaha rusak kuasa dunia nyata plis tobat bohong bukan manusia mata cipta',\n",
              " ...\n",
              "                                                                                                                                                                            'bagus tinggal deteksi lokasi kurang akurat diri kok lokasi sekarang di jakarta',\n",
              "                                                                                                                                           'satu satu buat ekonomi rakyat sa sama sama saling tunjang umum buat ekonomi satu tuju tuju gemah ripah loh jawi',\n",
              "                                                                                                                                                                                                                                                  'semangat',\n",
              "                                                                                                                                                                                                                         'moga covid ljd pergi nkri aminyra',\n",
              "                                                                                                                                                    'selalu pakai masker jaga jarak sering cuci tangan pakai sabun air alir moga covid cepat lalu muka bumi',\n",
              "                                                                                                                                                                                                                                        'manfaat informatif',\n",
              "                                                                                                                                                                                                                                                    'siaaap',\n",
              "                                                                                                                                                                                                                                                     'bagus',\n",
              "                                                                                                                                                                                                                     'nya aplikasi moga covit hilang negara',\n",
              "                                                                                                                                                                                     'sangat bantu tahu kembang covid seluruh indonesia kembang covid dunia']\n",
              "Length: 645, dtype: string"
            ]
          },
          "metadata": {},
          "execution_count": 18
        }
      ]
    },
    {
      "cell_type": "code",
      "metadata": {
        "id": "t85FY_A7Kmk_"
      },
      "source": [
        "from sklearn.feature_extraction.text import CountVectorizer\n",
        "from nltk.util import ngrams\n",
        "from pandas import DataFrame\n",
        "\n",
        "def term_matrix(pesan, vectorizer):\n",
        "  term_matrix1 = vectorizer.fit_transform(pesan)\n",
        "  return DataFrame(term_matrix1.toarray(),\n",
        "                   columns=vectorizer.get_feature_names())"
      ],
      "execution_count": 19,
      "outputs": []
    },
    {
      "cell_type": "code",
      "metadata": {
        "id": "4APGTQ8sMDIM",
        "colab": {
          "base_uri": "https://localhost:8080/",
          "height": 207
        },
        "outputId": "f0f5669d-5894-4f1a-8a4e-85a7f2bb33fb"
      },
      "source": [
        "count_vect=CountVectorizer(ngram_range=(1,2))\n",
        "bagofwords = term_matrix(content, count_vect)\n",
        "bagofwords[0:3]"
      ],
      "execution_count": 20,
      "outputs": [
        {
          "output_type": "execute_result",
          "data": {
            "text/html": [
              "<div>\n",
              "<style scoped>\n",
              "    .dataframe tbody tr th:only-of-type {\n",
              "        vertical-align: middle;\n",
              "    }\n",
              "\n",
              "    .dataframe tbody tr th {\n",
              "        vertical-align: top;\n",
              "    }\n",
              "\n",
              "    .dataframe thead th {\n",
              "        text-align: right;\n",
              "    }\n",
              "</style>\n",
              "<table border=\"1\" class=\"dataframe\">\n",
              "  <thead>\n",
              "    <tr style=\"text-align: right;\">\n",
              "      <th></th>\n",
              "      <th>aaah</th>\n",
              "      <th>aaah mah</th>\n",
              "      <th>abnormal</th>\n",
              "      <th>abnormal mohon</th>\n",
              "      <th>aceh</th>\n",
              "      <th>aceh per</th>\n",
              "      <th>aceng</th>\n",
              "      <th>ada</th>\n",
              "      <th>ada agama</th>\n",
              "      <th>ada aplikasi</th>\n",
              "      <th>ada atur</th>\n",
              "      <th>ada berapa</th>\n",
              "      <th>ada berita</th>\n",
              "      <th>ada bisa</th>\n",
              "      <th>ada covid</th>\n",
              "      <th>ada data</th>\n",
              "      <th>ada fitur</th>\n",
              "      <th>ada grafik</th>\n",
              "      <th>ada ikon</th>\n",
              "      <th>ada inti</th>\n",
              "      <th>ada kait</th>\n",
              "      <th>ada kode</th>\n",
              "      <th>ada koneksi</th>\n",
              "      <th>ada lonjak</th>\n",
              "      <th>ada luar</th>\n",
              "      <th>ada melarat</th>\n",
              "      <th>ada opsi</th>\n",
              "      <th>ada perintah</th>\n",
              "      <th>ada sama</th>\n",
              "      <th>ada searching</th>\n",
              "      <th>ada sekarang</th>\n",
              "      <th>ada sms</th>\n",
              "      <th>ada suspect</th>\n",
              "      <th>ada ubah</th>\n",
              "      <th>ada yang</th>\n",
              "      <th>adadimana</th>\n",
              "      <th>adadimana mana</th>\n",
              "      <th>adalah</th>\n",
              "      <th>adalah bukan</th>\n",
              "      <th>adalah masa</th>\n",
              "      <th>...</th>\n",
              "      <th>worldometer</th>\n",
              "      <th>worldometer terimakasih</th>\n",
              "      <th>wuhan</th>\n",
              "      <th>wuhan otg</th>\n",
              "      <th>wuhan sebar</th>\n",
              "      <th>wujud</th>\n",
              "      <th>wujud fokus</th>\n",
              "      <th>ya</th>\n",
              "      <th>ya tunggu</th>\n",
              "      <th>yang</th>\n",
              "      <th>yang baru</th>\n",
              "      <th>yang buat</th>\n",
              "      <th>yang butuh</th>\n",
              "      <th>yang hak</th>\n",
              "      <th>yang kali</th>\n",
              "      <th>yang kami</th>\n",
              "      <th>yang kemarin</th>\n",
              "      <th>yang kita</th>\n",
              "      <th>yang mumpuni</th>\n",
              "      <th>yang paling</th>\n",
              "      <th>yang sampai</th>\n",
              "      <th>yang sangat</th>\n",
              "      <th>yang sedang</th>\n",
              "      <th>yang sudah</th>\n",
              "      <th>yangsubhanalloh</th>\n",
              "      <th>yangsubhanalloh buang</th>\n",
              "      <th>yesus</th>\n",
              "      <th>yesus kati</th>\n",
              "      <th>ygtdk</th>\n",
              "      <th>ygtdk jujur</th>\n",
              "      <th>youtxjos</th>\n",
              "      <th>zoe</th>\n",
              "      <th>zoe is</th>\n",
              "      <th>zona</th>\n",
              "      <th>zona merah</th>\n",
              "      <th>zona sekitar</th>\n",
              "      <th>zonakabupaten</th>\n",
              "      <th>zonakabupaten ktrangan</th>\n",
              "      <th>zonasi</th>\n",
              "      <th>zonasi sesuai</th>\n",
              "    </tr>\n",
              "  </thead>\n",
              "  <tbody>\n",
              "    <tr>\n",
              "      <th>0</th>\n",
              "      <td>0</td>\n",
              "      <td>0</td>\n",
              "      <td>0</td>\n",
              "      <td>0</td>\n",
              "      <td>0</td>\n",
              "      <td>0</td>\n",
              "      <td>0</td>\n",
              "      <td>1</td>\n",
              "      <td>0</td>\n",
              "      <td>1</td>\n",
              "      <td>0</td>\n",
              "      <td>0</td>\n",
              "      <td>0</td>\n",
              "      <td>0</td>\n",
              "      <td>0</td>\n",
              "      <td>0</td>\n",
              "      <td>0</td>\n",
              "      <td>0</td>\n",
              "      <td>0</td>\n",
              "      <td>0</td>\n",
              "      <td>0</td>\n",
              "      <td>0</td>\n",
              "      <td>0</td>\n",
              "      <td>0</td>\n",
              "      <td>0</td>\n",
              "      <td>0</td>\n",
              "      <td>0</td>\n",
              "      <td>0</td>\n",
              "      <td>0</td>\n",
              "      <td>0</td>\n",
              "      <td>0</td>\n",
              "      <td>0</td>\n",
              "      <td>0</td>\n",
              "      <td>0</td>\n",
              "      <td>0</td>\n",
              "      <td>0</td>\n",
              "      <td>0</td>\n",
              "      <td>0</td>\n",
              "      <td>0</td>\n",
              "      <td>0</td>\n",
              "      <td>...</td>\n",
              "      <td>0</td>\n",
              "      <td>0</td>\n",
              "      <td>0</td>\n",
              "      <td>0</td>\n",
              "      <td>0</td>\n",
              "      <td>0</td>\n",
              "      <td>0</td>\n",
              "      <td>0</td>\n",
              "      <td>0</td>\n",
              "      <td>0</td>\n",
              "      <td>0</td>\n",
              "      <td>0</td>\n",
              "      <td>0</td>\n",
              "      <td>0</td>\n",
              "      <td>0</td>\n",
              "      <td>0</td>\n",
              "      <td>0</td>\n",
              "      <td>0</td>\n",
              "      <td>0</td>\n",
              "      <td>0</td>\n",
              "      <td>0</td>\n",
              "      <td>0</td>\n",
              "      <td>0</td>\n",
              "      <td>0</td>\n",
              "      <td>0</td>\n",
              "      <td>0</td>\n",
              "      <td>0</td>\n",
              "      <td>0</td>\n",
              "      <td>0</td>\n",
              "      <td>0</td>\n",
              "      <td>0</td>\n",
              "      <td>0</td>\n",
              "      <td>0</td>\n",
              "      <td>0</td>\n",
              "      <td>0</td>\n",
              "      <td>0</td>\n",
              "      <td>0</td>\n",
              "      <td>0</td>\n",
              "      <td>0</td>\n",
              "      <td>0</td>\n",
              "    </tr>\n",
              "    <tr>\n",
              "      <th>1</th>\n",
              "      <td>0</td>\n",
              "      <td>0</td>\n",
              "      <td>0</td>\n",
              "      <td>0</td>\n",
              "      <td>0</td>\n",
              "      <td>0</td>\n",
              "      <td>0</td>\n",
              "      <td>0</td>\n",
              "      <td>0</td>\n",
              "      <td>0</td>\n",
              "      <td>0</td>\n",
              "      <td>0</td>\n",
              "      <td>0</td>\n",
              "      <td>0</td>\n",
              "      <td>0</td>\n",
              "      <td>0</td>\n",
              "      <td>0</td>\n",
              "      <td>0</td>\n",
              "      <td>0</td>\n",
              "      <td>0</td>\n",
              "      <td>0</td>\n",
              "      <td>0</td>\n",
              "      <td>0</td>\n",
              "      <td>0</td>\n",
              "      <td>0</td>\n",
              "      <td>0</td>\n",
              "      <td>0</td>\n",
              "      <td>0</td>\n",
              "      <td>0</td>\n",
              "      <td>0</td>\n",
              "      <td>0</td>\n",
              "      <td>0</td>\n",
              "      <td>0</td>\n",
              "      <td>0</td>\n",
              "      <td>0</td>\n",
              "      <td>0</td>\n",
              "      <td>0</td>\n",
              "      <td>0</td>\n",
              "      <td>0</td>\n",
              "      <td>0</td>\n",
              "      <td>...</td>\n",
              "      <td>0</td>\n",
              "      <td>0</td>\n",
              "      <td>0</td>\n",
              "      <td>0</td>\n",
              "      <td>0</td>\n",
              "      <td>0</td>\n",
              "      <td>0</td>\n",
              "      <td>0</td>\n",
              "      <td>0</td>\n",
              "      <td>0</td>\n",
              "      <td>0</td>\n",
              "      <td>0</td>\n",
              "      <td>0</td>\n",
              "      <td>0</td>\n",
              "      <td>0</td>\n",
              "      <td>0</td>\n",
              "      <td>0</td>\n",
              "      <td>0</td>\n",
              "      <td>0</td>\n",
              "      <td>0</td>\n",
              "      <td>0</td>\n",
              "      <td>0</td>\n",
              "      <td>0</td>\n",
              "      <td>0</td>\n",
              "      <td>0</td>\n",
              "      <td>0</td>\n",
              "      <td>0</td>\n",
              "      <td>0</td>\n",
              "      <td>0</td>\n",
              "      <td>0</td>\n",
              "      <td>0</td>\n",
              "      <td>0</td>\n",
              "      <td>0</td>\n",
              "      <td>0</td>\n",
              "      <td>0</td>\n",
              "      <td>0</td>\n",
              "      <td>0</td>\n",
              "      <td>0</td>\n",
              "      <td>0</td>\n",
              "      <td>0</td>\n",
              "    </tr>\n",
              "    <tr>\n",
              "      <th>2</th>\n",
              "      <td>0</td>\n",
              "      <td>0</td>\n",
              "      <td>0</td>\n",
              "      <td>0</td>\n",
              "      <td>0</td>\n",
              "      <td>0</td>\n",
              "      <td>0</td>\n",
              "      <td>0</td>\n",
              "      <td>0</td>\n",
              "      <td>0</td>\n",
              "      <td>0</td>\n",
              "      <td>0</td>\n",
              "      <td>0</td>\n",
              "      <td>0</td>\n",
              "      <td>0</td>\n",
              "      <td>0</td>\n",
              "      <td>0</td>\n",
              "      <td>0</td>\n",
              "      <td>0</td>\n",
              "      <td>0</td>\n",
              "      <td>0</td>\n",
              "      <td>0</td>\n",
              "      <td>0</td>\n",
              "      <td>0</td>\n",
              "      <td>0</td>\n",
              "      <td>0</td>\n",
              "      <td>0</td>\n",
              "      <td>0</td>\n",
              "      <td>0</td>\n",
              "      <td>0</td>\n",
              "      <td>0</td>\n",
              "      <td>0</td>\n",
              "      <td>0</td>\n",
              "      <td>0</td>\n",
              "      <td>0</td>\n",
              "      <td>0</td>\n",
              "      <td>0</td>\n",
              "      <td>0</td>\n",
              "      <td>0</td>\n",
              "      <td>0</td>\n",
              "      <td>...</td>\n",
              "      <td>0</td>\n",
              "      <td>0</td>\n",
              "      <td>0</td>\n",
              "      <td>0</td>\n",
              "      <td>0</td>\n",
              "      <td>0</td>\n",
              "      <td>0</td>\n",
              "      <td>0</td>\n",
              "      <td>0</td>\n",
              "      <td>0</td>\n",
              "      <td>0</td>\n",
              "      <td>0</td>\n",
              "      <td>0</td>\n",
              "      <td>0</td>\n",
              "      <td>0</td>\n",
              "      <td>0</td>\n",
              "      <td>0</td>\n",
              "      <td>0</td>\n",
              "      <td>0</td>\n",
              "      <td>0</td>\n",
              "      <td>0</td>\n",
              "      <td>0</td>\n",
              "      <td>0</td>\n",
              "      <td>0</td>\n",
              "      <td>0</td>\n",
              "      <td>0</td>\n",
              "      <td>0</td>\n",
              "      <td>0</td>\n",
              "      <td>0</td>\n",
              "      <td>0</td>\n",
              "      <td>0</td>\n",
              "      <td>0</td>\n",
              "      <td>0</td>\n",
              "      <td>0</td>\n",
              "      <td>0</td>\n",
              "      <td>0</td>\n",
              "      <td>0</td>\n",
              "      <td>0</td>\n",
              "      <td>0</td>\n",
              "      <td>0</td>\n",
              "    </tr>\n",
              "  </tbody>\n",
              "</table>\n",
              "<p>3 rows × 4625 columns</p>\n",
              "</div>"
            ],
            "text/plain": [
              "   aaah  aaah mah  abnormal  ...  zonakabupaten ktrangan  zonasi  zonasi sesuai\n",
              "0     0         0         0  ...                       0       0              0\n",
              "1     0         0         0  ...                       0       0              0\n",
              "2     0         0         0  ...                       0       0              0\n",
              "\n",
              "[3 rows x 4625 columns]"
            ]
          },
          "metadata": {},
          "execution_count": 20
        }
      ]
    },
    {
      "cell_type": "code",
      "metadata": {
        "id": "2DGGEYzmQKHc"
      },
      "source": [
        "wordpositif = pd.read_csv(\"/content/positive.txt\", header=None)\n",
        "wordnegatif = pd.read_csv(\"/content/negative.txt\", header=None)"
      ],
      "execution_count": 21,
      "outputs": []
    },
    {
      "cell_type": "code",
      "metadata": {
        "id": "-tInnyXNn4WL"
      },
      "source": [
        "wordpositif.columns = ['positif']\n",
        "wordnegatif.columns = ['negatif']"
      ],
      "execution_count": 22,
      "outputs": []
    },
    {
      "cell_type": "code",
      "metadata": {
        "id": "T1-GMt9bVMIm"
      },
      "source": [
        "negatifbaru = ['orang positif',\n",
        "               'uninstall',\n",
        "               'buang',\n",
        "               'glitch',\n",
        "               'error',\n",
        "               'jenuh',\n",
        "               'hilang',\n",
        "               'covid',\n",
        "               'odp',\n",
        "               'pdp',\n",
        "               'otg']"
      ],
      "execution_count": 23,
      "outputs": []
    },
    {
      "cell_type": "code",
      "metadata": {
        "id": "I4UV3tYQtgFd"
      },
      "source": [
        "for newneg in negatifbaru:\n",
        "  wordnegatif = wordnegatif.append({'negatif': newneg}, ignore_index=True,sort=True)"
      ],
      "execution_count": 24,
      "outputs": []
    },
    {
      "cell_type": "code",
      "metadata": {
        "id": "Urf_HmblnmkM"
      },
      "source": [
        "wordpositif1 = wordpositif.values.tolist()\n",
        "wordnegatif1 = wordnegatif.values.tolist()\n",
        "\n",
        "flatten_positif = []\n",
        "flatten_negatif = []\n",
        "  \n",
        "for sublist in wordpositif1:\n",
        "  for val in sublist:\n",
        "    flatten_positif.append(val)\n",
        "\n",
        "for sublist in wordnegatif1:\n",
        "  for val in sublist:\n",
        "    flatten_negatif.append(val)"
      ],
      "execution_count": 25,
      "outputs": []
    },
    {
      "cell_type": "code",
      "metadata": {
        "id": "mcJA0wFeZAO5"
      },
      "source": [
        "word_negatif = []\n",
        "for text in flatten_negatif:\n",
        "  case_folding = casefolding(text)\n",
        "  word_negatif.append(case_folding)\n",
        "\n",
        "word_positif = []\n",
        "for text in flatten_positif:\n",
        "  case_folding = casefolding(text)\n",
        "  word_positif.append(case_folding)"
      ],
      "execution_count": 26,
      "outputs": []
    },
    {
      "cell_type": "code",
      "metadata": {
        "id": "NodXKCITepFF"
      },
      "source": [
        "countpositif = 0\n",
        "countnegatif = 0\n",
        "i=0\n",
        "j=0\n",
        "scoresentimen = 0\n",
        "totalpositif=0\n",
        "totalnegatif=0\n",
        "totalnetral=0\n",
        "sentimen = []\n",
        "\n",
        "for i in range(len(bagofwords)):\n",
        "  data = {}\n",
        "  for j in range(len(bagofwords.columns)):\n",
        "    if bagofwords.at[i,bagofwords.columns[j]] != 0 and bagofwords.columns.values[j] in word_positif:\n",
        "      countpositif+=1\n",
        "      data[\"totalpositif\"] = countpositif\n",
        "    elif bagofwords.at[i,bagofwords.columns[j]] != 0 and bagofwords.columns.values[j] in word_negatif:\n",
        "      countnegatif+=1\n",
        "      data[\"totalnegatif\"] = countnegatif\n",
        "  palingbesar = 0\n",
        "  if countpositif > countnegatif:\n",
        "    palingbesar = countpositif\n",
        "  else:\n",
        "    palingbesar = countnegatif\n",
        "  scoresentimen = countpositif - countnegatif\n",
        "  if scoresentimen == 0:\n",
        "    data[\"sentimen\"] = \"netral\"\n",
        "    totalnetral+=1\n",
        "  else:\n",
        "    scoresentimen = scoresentimen / palingbesar\n",
        "    if scoresentimen >= 0.5:\n",
        "      data[\"sentimen\"] = \"positif\"\n",
        "      totalpositif+=1\n",
        "    elif scoresentimen <= -0.5:\n",
        "      data[\"sentimen\"] = \"negatif\"\n",
        "      totalnegatif+=1\n",
        "    else:\n",
        "      data[\"sentimen\"] = \"netral\"\n",
        "      totalnetral+=1\n",
        "\n",
        "  sentimen.append(data)\n",
        "\n",
        "  countpositif=0\n",
        "  countnegatif=0\n",
        " \n",
        "dframe = pd.DataFrame(sentimen)"
      ],
      "execution_count": 27,
      "outputs": []
    },
    {
      "cell_type": "code",
      "metadata": {
        "id": "35qBRrOC1-nS",
        "colab": {
          "base_uri": "https://localhost:8080/",
          "height": 357
        },
        "outputId": "bbc8c1bd-d563-4631-8426-06dae75170c5"
      },
      "source": [
        "data = pd.concat([databaru,dframe],axis=1,join=\"inner\")\n",
        "data[:10]"
      ],
      "execution_count": 28,
      "outputs": [
        {
          "output_type": "execute_result",
          "data": {
            "text/html": [
              "<div>\n",
              "<style scoped>\n",
              "    .dataframe tbody tr th:only-of-type {\n",
              "        vertical-align: middle;\n",
              "    }\n",
              "\n",
              "    .dataframe tbody tr th {\n",
              "        vertical-align: top;\n",
              "    }\n",
              "\n",
              "    .dataframe thead th {\n",
              "        text-align: right;\n",
              "    }\n",
              "</style>\n",
              "<table border=\"1\" class=\"dataframe\">\n",
              "  <thead>\n",
              "    <tr style=\"text-align: right;\">\n",
              "      <th></th>\n",
              "      <th>content</th>\n",
              "      <th>totalnegatif</th>\n",
              "      <th>totalpositif</th>\n",
              "      <th>sentimen</th>\n",
              "    </tr>\n",
              "  </thead>\n",
              "  <tbody>\n",
              "    <tr>\n",
              "      <th>0</th>\n",
              "      <td>aplikasi tampil peta sebar covid tidak beri in...</td>\n",
              "      <td>5.0</td>\n",
              "      <td>2.0</td>\n",
              "      <td>negatif</td>\n",
              "    </tr>\n",
              "    <tr>\n",
              "      <th>1</th>\n",
              "      <td>aplikasi sampah menteri banyak buang uang apli...</td>\n",
              "      <td>4.0</td>\n",
              "      <td>2.0</td>\n",
              "      <td>negatif</td>\n",
              "    </tr>\n",
              "    <tr>\n",
              "      <th>2</th>\n",
              "      <td>info sebar peta valid samasekali cek beberapa ...</td>\n",
              "      <td>4.0</td>\n",
              "      <td>2.0</td>\n",
              "      <td>negatif</td>\n",
              "    </tr>\n",
              "    <tr>\n",
              "      <th>3</th>\n",
              "      <td>apa aplikasi kayak guna sama sekali jelas wakt...</td>\n",
              "      <td>1.0</td>\n",
              "      <td>2.0</td>\n",
              "      <td>positif</td>\n",
              "    </tr>\n",
              "    <tr>\n",
              "      <th>4</th>\n",
              "      <td>baik kerja aplikasi banyak glitch error isi da...</td>\n",
              "      <td>4.0</td>\n",
              "      <td>4.0</td>\n",
              "      <td>netral</td>\n",
              "    </tr>\n",
              "    <tr>\n",
              "      <th>5</th>\n",
              "      <td>entah lah banyak bug sana sini contoh update d...</td>\n",
              "      <td>2.0</td>\n",
              "      <td>2.0</td>\n",
              "      <td>netral</td>\n",
              "    </tr>\n",
              "    <tr>\n",
              "      <th>6</th>\n",
              "      <td>masuk no telp paswordmuncul form lengkaptrus m...</td>\n",
              "      <td>NaN</td>\n",
              "      <td>NaN</td>\n",
              "      <td>netral</td>\n",
              "    </tr>\n",
              "    <tr>\n",
              "      <th>7</th>\n",
              "      <td>aplikasi yangsubhanalloh buang duit negara mas...</td>\n",
              "      <td>2.0</td>\n",
              "      <td>1.0</td>\n",
              "      <td>negatif</td>\n",
              "    </tr>\n",
              "    <tr>\n",
              "      <th>8</th>\n",
              "      <td>fungsi apps apa isi profil bolakbalik terus ak...</td>\n",
              "      <td>1.0</td>\n",
              "      <td>NaN</td>\n",
              "      <td>negatif</td>\n",
              "    </tr>\n",
              "    <tr>\n",
              "      <th>9</th>\n",
              "      <td>ada kait sehat sebar spam virus iklan virus tr...</td>\n",
              "      <td>3.0</td>\n",
              "      <td>2.0</td>\n",
              "      <td>netral</td>\n",
              "    </tr>\n",
              "  </tbody>\n",
              "</table>\n",
              "</div>"
            ],
            "text/plain": [
              "                                             content  ...  sentimen\n",
              "0  aplikasi tampil peta sebar covid tidak beri in...  ...   negatif\n",
              "1  aplikasi sampah menteri banyak buang uang apli...  ...   negatif\n",
              "2  info sebar peta valid samasekali cek beberapa ...  ...   negatif\n",
              "3  apa aplikasi kayak guna sama sekali jelas wakt...  ...   positif\n",
              "4  baik kerja aplikasi banyak glitch error isi da...  ...    netral\n",
              "5  entah lah banyak bug sana sini contoh update d...  ...    netral\n",
              "6  masuk no telp paswordmuncul form lengkaptrus m...  ...    netral\n",
              "7  aplikasi yangsubhanalloh buang duit negara mas...  ...   negatif\n",
              "8  fungsi apps apa isi profil bolakbalik terus ak...  ...   negatif\n",
              "9  ada kait sehat sebar spam virus iklan virus tr...  ...    netral\n",
              "\n",
              "[10 rows x 4 columns]"
            ]
          },
          "metadata": {},
          "execution_count": 28
        }
      ]
    },
    {
      "cell_type": "code",
      "metadata": {
        "id": "5dlWmjUfniOb"
      },
      "source": [
        "data.to_csv('data1.csv')"
      ],
      "execution_count": 29,
      "outputs": []
    },
    {
      "cell_type": "code",
      "metadata": {
        "colab": {
          "base_uri": "https://localhost:8080/"
        },
        "id": "0VPkN_RFrKH2",
        "outputId": "e184093d-8633-4272-c7ae-f7b045a1bc4b"
      },
      "source": [
        "countpos=0\n",
        "countneg=0\n",
        "countnet=0\n",
        "for i in data[\"sentimen\"]:\n",
        "  if i == \"positif\":\n",
        "    countpos+=1\n",
        "  elif i == \"negatif\":\n",
        "    countneg+=1\n",
        "  else:\n",
        "    countnet+=1\n",
        "print(countpos,countneg,countnet)"
      ],
      "execution_count": 30,
      "outputs": [
        {
          "output_type": "stream",
          "name": "stdout",
          "text": [
            "202 188 255\n"
          ]
        }
      ]
    },
    {
      "cell_type": "code",
      "metadata": {
        "id": "pHOcXNne8vwn"
      },
      "source": [
        "countpos=0\n",
        "countneg=0\n",
        "countnet=0\n",
        "c = []\n",
        "j = 0\n",
        "\n",
        "for i in range(len(data)):\n",
        "  das = {}\n",
        "  if data['sentimen'][i] == \"positif\":\n",
        "    if countpos < 180:\n",
        "      das[\"content\"] = data[\"content\"][j]\n",
        "      das[\"sentimen\"] = data[\"sentimen\"][j]\n",
        "      das[\"totalpositif\"] = data[\"totalpositif\"][j]\n",
        "      das[\"totalnegatif\"] = data[\"totalnegatif\"][j]\n",
        "      c.append(das)\n",
        "      countpos+=1\n",
        "    j+=1\n",
        "  elif data['sentimen'][i] == \"negatif\":\n",
        "    if countneg < 180:\n",
        "      das[\"content\"] = data[\"content\"][j]\n",
        "      das[\"sentimen\"] = data[\"sentimen\"][j]\n",
        "      das[\"totalpositif\"] = data[\"totalpositif\"][j]\n",
        "      das[\"totalnegatif\"] = data[\"totalnegatif\"][j]\n",
        "      c.append(das)\n",
        "      countneg+=1\n",
        "    j+=1\n",
        "  else:\n",
        "    if countnet < 180:\n",
        "      das[\"content\"] = data[\"content\"][j]\n",
        "      das[\"sentimen\"] = data[\"sentimen\"][j]\n",
        "      das[\"totalpositif\"] = data[\"totalpositif\"][j]\n",
        "      das[\"totalnegatif\"] = data[\"totalnegatif\"][j]\n",
        "      c.append(das)\n",
        "      countnet+=1\n",
        "    j+=1\n",
        "c = pd.DataFrame(c)"
      ],
      "execution_count": 31,
      "outputs": []
    },
    {
      "cell_type": "code",
      "metadata": {
        "id": "P1g2pPGx3tzo"
      },
      "source": [
        "X = c[\"content\"]\n",
        "y = c[\"sentimen\"]"
      ],
      "execution_count": 32,
      "outputs": []
    },
    {
      "cell_type": "code",
      "metadata": {
        "id": "GU9uMECwEGbs"
      },
      "source": [
        "from sklearn.model_selection import train_test_split\n",
        " \n",
        "X_train, X_test, y_train, y_test = train_test_split(\n",
        "           X, y, test_size = 0.2, random_state = 0, stratify = y)"
      ],
      "execution_count": 33,
      "outputs": []
    },
    {
      "cell_type": "code",
      "metadata": {
        "colab": {
          "base_uri": "https://localhost:8080/"
        },
        "id": "-FPORRYahjut",
        "outputId": "47fdfad6-847f-4203-ba20-9b378ce403a2"
      },
      "source": [
        "print(y_test.value_counts())\n",
        "print(y_train.value_counts())"
      ],
      "execution_count": 34,
      "outputs": [
        {
          "output_type": "stream",
          "name": "stdout",
          "text": [
            "negatif    36\n",
            "netral     36\n",
            "positif    36\n",
            "Name: sentimen, dtype: int64\n",
            "negatif    144\n",
            "positif    144\n",
            "netral     144\n",
            "Name: sentimen, dtype: int64\n"
          ]
        }
      ]
    },
    {
      "cell_type": "code",
      "metadata": {
        "id": "8PeStdF153dM"
      },
      "source": [
        "X_train = count_vect.fit_transform(X_train).toarray()\n",
        "y_train = y_train.values"
      ],
      "execution_count": 35,
      "outputs": []
    },
    {
      "cell_type": "code",
      "metadata": {
        "id": "tegx9UWjEhVT",
        "colab": {
          "base_uri": "https://localhost:8080/"
        },
        "outputId": "1708426d-23b9-4a7c-9d2c-dd8d4c279435"
      },
      "source": [
        "from sklearn.naive_bayes import MultinomialNB\n",
        "from sklearn.metrics import confusion_matrix, classification_report, accuracy_score\n",
        " \n",
        "classifier = MultinomialNB();\n",
        "classifier.fit(X_train, y_train)"
      ],
      "execution_count": 36,
      "outputs": [
        {
          "output_type": "execute_result",
          "data": {
            "text/plain": [
              "MultinomialNB(alpha=1.0, class_prior=None, fit_prior=True)"
            ]
          },
          "metadata": {},
          "execution_count": 36
        }
      ]
    },
    {
      "cell_type": "code",
      "metadata": {
        "id": "fCVu4bYT8xYK"
      },
      "source": [
        "y_pred1 = classifier.predict(X_train)"
      ],
      "execution_count": 37,
      "outputs": []
    },
    {
      "cell_type": "code",
      "metadata": {
        "colab": {
          "base_uri": "https://localhost:8080/"
        },
        "id": "0o1OvGg982_1",
        "outputId": "4995976b-03bb-4e45-e55d-4a873779a500"
      },
      "source": [
        "print(classification_report(y_train,y_pred1))"
      ],
      "execution_count": 38,
      "outputs": [
        {
          "output_type": "stream",
          "name": "stdout",
          "text": [
            "              precision    recall  f1-score   support\n",
            "\n",
            "     negatif       0.99      0.97      0.98       144\n",
            "      netral       0.96      0.95      0.96       144\n",
            "     positif       0.97      0.99      0.98       144\n",
            "\n",
            "    accuracy                           0.97       432\n",
            "   macro avg       0.97      0.97      0.97       432\n",
            "weighted avg       0.97      0.97      0.97       432\n",
            "\n"
          ]
        }
      ]
    },
    {
      "cell_type": "code",
      "metadata": {
        "id": "jd1j15fn1TIG"
      },
      "source": [
        "import pickle\n",
        "f = open('my_classifier.pickle', 'wb')\n",
        "pickle.dump(classifier, f)\n",
        "pickle.dump(count_vect,f)\n",
        "f.close()"
      ],
      "execution_count": 39,
      "outputs": []
    },
    {
      "cell_type": "code",
      "metadata": {
        "id": "0QL_aPVR3QMS"
      },
      "source": [
        "import pickle\n",
        "f = open('my_classifier.pickle', 'rb')\n",
        "classifier = pickle.load(f)\n",
        "count_vect = pickle.load(f)\n",
        "f.close()"
      ],
      "execution_count": 40,
      "outputs": []
    },
    {
      "cell_type": "code",
      "metadata": {
        "id": "DhhN4VQi5Nok"
      },
      "source": [
        "X_test = count_vect.transform(X_test).toarray()\n",
        "y_test = y_test.values"
      ],
      "execution_count": 41,
      "outputs": []
    },
    {
      "cell_type": "code",
      "metadata": {
        "id": "PYxhPSlC4lK0"
      },
      "source": [
        "y_pred = classifier.predict(X_test)"
      ],
      "execution_count": 42,
      "outputs": []
    },
    {
      "cell_type": "code",
      "metadata": {
        "id": "DDswZRFWF96T",
        "colab": {
          "base_uri": "https://localhost:8080/"
        },
        "outputId": "92b192ef-5f76-4c0c-c1ee-4870219da2a4"
      },
      "source": [
        "print(classification_report(y_test,y_pred))"
      ],
      "execution_count": 43,
      "outputs": [
        {
          "output_type": "stream",
          "name": "stdout",
          "text": [
            "              precision    recall  f1-score   support\n",
            "\n",
            "     negatif       0.75      0.83      0.79        36\n",
            "      netral       0.88      0.78      0.82        36\n",
            "     positif       0.86      0.86      0.86        36\n",
            "\n",
            "    accuracy                           0.82       108\n",
            "   macro avg       0.83      0.82      0.82       108\n",
            "weighted avg       0.83      0.82      0.82       108\n",
            "\n"
          ]
        }
      ]
    },
    {
      "cell_type": "code",
      "metadata": {
        "id": "BIFQdPzs0mj-"
      },
      "source": [
        "df = pd.DataFrame(list(zip(y_test, y_pred)),\n",
        "               columns =['aktual', 'prediksi'])"
      ],
      "execution_count": 44,
      "outputs": []
    },
    {
      "cell_type": "code",
      "metadata": {
        "id": "JT4h0NlAD0Sr",
        "colab": {
          "base_uri": "https://localhost:8080/"
        },
        "outputId": "f44645a8-d490-403f-f3f2-48b1be4ea00e"
      },
      "source": [
        "totalpositifpred=0\n",
        "totalnegatifpred=0\n",
        "totalnetralpred=0\n",
        "\n",
        "for i in range(len(df)):\n",
        "  if df.prediksi.values[i] == 'positif':\n",
        "    totalpositifpred+=1\n",
        "  elif df.prediksi.values[i] == 'netral':\n",
        "    totalnetralpred+=1\n",
        "  else:\n",
        "    totalnegatifpred+=1\n",
        "\n",
        "print(totalpositifpred,totalnetralpred,totalnegatifpred)"
      ],
      "execution_count": 45,
      "outputs": [
        {
          "output_type": "stream",
          "name": "stdout",
          "text": [
            "36 32 40\n"
          ]
        }
      ]
    },
    {
      "cell_type": "code",
      "metadata": {
        "id": "cKhJctw_FOTy",
        "colab": {
          "base_uri": "https://localhost:8080/"
        },
        "outputId": "35dff139-9582-46bd-9fb5-b9b4e8fc6a89"
      },
      "source": [
        "nilaihasilprediksipositif = (totalpositifpred/len(df))*100\n",
        "nilaihasilprediksinetral = (totalnetralpred/len(df))*100\n",
        "nilaihasilprediksinegatif = (totalnegatifpred/len(df))*100\n",
        "print(nilaihasilprediksipositif,'%')\n",
        "print(nilaihasilprediksinetral,'%')\n",
        "print(nilaihasilprediksinegatif,'%')"
      ],
      "execution_count": 46,
      "outputs": [
        {
          "output_type": "stream",
          "name": "stdout",
          "text": [
            "33.33333333333333 %\n",
            "29.629629629629626 %\n",
            "37.03703703703704 %\n"
          ]
        }
      ]
    },
    {
      "cell_type": "code",
      "metadata": {
        "id": "2wBW7wOv4nwa"
      },
      "source": [
        "cm = confusion_matrix(y_test, y_pred)"
      ],
      "execution_count": 47,
      "outputs": []
    },
    {
      "cell_type": "code",
      "metadata": {
        "id": "Wi_H4hziNZpS",
        "colab": {
          "base_uri": "https://localhost:8080/",
          "height": 409
        },
        "outputId": "425c8b96-6af9-4723-b8d1-8aed35b04ff1"
      },
      "source": [
        "import seaborn as sns\n",
        "import matplotlib.pyplot as plt\n",
        "import numpy as np\n",
        "\n",
        "plt.figure(figsize=(8,6))\n",
        "sns.heatmap(cm,\n",
        "            annot=True,\n",
        "            xticklabels = ['Negatif','Netral','Positif'], \n",
        "            yticklabels = ['Negatif','Netral','Positif'])\n",
        "plt.title('Confusion Matrix dengan Data Test',fontdict={'size':20})\n",
        "plt.ylabel('Actual Values')\n",
        "plt.xlabel('Predicted Values')\n",
        "plt.show()"
      ],
      "execution_count": 48,
      "outputs": [
        {
          "output_type": "display_data",
          "data": {
            "image/png": "[encoded data removed]",
            "text/plain": [
              "<Figure size 576x432 with 2 Axes>"
            ]
          },
          "metadata": {
            "needs_background": "light"
          }
        }
      ]
    },
    {
      "cell_type": "code",
      "metadata": {
        "id": "ZeV1OYh8wleZ",
        "colab": {
          "base_uri": "https://localhost:8080/",
          "height": 319
        },
        "outputId": "e3a2ba80-9530-4782-ec9a-da388dee5e06"
      },
      "source": [
        "fig = plt.figure()\n",
        "axes = fig.add_axes([0,0,1,1])\n",
        "label = ['Positif','Netral','Negatif']\n",
        "nilai = [nilaihasilprediksipositif,nilaihasilprediksinetral,nilaihasilprediksinegatif]\n",
        "axes = plt.pie(nilai,labels=label,autopct='%1.2f%%')"
      ],
      "execution_count": 49,
      "outputs": [
        {
          "output_type": "display_data",
          "data": {
            "image/png": "[encoded data removed]",
            "text/plain": [
              "<Figure size 432x288 with 1 Axes>"
            ]
          },
          "metadata": {}
        }
      ]
    },
    {
      "cell_type": "code",
      "metadata": {
        "colab": {
          "base_uri": "https://localhost:8080/",
          "height": 1000
        },
        "id": "WRb5A5rzTP_Y",
        "outputId": "4af9eb7a-94ed-4f75-c473-28a38b4b38e8"
      },
      "source": [
        "dataframe = pd.read_csv('m.csv')\n",
        "dataframe"
      ],
      "execution_count": 50,
      "outputs": [
        {
          "output_type": "execute_result",
          "data": {
            "text/html": [
              "<div>\n",
              "<style scoped>\n",
              "    .dataframe tbody tr th:only-of-type {\n",
              "        vertical-align: middle;\n",
              "    }\n",
              "\n",
              "    .dataframe tbody tr th {\n",
              "        vertical-align: top;\n",
              "    }\n",
              "\n",
              "    .dataframe thead th {\n",
              "        text-align: right;\n",
              "    }\n",
              "</style>\n",
              "<table border=\"1\" class=\"dataframe\">\n",
              "  <thead>\n",
              "    <tr style=\"text-align: right;\">\n",
              "      <th></th>\n",
              "      <th>Unnamed: 0</th>\n",
              "      <th>content</th>\n",
              "      <th>sentimen</th>\n",
              "    </tr>\n",
              "  </thead>\n",
              "  <tbody>\n",
              "    <tr>\n",
              "      <th>0</th>\n",
              "      <td>0</td>\n",
              "      <td>juang penuh tantang bahkan nyawa jadi taruh mo...</td>\n",
              "      <td>positif</td>\n",
              "    </tr>\n",
              "    <tr>\n",
              "      <th>1</th>\n",
              "      <td>1</td>\n",
              "      <td>kasih suka slogan cuma slogan nama slogan bukt...</td>\n",
              "      <td>positif</td>\n",
              "    </tr>\n",
              "    <tr>\n",
              "      <th>2</th>\n",
              "      <td>2</td>\n",
              "      <td>zoe is kmeanwhile and t v ere ffffeuwh et qte ...</td>\n",
              "      <td>netral</td>\n",
              "    </tr>\n",
              "    <tr>\n",
              "      <th>3</th>\n",
              "      <td>3</td>\n",
              "      <td>ayo kitawaspada copik</td>\n",
              "      <td>positif</td>\n",
              "    </tr>\n",
              "    <tr>\n",
              "      <th>4</th>\n",
              "      <td>4</td>\n",
              "      <td>oke</td>\n",
              "      <td>positif</td>\n",
              "    </tr>\n",
              "    <tr>\n",
              "      <th>5</th>\n",
              "      <td>5</td>\n",
              "      <td>bagus tahu yang paling rentan covid jadi lebih...</td>\n",
              "      <td>positif</td>\n",
              "    </tr>\n",
              "    <tr>\n",
              "      <th>6</th>\n",
              "      <td>6</td>\n",
              "      <td>ikut</td>\n",
              "      <td>netral</td>\n",
              "    </tr>\n",
              "    <tr>\n",
              "      <th>7</th>\n",
              "      <td>7</td>\n",
              "      <td>selamat juang hidup tetap jalan walaupun keaad...</td>\n",
              "      <td>positif</td>\n",
              "    </tr>\n",
              "    <tr>\n",
              "      <th>8</th>\n",
              "      <td>8</td>\n",
              "      <td>stayathome lawancovid</td>\n",
              "      <td>positif</td>\n",
              "    </tr>\n",
              "    <tr>\n",
              "      <th>9</th>\n",
              "      <td>9</td>\n",
              "      <td>mantap</td>\n",
              "      <td>positif</td>\n",
              "    </tr>\n",
              "    <tr>\n",
              "      <th>10</th>\n",
              "      <td>10</td>\n",
              "      <td>kode verifikasi lewat sms lama kirim terima er...</td>\n",
              "      <td>negatif</td>\n",
              "    </tr>\n",
              "    <tr>\n",
              "      <th>11</th>\n",
              "      <td>11</td>\n",
              "      <td>info aplikasi sangat manfaat masyarakat shares...</td>\n",
              "      <td>positif</td>\n",
              "    </tr>\n",
              "    <tr>\n",
              "      <th>12</th>\n",
              "      <td>12</td>\n",
              "      <td>orang thudan thunsy mau vaksin bandung barat r...</td>\n",
              "      <td>netral</td>\n",
              "    </tr>\n",
              "    <tr>\n",
              "      <th>13</th>\n",
              "      <td>13</td>\n",
              "      <td>sudah vaksin tanggal sms sertifikasi pertama m...</td>\n",
              "      <td>netral</td>\n",
              "    </tr>\n",
              "    <tr>\n",
              "      <th>14</th>\n",
              "      <td>14</td>\n",
              "      <td>benar covid jangan lawan hindarikalau kita tem...</td>\n",
              "      <td>positif</td>\n",
              "    </tr>\n",
              "    <tr>\n",
              "      <th>15</th>\n",
              "      <td>15</td>\n",
              "      <td>aplikasi bagus tahu info kabar tambah total ka...</td>\n",
              "      <td>positif</td>\n",
              "    </tr>\n",
              "    <tr>\n",
              "      <th>16</th>\n",
              "      <td>16</td>\n",
              "      <td>sekarang satu lawan cowok belum optimal</td>\n",
              "      <td>negatif</td>\n",
              "    </tr>\n",
              "    <tr>\n",
              "      <th>17</th>\n",
              "      <td>17</td>\n",
              "      <td>selalu pakai masker jaga jarak sering cuci tan...</td>\n",
              "      <td>positif</td>\n",
              "    </tr>\n",
              "    <tr>\n",
              "      <th>18</th>\n",
              "      <td>18</td>\n",
              "      <td>saya bisa login</td>\n",
              "      <td>netral</td>\n",
              "    </tr>\n",
              "    <tr>\n",
              "      <th>19</th>\n",
              "      <td>19</td>\n",
              "      <td>baik n beri ajar hidup sehat lawan pandemi covid</td>\n",
              "      <td>positif</td>\n",
              "    </tr>\n",
              "    <tr>\n",
              "      <th>20</th>\n",
              "      <td>20</td>\n",
              "      <td>aplikasi sangat bantu dapat tahu kembang covid</td>\n",
              "      <td>positif</td>\n",
              "    </tr>\n",
              "    <tr>\n",
              "      <th>21</th>\n",
              "      <td>21</td>\n",
              "      <td>sangat bantu tahu ada covid waktu waktu</td>\n",
              "      <td>positif</td>\n",
              "    </tr>\n",
              "    <tr>\n",
              "      <th>22</th>\n",
              "      <td>22</td>\n",
              "      <td>mungkin perlu baik biar lebih mudah masyarakat...</td>\n",
              "      <td>netral</td>\n",
              "    </tr>\n",
              "    <tr>\n",
              "      <th>23</th>\n",
              "      <td>23</td>\n",
              "      <td>aplikasi sangat bantu ikut perkemb ngan covid</td>\n",
              "      <td>positif</td>\n",
              "    </tr>\n",
              "    <tr>\n",
              "      <th>24</th>\n",
              "      <td>24</td>\n",
              "      <td>aplikasi sangat bantu informasi covid</td>\n",
              "      <td>positif</td>\n",
              "    </tr>\n",
              "    <tr>\n",
              "      <th>25</th>\n",
              "      <td>25</td>\n",
              "      <td>tuhan yesus kati</td>\n",
              "      <td>positif</td>\n",
              "    </tr>\n",
              "    <tr>\n",
              "      <th>26</th>\n",
              "      <td>26</td>\n",
              "      <td>terimakasih tahu ada luar</td>\n",
              "      <td>positif</td>\n",
              "    </tr>\n",
              "    <tr>\n",
              "      <th>27</th>\n",
              "      <td>27</td>\n",
              "      <td>kerja atas kapal singapore</td>\n",
              "      <td>netral</td>\n",
              "    </tr>\n",
              "    <tr>\n",
              "      <th>28</th>\n",
              "      <td>28</td>\n",
              "      <td>info aplikasi sangat manfaat masyarakat shares...</td>\n",
              "      <td>positif</td>\n",
              "    </tr>\n",
              "    <tr>\n",
              "      <th>29</th>\n",
              "      <td>29</td>\n",
              "      <td>bagus</td>\n",
              "      <td>positif</td>\n",
              "    </tr>\n",
              "    <tr>\n",
              "      <th>30</th>\n",
              "      <td>30</td>\n",
              "      <td>bagus cukup bantu agar tau apa info</td>\n",
              "      <td>positif</td>\n",
              "    </tr>\n",
              "    <tr>\n",
              "      <th>31</th>\n",
              "      <td>31</td>\n",
              "      <td>bagus</td>\n",
              "      <td>positif</td>\n",
              "    </tr>\n",
              "    <tr>\n",
              "      <th>32</th>\n",
              "      <td>32</td>\n",
              "      <td>aplikasi bantu update sebar sakit kita waspada...</td>\n",
              "      <td>positif</td>\n",
              "    </tr>\n",
              "    <tr>\n",
              "      <th>33</th>\n",
              "      <td>33</td>\n",
              "      <td>utama sehat lalu bersih</td>\n",
              "      <td>positif</td>\n",
              "    </tr>\n",
              "    <tr>\n",
              "      <th>34</th>\n",
              "      <td>34</td>\n",
              "      <td>terima kasih</td>\n",
              "      <td>positif</td>\n",
              "    </tr>\n",
              "    <tr>\n",
              "      <th>35</th>\n",
              "      <td>35</td>\n",
              "      <td>bagus</td>\n",
              "      <td>positif</td>\n",
              "    </tr>\n",
              "    <tr>\n",
              "      <th>36</th>\n",
              "      <td>36</td>\n",
              "      <td>saya bisa login</td>\n",
              "      <td>netral</td>\n",
              "    </tr>\n",
              "    <tr>\n",
              "      <th>37</th>\n",
              "      <td>37</td>\n",
              "      <td>moga cepat bebas covid semangat</td>\n",
              "      <td>positif</td>\n",
              "    </tr>\n",
              "    <tr>\n",
              "      <th>38</th>\n",
              "      <td>38</td>\n",
              "      <td>bagus</td>\n",
              "      <td>positif</td>\n",
              "    </tr>\n",
              "    <tr>\n",
              "      <th>39</th>\n",
              "      <td>39</td>\n",
              "      <td>tuhan yesus kati</td>\n",
              "      <td>positif</td>\n",
              "    </tr>\n",
              "    <tr>\n",
              "      <th>40</th>\n",
              "      <td>40</td>\n",
              "      <td>bagus</td>\n",
              "      <td>positif</td>\n",
              "    </tr>\n",
              "    <tr>\n",
              "      <th>41</th>\n",
              "      <td>41</td>\n",
              "      <td>satu</td>\n",
              "      <td>netral</td>\n",
              "    </tr>\n",
              "    <tr>\n",
              "      <th>42</th>\n",
              "      <td>42</td>\n",
              "      <td>bagus app</td>\n",
              "      <td>positif</td>\n",
              "    </tr>\n",
              "    <tr>\n",
              "      <th>43</th>\n",
              "      <td>43</td>\n",
              "      <td>bagus</td>\n",
              "      <td>positif</td>\n",
              "    </tr>\n",
              "    <tr>\n",
              "      <th>44</th>\n",
              "      <td>44</td>\n",
              "      <td>aplikasi bagus tahu info kabar tambah total ka...</td>\n",
              "      <td>positif</td>\n",
              "    </tr>\n",
              "    <tr>\n",
              "      <th>45</th>\n",
              "      <td>45</td>\n",
              "      <td>tetap sehat semangat</td>\n",
              "      <td>positif</td>\n",
              "    </tr>\n",
              "    <tr>\n",
              "      <th>46</th>\n",
              "      <td>46</td>\n",
              "      <td>sekarang satu lawan cowok belum optimal</td>\n",
              "      <td>negatif</td>\n",
              "    </tr>\n",
              "    <tr>\n",
              "      <th>47</th>\n",
              "      <td>47</td>\n",
              "      <td>masyarakat sehat indonesia kuat</td>\n",
              "      <td>positif</td>\n",
              "    </tr>\n",
              "    <tr>\n",
              "      <th>48</th>\n",
              "      <td>48</td>\n",
              "      <td>aplikasi sangat bantu ikut perkemb ngan covid</td>\n",
              "      <td>positif</td>\n",
              "    </tr>\n",
              "    <tr>\n",
              "      <th>49</th>\n",
              "      <td>49</td>\n",
              "      <td>bagus sekali</td>\n",
              "      <td>positif</td>\n",
              "    </tr>\n",
              "    <tr>\n",
              "      <th>50</th>\n",
              "      <td>50</td>\n",
              "      <td>baik</td>\n",
              "      <td>positif</td>\n",
              "    </tr>\n",
              "    <tr>\n",
              "      <th>51</th>\n",
              "      <td>51</td>\n",
              "      <td>semangat</td>\n",
              "      <td>positif</td>\n",
              "    </tr>\n",
              "    <tr>\n",
              "      <th>52</th>\n",
              "      <td>52</td>\n",
              "      <td>selalu pakai masker jaga jarak sering cuci tan...</td>\n",
              "      <td>positif</td>\n",
              "    </tr>\n",
              "    <tr>\n",
              "      <th>53</th>\n",
              "      <td>53</td>\n",
              "      <td>manfaat informatif</td>\n",
              "      <td>positif</td>\n",
              "    </tr>\n",
              "    <tr>\n",
              "      <th>54</th>\n",
              "      <td>54</td>\n",
              "      <td>bagus</td>\n",
              "      <td>positif</td>\n",
              "    </tr>\n",
              "  </tbody>\n",
              "</table>\n",
              "</div>"
            ],
            "text/plain": [
              "    Unnamed: 0                                            content sentimen\n",
              "0            0  juang penuh tantang bahkan nyawa jadi taruh mo...  positif\n",
              "1            1  kasih suka slogan cuma slogan nama slogan bukt...  positif\n",
              "2            2  zoe is kmeanwhile and t v ere ffffeuwh et qte ...   netral\n",
              "3            3                              ayo kitawaspada copik  positif\n",
              "4            4                                                oke  positif\n",
              "5            5  bagus tahu yang paling rentan covid jadi lebih...  positif\n",
              "6            6                                               ikut   netral\n",
              "7            7  selamat juang hidup tetap jalan walaupun keaad...  positif\n",
              "8            8                              stayathome lawancovid  positif\n",
              "9            9                                             mantap  positif\n",
              "10          10  kode verifikasi lewat sms lama kirim terima er...  negatif\n",
              "11          11  info aplikasi sangat manfaat masyarakat shares...  positif\n",
              "12          12  orang thudan thunsy mau vaksin bandung barat r...   netral\n",
              "13          13  sudah vaksin tanggal sms sertifikasi pertama m...   netral\n",
              "14          14  benar covid jangan lawan hindarikalau kita tem...  positif\n",
              "15          15  aplikasi bagus tahu info kabar tambah total ka...  positif\n",
              "16          16            sekarang satu lawan cowok belum optimal  negatif\n",
              "17          17  selalu pakai masker jaga jarak sering cuci tan...  positif\n",
              "18          18                                    saya bisa login   netral\n",
              "19          19   baik n beri ajar hidup sehat lawan pandemi covid  positif\n",
              "20          20     aplikasi sangat bantu dapat tahu kembang covid  positif\n",
              "21          21            sangat bantu tahu ada covid waktu waktu  positif\n",
              "22          22  mungkin perlu baik biar lebih mudah masyarakat...   netral\n",
              "23          23      aplikasi sangat bantu ikut perkemb ngan covid  positif\n",
              "24          24              aplikasi sangat bantu informasi covid  positif\n",
              "25          25                                   tuhan yesus kati  positif\n",
              "26          26                          terimakasih tahu ada luar  positif\n",
              "27          27                         kerja atas kapal singapore   netral\n",
              "28          28  info aplikasi sangat manfaat masyarakat shares...  positif\n",
              "29          29                                              bagus  positif\n",
              "30          30                bagus cukup bantu agar tau apa info  positif\n",
              "31          31                                              bagus  positif\n",
              "32          32  aplikasi bantu update sebar sakit kita waspada...  positif\n",
              "33          33                            utama sehat lalu bersih  positif\n",
              "34          34                                       terima kasih  positif\n",
              "35          35                                              bagus  positif\n",
              "36          36                                    saya bisa login   netral\n",
              "37          37                    moga cepat bebas covid semangat  positif\n",
              "38          38                                              bagus  positif\n",
              "39          39                                   tuhan yesus kati  positif\n",
              "40          40                                              bagus  positif\n",
              "41          41                                               satu   netral\n",
              "42          42                                          bagus app  positif\n",
              "43          43                                              bagus  positif\n",
              "44          44  aplikasi bagus tahu info kabar tambah total ka...  positif\n",
              "45          45                               tetap sehat semangat  positif\n",
              "46          46            sekarang satu lawan cowok belum optimal  negatif\n",
              "47          47                    masyarakat sehat indonesia kuat  positif\n",
              "48          48      aplikasi sangat bantu ikut perkemb ngan covid  positif\n",
              "49          49                                       bagus sekali  positif\n",
              "50          50                                               baik  positif\n",
              "51          51                                           semangat  positif\n",
              "52          52  selalu pakai masker jaga jarak sering cuci tan...  positif\n",
              "53          53                                 manfaat informatif  positif\n",
              "54          54                                              bagus  positif"
            ]
          },
          "metadata": {},
          "execution_count": 50
        }
      ]
    },
    {
      "cell_type": "code",
      "metadata": {
        "id": "BzVtT3F2TUbQ"
      },
      "source": [
        "dataframe1 = dataframe.iloc[:,1]"
      ],
      "execution_count": null,
      "outputs": []
    },
    {
      "cell_type": "code",
      "metadata": {
        "id": "zpexiv6gTX3Z"
      },
      "source": [
        "dataframe1 = dataframe1.apply(lambda x:teksbersih(x))"
      ],
      "execution_count": null,
      "outputs": []
    },
    {
      "cell_type": "code",
      "metadata": {
        "colab": {
          "base_uri": "https://localhost:8080/"
        },
        "id": "TEKD8xJoTZtb",
        "outputId": "804f1018-4265-48ba-e206-e133094a0dff"
      },
      "source": [
        "uji = count_vect.transform(dataframe1).toarray()\n",
        "uji"
      ],
      "execution_count": 53,
      "outputs": [
        {
          "output_type": "execute_result",
          "data": {
            "text/plain": [
              "array([[0, 0, 0, ..., 0, 0, 0],\n",
              "       [0, 0, 0, ..., 0, 0, 0],\n",
              "       [0, 0, 0, ..., 0, 0, 0],\n",
              "       ...,\n",
              "       [0, 0, 0, ..., 0, 0, 0],\n",
              "       [0, 0, 0, ..., 0, 0, 0],\n",
              "       [0, 0, 0, ..., 0, 0, 0]])"
            ]
          },
          "metadata": {},
          "execution_count": 53
        }
      ]
    },
    {
      "cell_type": "code",
      "metadata": {
        "id": "iZUw6NRfTbNo"
      },
      "source": [
        "prediksi = classifier.predict(uji)"
      ],
      "execution_count": 54,
      "outputs": []
    },
    {
      "cell_type": "code",
      "metadata": {
        "id": "qDO98WrYTdC7"
      },
      "source": [
        "dataframe['prediksisentimen'] = prediksi\n",
        "dataframe"
      ],
      "execution_count": null,
      "outputs": []
    },
    {
      "cell_type": "code",
      "metadata": {
        "id": "Z3RcOX08ThZf"
      },
      "source": [
        "dataframe.to_csv('dataframesetelahuji.csv')"
      ],
      "execution_count": 56,
      "outputs": []
    },
    {
      "cell_type": "code",
      "metadata": {
        "colab": {
          "base_uri": "https://localhost:8080/"
        },
        "id": "qXw-Ak62Tkb0",
        "outputId": "0289abc6-0c3a-4b40-8781-d8ad22d673b4"
      },
      "source": [
        "cmpred = confusion_matrix(dataframe['sentimen'], dataframe['prediksisentimen'])\n",
        "cmpred"
      ],
      "execution_count": 57,
      "outputs": [
        {
          "output_type": "execute_result",
          "data": {
            "text/plain": [
              "array([[ 3,  0,  0],\n",
              "       [ 0,  7,  2],\n",
              "       [ 2,  6, 35]])"
            ]
          },
          "metadata": {},
          "execution_count": 57
        }
      ]
    },
    {
      "cell_type": "code",
      "metadata": {
        "colab": {
          "base_uri": "https://localhost:8080/",
          "height": 409
        },
        "id": "XBNy0GykTmFI",
        "outputId": "1f82916a-bcdb-49a4-de24-bf5ceb7b1ce7"
      },
      "source": [
        "plt.figure(figsize=(8,6))\n",
        "sns.heatmap(cmpred,\n",
        "            annot=True,\n",
        "            xticklabels = ['Negatif','Netral','Positif'], \n",
        "            yticklabels = ['Negatif','Netral','Positif'])\n",
        "plt.title('Confusion Matrix dengan Data Baru',fontdict={'size':20})\n",
        "plt.ylabel('Actual Values')\n",
        "plt.xlabel('Predicted Values')\n",
        "plt.show()"
      ],
      "execution_count": 58,
      "outputs": [
        {
          "output_type": "display_data",
          "data": {
            "image/png": "[encoded data removed]",
            "text/plain": [
              "<Figure size 576x432 with 2 Axes>"
            ]
          },
          "metadata": {
            "needs_background": "light"
          }
        }
      ]
    },
    {
      "cell_type": "code",
      "metadata": {
        "colab": {
          "base_uri": "https://localhost:8080/"
        },
        "id": "gVMhl052To6E",
        "outputId": "78000c7c-8a30-4978-b3e9-d3ee275bcb39"
      },
      "source": [
        "print(classification_report(dataframe['sentimen'], dataframe['prediksisentimen']))"
      ],
      "execution_count": 59,
      "outputs": [
        {
          "output_type": "stream",
          "name": "stdout",
          "text": [
            "              precision    recall  f1-score   support\n",
            "\n",
            "     negatif       0.60      1.00      0.75         3\n",
            "      netral       0.54      0.78      0.64         9\n",
            "     positif       0.95      0.81      0.88        43\n",
            "\n",
            "    accuracy                           0.82        55\n",
            "   macro avg       0.69      0.86      0.75        55\n",
            "weighted avg       0.86      0.82      0.83        55\n",
            "\n"
          ]
        }
      ]
    },
    {
      "cell_type": "code",
      "metadata": {
        "colab": {
          "base_uri": "https://localhost:8080/"
        },
        "id": "miClXoO0TrLf",
        "outputId": "12f4da7d-ae6a-4674-d148-59e24c4e0d14"
      },
      "source": [
        "totalpositifpred=0\n",
        "totalnegatifpred=0\n",
        "totalnetralpred=0\n",
        "\n",
        "for i in range(len(dataframe)):\n",
        "  if dataframe.prediksisentimen.values[i] == 'positif':\n",
        "    totalpositifpred+=1\n",
        "  elif dataframe.prediksisentimen.values[i] == 'netral':\n",
        "    totalnetralpred+=1\n",
        "  else:\n",
        "    totalnegatifpred+=1\n",
        "\n",
        "print(totalpositifpred,totalnetralpred,totalnegatifpred)"
      ],
      "execution_count": 60,
      "outputs": [
        {
          "output_type": "stream",
          "name": "stdout",
          "text": [
            "37 13 5\n"
          ]
        }
      ]
    },
    {
      "cell_type": "code",
      "metadata": {
        "colab": {
          "base_uri": "https://localhost:8080/"
        },
        "id": "I_aDOkWyTs9n",
        "outputId": "e64d6481-1f12-48c6-c50f-3c6190014e84"
      },
      "source": [
        "nilaihasilprediksipositif = (totalpositifpred/len(dataframe))*100\n",
        "nilaihasilprediksinetral = (totalnetralpred/len(dataframe))*100\n",
        "nilaihasilprediksinegatif = (totalnegatifpred/len(dataframe))*100\n",
        "print(nilaihasilprediksipositif,'%')\n",
        "print(nilaihasilprediksinetral,'%')\n",
        "print(nilaihasilprediksinegatif,'%')"
      ],
      "execution_count": 61,
      "outputs": [
        {
          "output_type": "stream",
          "name": "stdout",
          "text": [
            "67.27272727272727 %\n",
            "23.636363636363637 %\n",
            "9.090909090909092 %\n"
          ]
        }
      ]
    },
    {
      "cell_type": "code",
      "metadata": {
        "colab": {
          "base_uri": "https://localhost:8080/",
          "height": 319
        },
        "id": "-qTVol96Tue3",
        "outputId": "cdbfa677-d383-4ce9-a00b-e5edc7c8d98e"
      },
      "source": [
        "fig = plt.figure()\n",
        "axes = fig.add_axes([0,0,1,1])\n",
        "label = ['Positif','Netral','Negatif']\n",
        "nilai = [nilaihasilprediksipositif,nilaihasilprediksinetral,nilaihasilprediksinegatif]\n",
        "axes = plt.pie(nilai,labels=label,autopct='%1.2f%%')"
      ],
      "execution_count": 62,
      "outputs": [
        {
          "output_type": "display_data",
          "data": {
            "image/png": "[encoded data removed]",
            "text/plain": [
              "<Figure size 432x288 with 1 Axes>"
            ]
          },
          "metadata": {}
        }
      ]
    }
  ]
}